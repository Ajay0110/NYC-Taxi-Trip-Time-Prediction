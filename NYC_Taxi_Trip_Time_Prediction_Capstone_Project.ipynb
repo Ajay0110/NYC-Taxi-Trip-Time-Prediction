{
  "cells": [
    {
      "cell_type": "markdown",
      "metadata": {
        "id": "view-in-github",
        "colab_type": "text"
      },
      "source": [
        "<a href=\"https://colab.research.google.com/github/Ajay0110/NYC-Taxi-Trip-Time-Prediction/blob/main/NYC_Taxi_Trip_Time_Prediction_Capstone_Project.ipynb\" target=\"_parent\"><img src=\"https://colab.research.google.com/assets/colab-badge.svg\" alt=\"Open In Colab\"/></a>"
      ]
    },
    {
      "cell_type": "markdown",
      "metadata": {
        "id": "tOGC-qoyhJeX"
      },
      "source": [
        "# <b><u> Project Title : Taxi trip time Prediction : Predicting total ride duration of taxi trips in New York City</u></b>"
      ]
    },
    {
      "cell_type": "markdown",
      "metadata": {
        "id": "Y06xIdG26kRF"
      },
      "source": [
        "## <b> Problem Description </b>\n",
        "\n",
        "### Your task is to build a model that predicts the total ride duration of taxi trips in New York City. Your primary dataset is one released by the NYC Taxi and Limousine Commission, which includes pickup time, geo-coordinates, number of passengers, and several other variables."
      ]
    },
    {
      "cell_type": "markdown",
      "metadata": {
        "id": "WWeU1f9bwqQq"
      },
      "source": [
        "## <b> Data Description </b>\n",
        "\n",
        "### The dataset is based on the 2016 NYC Yellow Cab trip record data made available in Big Query on Google Cloud Platform. The data was originally published by the NYC Taxi and Limousine Commission (TLC). The data was sampled and cleaned for the purposes of this project. Based on individual trip attributes, you should predict the duration of each trip in the test set.\n",
        "\n",
        "### <b>NYC Taxi Data.csv</b> - the training set (contains 1458644 trip records)\n",
        "\n",
        "\n",
        "### Data fields\n",
        "* #### id - a unique identifier for each trip\n",
        "* #### vendor_id - a code indicating the provider associated with the trip record\n",
        "* #### pickup_datetime - date and time when the meter was engaged\n",
        "* #### dropoff_datetime - date and time when the meter was disengaged\n",
        "* #### passenger_count - the number of passengers in the vehicle (driver entered value)\n",
        "* #### pickup_longitude - the longitude where the meter was engaged\n",
        "* #### pickup_latitude - the latitude where the meter was engaged\n",
        "* #### dropoff_longitude - the longitude where the meter was disengaged\n",
        "* #### dropoff_latitude - the latitude where the meter was disengaged\n",
        "* #### store_and_fwd_flag - This flag indicates whether the trip record was held in vehicle memory before sending to the vendor because the vehicle did not have a connection to the server - Y=store and forward; N=not a store and forward trip\n",
        "* #### trip_duration - duration of the trip in seconds"
      ]
    },
    {
      "cell_type": "markdown",
      "metadata": {
        "id": "rHWvydtx3ydx"
      },
      "source": [
        "### Importing libraries"
      ]
    },
    {
      "cell_type": "code",
      "execution_count": 1,
      "metadata": {
        "colab": {
          "base_uri": "https://localhost:8080/"
        },
        "id": "R7OKPSAm10qq",
        "outputId": "fe07a6ee-2db4-4fcb-a818-4cc99d82299c"
      },
      "outputs": [
        {
          "output_type": "stream",
          "name": "stderr",
          "text": [
            "/usr/local/lib/python3.7/dist-packages/statsmodels/tools/_testing.py:19: FutureWarning: pandas.util.testing is deprecated. Use the functions in the public API at pandas.testing instead.\n",
            "  import pandas.util.testing as tm\n"
          ]
        }
      ],
      "source": [
        "import numpy as np\n",
        "import pandas as pd\n",
        "import seaborn as sns\n",
        "import matplotlib.pyplot as plt\n",
        "import datetime as dt\n",
        "from sklearn.linear_model import LinearRegression\n",
        "from sklearn import metrics\n",
        "from sklearn.model_selection import train_test_split, GridSearchCV\n",
        "import statsmodels.formula.api as sm\n",
        "from sklearn.model_selection import learning_curve\n",
        "from sklearn.model_selection import ShuffleSplit"
      ]
    },
    {
      "cell_type": "markdown",
      "metadata": {
        "id": "8cHO3ic23x3x"
      },
      "source": [
        "### Connecting Google Drive"
      ]
    },
    {
      "cell_type": "code",
      "execution_count": 2,
      "metadata": {
        "colab": {
          "base_uri": "https://localhost:8080/"
        },
        "id": "Zh16Ek_P1Rpl",
        "outputId": "1ef1a81e-1c20-4c22-e015-1a73cf412d56"
      },
      "outputs": [
        {
          "output_type": "stream",
          "name": "stdout",
          "text": [
            "Mounted at /content/drive\n"
          ]
        }
      ],
      "source": [
        "from google.colab import drive\n",
        "drive.mount('/content/drive')"
      ]
    },
    {
      "cell_type": "markdown",
      "metadata": {
        "id": "rBavhXFI4FvJ"
      },
      "source": [
        "### Setting up path to the csv file"
      ]
    },
    {
      "cell_type": "code",
      "execution_count": 3,
      "metadata": {
        "id": "QZlhZcX31dQa"
      },
      "outputs": [],
      "source": [
        "taxi_df = pd.read_csv(\"/content/drive/MyDrive/Colab Notebooks/EDA/Regression EDA Capstone Project/NYC Taxi Data.csv\")"
      ]
    },
    {
      "cell_type": "markdown",
      "metadata": {
        "id": "PPY_rxxu4Mxp"
      },
      "source": [
        "### Checking the shape of the dataset"
      ]
    },
    {
      "cell_type": "code",
      "execution_count": 4,
      "metadata": {
        "colab": {
          "base_uri": "https://localhost:8080/"
        },
        "id": "kvNpkDDX2Hdy",
        "outputId": "c7e2d70e-7061-4196-a820-85ba8f4279c8"
      },
      "outputs": [
        {
          "output_type": "execute_result",
          "data": {
            "text/plain": [
              "(1458644, 11)"
            ]
          },
          "metadata": {},
          "execution_count": 4
        }
      ],
      "source": [
        "taxi_df.shape"
      ]
    },
    {
      "cell_type": "markdown",
      "metadata": {
        "id": "5e1oMxg09Uw4"
      },
      "source": [
        "### As we can see there are 1458644 rows and 11 columns."
      ]
    },
    {
      "cell_type": "markdown",
      "metadata": {
        "id": "EcubiNee4UVR"
      },
      "source": [
        "### Dataframe's Head and Tail"
      ]
    },
    {
      "cell_type": "code",
      "execution_count": 5,
      "metadata": {
        "colab": {
          "base_uri": "https://localhost:8080/",
          "height": 206
        },
        "id": "4KIT4OqC2e2S",
        "outputId": "52f4dac5-eba1-40c4-cde7-3f16270a72fb"
      },
      "outputs": [
        {
          "output_type": "execute_result",
          "data": {
            "text/plain": [
              "          id  vendor_id      pickup_datetime     dropoff_datetime  \\\n",
              "0  id2875421          2  2016-03-14 17:24:55  2016-03-14 17:32:30   \n",
              "1  id2377394          1  2016-06-12 00:43:35  2016-06-12 00:54:38   \n",
              "2  id3858529          2  2016-01-19 11:35:24  2016-01-19 12:10:48   \n",
              "3  id3504673          2  2016-04-06 19:32:31  2016-04-06 19:39:40   \n",
              "4  id2181028          2  2016-03-26 13:30:55  2016-03-26 13:38:10   \n",
              "\n",
              "   passenger_count  pickup_longitude  pickup_latitude  dropoff_longitude  \\\n",
              "0                1        -73.982155        40.767937         -73.964630   \n",
              "1                1        -73.980415        40.738564         -73.999481   \n",
              "2                1        -73.979027        40.763939         -74.005333   \n",
              "3                1        -74.010040        40.719971         -74.012268   \n",
              "4                1        -73.973053        40.793209         -73.972923   \n",
              "\n",
              "   dropoff_latitude store_and_fwd_flag  trip_duration  \n",
              "0         40.765602                  N            455  \n",
              "1         40.731152                  N            663  \n",
              "2         40.710087                  N           2124  \n",
              "3         40.706718                  N            429  \n",
              "4         40.782520                  N            435  "
            ],
            "text/html": [
              "\n",
              "  <div id=\"df-89b1891f-7b5a-41dc-9a1f-a8fa9b9ecdcb\">\n",
              "    <div class=\"colab-df-container\">\n",
              "      <div>\n",
              "<style scoped>\n",
              "    .dataframe tbody tr th:only-of-type {\n",
              "        vertical-align: middle;\n",
              "    }\n",
              "\n",
              "    .dataframe tbody tr th {\n",
              "        vertical-align: top;\n",
              "    }\n",
              "\n",
              "    .dataframe thead th {\n",
              "        text-align: right;\n",
              "    }\n",
              "</style>\n",
              "<table border=\"1\" class=\"dataframe\">\n",
              "  <thead>\n",
              "    <tr style=\"text-align: right;\">\n",
              "      <th></th>\n",
              "      <th>id</th>\n",
              "      <th>vendor_id</th>\n",
              "      <th>pickup_datetime</th>\n",
              "      <th>dropoff_datetime</th>\n",
              "      <th>passenger_count</th>\n",
              "      <th>pickup_longitude</th>\n",
              "      <th>pickup_latitude</th>\n",
              "      <th>dropoff_longitude</th>\n",
              "      <th>dropoff_latitude</th>\n",
              "      <th>store_and_fwd_flag</th>\n",
              "      <th>trip_duration</th>\n",
              "    </tr>\n",
              "  </thead>\n",
              "  <tbody>\n",
              "    <tr>\n",
              "      <th>0</th>\n",
              "      <td>id2875421</td>\n",
              "      <td>2</td>\n",
              "      <td>2016-03-14 17:24:55</td>\n",
              "      <td>2016-03-14 17:32:30</td>\n",
              "      <td>1</td>\n",
              "      <td>-73.982155</td>\n",
              "      <td>40.767937</td>\n",
              "      <td>-73.964630</td>\n",
              "      <td>40.765602</td>\n",
              "      <td>N</td>\n",
              "      <td>455</td>\n",
              "    </tr>\n",
              "    <tr>\n",
              "      <th>1</th>\n",
              "      <td>id2377394</td>\n",
              "      <td>1</td>\n",
              "      <td>2016-06-12 00:43:35</td>\n",
              "      <td>2016-06-12 00:54:38</td>\n",
              "      <td>1</td>\n",
              "      <td>-73.980415</td>\n",
              "      <td>40.738564</td>\n",
              "      <td>-73.999481</td>\n",
              "      <td>40.731152</td>\n",
              "      <td>N</td>\n",
              "      <td>663</td>\n",
              "    </tr>\n",
              "    <tr>\n",
              "      <th>2</th>\n",
              "      <td>id3858529</td>\n",
              "      <td>2</td>\n",
              "      <td>2016-01-19 11:35:24</td>\n",
              "      <td>2016-01-19 12:10:48</td>\n",
              "      <td>1</td>\n",
              "      <td>-73.979027</td>\n",
              "      <td>40.763939</td>\n",
              "      <td>-74.005333</td>\n",
              "      <td>40.710087</td>\n",
              "      <td>N</td>\n",
              "      <td>2124</td>\n",
              "    </tr>\n",
              "    <tr>\n",
              "      <th>3</th>\n",
              "      <td>id3504673</td>\n",
              "      <td>2</td>\n",
              "      <td>2016-04-06 19:32:31</td>\n",
              "      <td>2016-04-06 19:39:40</td>\n",
              "      <td>1</td>\n",
              "      <td>-74.010040</td>\n",
              "      <td>40.719971</td>\n",
              "      <td>-74.012268</td>\n",
              "      <td>40.706718</td>\n",
              "      <td>N</td>\n",
              "      <td>429</td>\n",
              "    </tr>\n",
              "    <tr>\n",
              "      <th>4</th>\n",
              "      <td>id2181028</td>\n",
              "      <td>2</td>\n",
              "      <td>2016-03-26 13:30:55</td>\n",
              "      <td>2016-03-26 13:38:10</td>\n",
              "      <td>1</td>\n",
              "      <td>-73.973053</td>\n",
              "      <td>40.793209</td>\n",
              "      <td>-73.972923</td>\n",
              "      <td>40.782520</td>\n",
              "      <td>N</td>\n",
              "      <td>435</td>\n",
              "    </tr>\n",
              "  </tbody>\n",
              "</table>\n",
              "</div>\n",
              "      <button class=\"colab-df-convert\" onclick=\"convertToInteractive('df-89b1891f-7b5a-41dc-9a1f-a8fa9b9ecdcb')\"\n",
              "              title=\"Convert this dataframe to an interactive table.\"\n",
              "              style=\"display:none;\">\n",
              "        \n",
              "  <svg xmlns=\"http://www.w3.org/2000/svg\" height=\"24px\"viewBox=\"0 0 24 24\"\n",
              "       width=\"24px\">\n",
              "    <path d=\"M0 0h24v24H0V0z\" fill=\"none\"/>\n",
              "    <path d=\"M18.56 5.44l.94 2.06.94-2.06 2.06-.94-2.06-.94-.94-2.06-.94 2.06-2.06.94zm-11 1L8.5 8.5l.94-2.06 2.06-.94-2.06-.94L8.5 2.5l-.94 2.06-2.06.94zm10 10l.94 2.06.94-2.06 2.06-.94-2.06-.94-.94-2.06-.94 2.06-2.06.94z\"/><path d=\"M17.41 7.96l-1.37-1.37c-.4-.4-.92-.59-1.43-.59-.52 0-1.04.2-1.43.59L10.3 9.45l-7.72 7.72c-.78.78-.78 2.05 0 2.83L4 21.41c.39.39.9.59 1.41.59.51 0 1.02-.2 1.41-.59l7.78-7.78 2.81-2.81c.8-.78.8-2.07 0-2.86zM5.41 20L4 18.59l7.72-7.72 1.47 1.35L5.41 20z\"/>\n",
              "  </svg>\n",
              "      </button>\n",
              "      \n",
              "  <style>\n",
              "    .colab-df-container {\n",
              "      display:flex;\n",
              "      flex-wrap:wrap;\n",
              "      gap: 12px;\n",
              "    }\n",
              "\n",
              "    .colab-df-convert {\n",
              "      background-color: #E8F0FE;\n",
              "      border: none;\n",
              "      border-radius: 50%;\n",
              "      cursor: pointer;\n",
              "      display: none;\n",
              "      fill: #1967D2;\n",
              "      height: 32px;\n",
              "      padding: 0 0 0 0;\n",
              "      width: 32px;\n",
              "    }\n",
              "\n",
              "    .colab-df-convert:hover {\n",
              "      background-color: #E2EBFA;\n",
              "      box-shadow: 0px 1px 2px rgba(60, 64, 67, 0.3), 0px 1px 3px 1px rgba(60, 64, 67, 0.15);\n",
              "      fill: #174EA6;\n",
              "    }\n",
              "\n",
              "    [theme=dark] .colab-df-convert {\n",
              "      background-color: #3B4455;\n",
              "      fill: #D2E3FC;\n",
              "    }\n",
              "\n",
              "    [theme=dark] .colab-df-convert:hover {\n",
              "      background-color: #434B5C;\n",
              "      box-shadow: 0px 1px 3px 1px rgba(0, 0, 0, 0.15);\n",
              "      filter: drop-shadow(0px 1px 2px rgba(0, 0, 0, 0.3));\n",
              "      fill: #FFFFFF;\n",
              "    }\n",
              "  </style>\n",
              "\n",
              "      <script>\n",
              "        const buttonEl =\n",
              "          document.querySelector('#df-89b1891f-7b5a-41dc-9a1f-a8fa9b9ecdcb button.colab-df-convert');\n",
              "        buttonEl.style.display =\n",
              "          google.colab.kernel.accessAllowed ? 'block' : 'none';\n",
              "\n",
              "        async function convertToInteractive(key) {\n",
              "          const element = document.querySelector('#df-89b1891f-7b5a-41dc-9a1f-a8fa9b9ecdcb');\n",
              "          const dataTable =\n",
              "            await google.colab.kernel.invokeFunction('convertToInteractive',\n",
              "                                                     [key], {});\n",
              "          if (!dataTable) return;\n",
              "\n",
              "          const docLinkHtml = 'Like what you see? Visit the ' +\n",
              "            '<a target=\"_blank\" href=https://colab.research.google.com/notebooks/data_table.ipynb>data table notebook</a>'\n",
              "            + ' to learn more about interactive tables.';\n",
              "          element.innerHTML = '';\n",
              "          dataTable['output_type'] = 'display_data';\n",
              "          await google.colab.output.renderOutput(dataTable, element);\n",
              "          const docLink = document.createElement('div');\n",
              "          docLink.innerHTML = docLinkHtml;\n",
              "          element.appendChild(docLink);\n",
              "        }\n",
              "      </script>\n",
              "    </div>\n",
              "  </div>\n",
              "  "
            ]
          },
          "metadata": {},
          "execution_count": 5
        }
      ],
      "source": [
        "taxi_df.head()"
      ]
    },
    {
      "cell_type": "code",
      "execution_count": 6,
      "metadata": {
        "colab": {
          "base_uri": "https://localhost:8080/",
          "height": 206
        },
        "id": "3-uYlfzR2iwq",
        "outputId": "36b09aa3-e339-4e5a-99d8-5ffb7956e171"
      },
      "outputs": [
        {
          "output_type": "execute_result",
          "data": {
            "text/plain": [
              "                id  vendor_id      pickup_datetime     dropoff_datetime  \\\n",
              "1458639  id2376096          2  2016-04-08 13:31:04  2016-04-08 13:44:02   \n",
              "1458640  id1049543          1  2016-01-10 07:35:15  2016-01-10 07:46:10   \n",
              "1458641  id2304944          2  2016-04-22 06:57:41  2016-04-22 07:10:25   \n",
              "1458642  id2714485          1  2016-01-05 15:56:26  2016-01-05 16:02:39   \n",
              "1458643  id1209952          1  2016-04-05 14:44:25  2016-04-05 14:47:43   \n",
              "\n",
              "         passenger_count  pickup_longitude  pickup_latitude  \\\n",
              "1458639                4        -73.982201        40.745522   \n",
              "1458640                1        -74.000946        40.747379   \n",
              "1458641                1        -73.959129        40.768799   \n",
              "1458642                1        -73.982079        40.749062   \n",
              "1458643                1        -73.979538        40.781750   \n",
              "\n",
              "         dropoff_longitude  dropoff_latitude store_and_fwd_flag  trip_duration  \n",
              "1458639         -73.994911         40.740170                  N            778  \n",
              "1458640         -73.970184         40.796547                  N            655  \n",
              "1458641         -74.004433         40.707371                  N            764  \n",
              "1458642         -73.974632         40.757107                  N            373  \n",
              "1458643         -73.972809         40.790585                  N            198  "
            ],
            "text/html": [
              "\n",
              "  <div id=\"df-5dc0b18a-810e-457c-9465-5f32e7de51d1\">\n",
              "    <div class=\"colab-df-container\">\n",
              "      <div>\n",
              "<style scoped>\n",
              "    .dataframe tbody tr th:only-of-type {\n",
              "        vertical-align: middle;\n",
              "    }\n",
              "\n",
              "    .dataframe tbody tr th {\n",
              "        vertical-align: top;\n",
              "    }\n",
              "\n",
              "    .dataframe thead th {\n",
              "        text-align: right;\n",
              "    }\n",
              "</style>\n",
              "<table border=\"1\" class=\"dataframe\">\n",
              "  <thead>\n",
              "    <tr style=\"text-align: right;\">\n",
              "      <th></th>\n",
              "      <th>id</th>\n",
              "      <th>vendor_id</th>\n",
              "      <th>pickup_datetime</th>\n",
              "      <th>dropoff_datetime</th>\n",
              "      <th>passenger_count</th>\n",
              "      <th>pickup_longitude</th>\n",
              "      <th>pickup_latitude</th>\n",
              "      <th>dropoff_longitude</th>\n",
              "      <th>dropoff_latitude</th>\n",
              "      <th>store_and_fwd_flag</th>\n",
              "      <th>trip_duration</th>\n",
              "    </tr>\n",
              "  </thead>\n",
              "  <tbody>\n",
              "    <tr>\n",
              "      <th>1458639</th>\n",
              "      <td>id2376096</td>\n",
              "      <td>2</td>\n",
              "      <td>2016-04-08 13:31:04</td>\n",
              "      <td>2016-04-08 13:44:02</td>\n",
              "      <td>4</td>\n",
              "      <td>-73.982201</td>\n",
              "      <td>40.745522</td>\n",
              "      <td>-73.994911</td>\n",
              "      <td>40.740170</td>\n",
              "      <td>N</td>\n",
              "      <td>778</td>\n",
              "    </tr>\n",
              "    <tr>\n",
              "      <th>1458640</th>\n",
              "      <td>id1049543</td>\n",
              "      <td>1</td>\n",
              "      <td>2016-01-10 07:35:15</td>\n",
              "      <td>2016-01-10 07:46:10</td>\n",
              "      <td>1</td>\n",
              "      <td>-74.000946</td>\n",
              "      <td>40.747379</td>\n",
              "      <td>-73.970184</td>\n",
              "      <td>40.796547</td>\n",
              "      <td>N</td>\n",
              "      <td>655</td>\n",
              "    </tr>\n",
              "    <tr>\n",
              "      <th>1458641</th>\n",
              "      <td>id2304944</td>\n",
              "      <td>2</td>\n",
              "      <td>2016-04-22 06:57:41</td>\n",
              "      <td>2016-04-22 07:10:25</td>\n",
              "      <td>1</td>\n",
              "      <td>-73.959129</td>\n",
              "      <td>40.768799</td>\n",
              "      <td>-74.004433</td>\n",
              "      <td>40.707371</td>\n",
              "      <td>N</td>\n",
              "      <td>764</td>\n",
              "    </tr>\n",
              "    <tr>\n",
              "      <th>1458642</th>\n",
              "      <td>id2714485</td>\n",
              "      <td>1</td>\n",
              "      <td>2016-01-05 15:56:26</td>\n",
              "      <td>2016-01-05 16:02:39</td>\n",
              "      <td>1</td>\n",
              "      <td>-73.982079</td>\n",
              "      <td>40.749062</td>\n",
              "      <td>-73.974632</td>\n",
              "      <td>40.757107</td>\n",
              "      <td>N</td>\n",
              "      <td>373</td>\n",
              "    </tr>\n",
              "    <tr>\n",
              "      <th>1458643</th>\n",
              "      <td>id1209952</td>\n",
              "      <td>1</td>\n",
              "      <td>2016-04-05 14:44:25</td>\n",
              "      <td>2016-04-05 14:47:43</td>\n",
              "      <td>1</td>\n",
              "      <td>-73.979538</td>\n",
              "      <td>40.781750</td>\n",
              "      <td>-73.972809</td>\n",
              "      <td>40.790585</td>\n",
              "      <td>N</td>\n",
              "      <td>198</td>\n",
              "    </tr>\n",
              "  </tbody>\n",
              "</table>\n",
              "</div>\n",
              "      <button class=\"colab-df-convert\" onclick=\"convertToInteractive('df-5dc0b18a-810e-457c-9465-5f32e7de51d1')\"\n",
              "              title=\"Convert this dataframe to an interactive table.\"\n",
              "              style=\"display:none;\">\n",
              "        \n",
              "  <svg xmlns=\"http://www.w3.org/2000/svg\" height=\"24px\"viewBox=\"0 0 24 24\"\n",
              "       width=\"24px\">\n",
              "    <path d=\"M0 0h24v24H0V0z\" fill=\"none\"/>\n",
              "    <path d=\"M18.56 5.44l.94 2.06.94-2.06 2.06-.94-2.06-.94-.94-2.06-.94 2.06-2.06.94zm-11 1L8.5 8.5l.94-2.06 2.06-.94-2.06-.94L8.5 2.5l-.94 2.06-2.06.94zm10 10l.94 2.06.94-2.06 2.06-.94-2.06-.94-.94-2.06-.94 2.06-2.06.94z\"/><path d=\"M17.41 7.96l-1.37-1.37c-.4-.4-.92-.59-1.43-.59-.52 0-1.04.2-1.43.59L10.3 9.45l-7.72 7.72c-.78.78-.78 2.05 0 2.83L4 21.41c.39.39.9.59 1.41.59.51 0 1.02-.2 1.41-.59l7.78-7.78 2.81-2.81c.8-.78.8-2.07 0-2.86zM5.41 20L4 18.59l7.72-7.72 1.47 1.35L5.41 20z\"/>\n",
              "  </svg>\n",
              "      </button>\n",
              "      \n",
              "  <style>\n",
              "    .colab-df-container {\n",
              "      display:flex;\n",
              "      flex-wrap:wrap;\n",
              "      gap: 12px;\n",
              "    }\n",
              "\n",
              "    .colab-df-convert {\n",
              "      background-color: #E8F0FE;\n",
              "      border: none;\n",
              "      border-radius: 50%;\n",
              "      cursor: pointer;\n",
              "      display: none;\n",
              "      fill: #1967D2;\n",
              "      height: 32px;\n",
              "      padding: 0 0 0 0;\n",
              "      width: 32px;\n",
              "    }\n",
              "\n",
              "    .colab-df-convert:hover {\n",
              "      background-color: #E2EBFA;\n",
              "      box-shadow: 0px 1px 2px rgba(60, 64, 67, 0.3), 0px 1px 3px 1px rgba(60, 64, 67, 0.15);\n",
              "      fill: #174EA6;\n",
              "    }\n",
              "\n",
              "    [theme=dark] .colab-df-convert {\n",
              "      background-color: #3B4455;\n",
              "      fill: #D2E3FC;\n",
              "    }\n",
              "\n",
              "    [theme=dark] .colab-df-convert:hover {\n",
              "      background-color: #434B5C;\n",
              "      box-shadow: 0px 1px 3px 1px rgba(0, 0, 0, 0.15);\n",
              "      filter: drop-shadow(0px 1px 2px rgba(0, 0, 0, 0.3));\n",
              "      fill: #FFFFFF;\n",
              "    }\n",
              "  </style>\n",
              "\n",
              "      <script>\n",
              "        const buttonEl =\n",
              "          document.querySelector('#df-5dc0b18a-810e-457c-9465-5f32e7de51d1 button.colab-df-convert');\n",
              "        buttonEl.style.display =\n",
              "          google.colab.kernel.accessAllowed ? 'block' : 'none';\n",
              "\n",
              "        async function convertToInteractive(key) {\n",
              "          const element = document.querySelector('#df-5dc0b18a-810e-457c-9465-5f32e7de51d1');\n",
              "          const dataTable =\n",
              "            await google.colab.kernel.invokeFunction('convertToInteractive',\n",
              "                                                     [key], {});\n",
              "          if (!dataTable) return;\n",
              "\n",
              "          const docLinkHtml = 'Like what you see? Visit the ' +\n",
              "            '<a target=\"_blank\" href=https://colab.research.google.com/notebooks/data_table.ipynb>data table notebook</a>'\n",
              "            + ' to learn more about interactive tables.';\n",
              "          element.innerHTML = '';\n",
              "          dataTable['output_type'] = 'display_data';\n",
              "          await google.colab.output.renderOutput(dataTable, element);\n",
              "          const docLink = document.createElement('div');\n",
              "          docLink.innerHTML = docLinkHtml;\n",
              "          element.appendChild(docLink);\n",
              "        }\n",
              "      </script>\n",
              "    </div>\n",
              "  </div>\n",
              "  "
            ]
          },
          "metadata": {},
          "execution_count": 6
        }
      ],
      "source": [
        "taxi_df.tail()"
      ]
    },
    {
      "cell_type": "markdown",
      "metadata": {
        "id": "FS1ELLzz3aqi"
      },
      "source": [
        "### Checking for null values"
      ]
    },
    {
      "cell_type": "code",
      "execution_count": 7,
      "metadata": {
        "colab": {
          "base_uri": "https://localhost:8080/"
        },
        "id": "o_XruV0n2KvS",
        "outputId": "13a7e5a7-be48-480f-b0ee-eca6c4b00dc2"
      },
      "outputs": [
        {
          "output_type": "execute_result",
          "data": {
            "text/plain": [
              "id                    0\n",
              "vendor_id             0\n",
              "pickup_datetime       0\n",
              "dropoff_datetime      0\n",
              "passenger_count       0\n",
              "pickup_longitude      0\n",
              "pickup_latitude       0\n",
              "dropoff_longitude     0\n",
              "dropoff_latitude      0\n",
              "store_and_fwd_flag    0\n",
              "trip_duration         0\n",
              "dtype: int64"
            ]
          },
          "metadata": {},
          "execution_count": 7
        }
      ],
      "source": [
        "taxi_df.isnull().sum()"
      ]
    },
    {
      "cell_type": "markdown",
      "metadata": {
        "id": "6wcmyub93lMR"
      },
      "source": [
        "### As we can see there are no null or NaN values. Now checking for datatypes."
      ]
    },
    {
      "cell_type": "code",
      "execution_count": 8,
      "metadata": {
        "colab": {
          "base_uri": "https://localhost:8080/"
        },
        "id": "_oyfHvDx3kGy",
        "outputId": "f8e07cc1-acf9-4b89-e866-334da04af0f4"
      },
      "outputs": [
        {
          "output_type": "stream",
          "name": "stdout",
          "text": [
            "<class 'pandas.core.frame.DataFrame'>\n",
            "RangeIndex: 1458644 entries, 0 to 1458643\n",
            "Data columns (total 11 columns):\n",
            " #   Column              Non-Null Count    Dtype  \n",
            "---  ------              --------------    -----  \n",
            " 0   id                  1458644 non-null  object \n",
            " 1   vendor_id           1458644 non-null  int64  \n",
            " 2   pickup_datetime     1458644 non-null  object \n",
            " 3   dropoff_datetime    1458644 non-null  object \n",
            " 4   passenger_count     1458644 non-null  int64  \n",
            " 5   pickup_longitude    1458644 non-null  float64\n",
            " 6   pickup_latitude     1458644 non-null  float64\n",
            " 7   dropoff_longitude   1458644 non-null  float64\n",
            " 8   dropoff_latitude    1458644 non-null  float64\n",
            " 9   store_and_fwd_flag  1458644 non-null  object \n",
            " 10  trip_duration       1458644 non-null  int64  \n",
            "dtypes: float64(4), int64(3), object(4)\n",
            "memory usage: 122.4+ MB\n"
          ]
        }
      ],
      "source": [
        "taxi_df.info()"
      ]
    },
    {
      "cell_type": "markdown",
      "metadata": {
        "id": "WMAh_wDl-EeX"
      },
      "source": [
        "We have 3 variables of object type namely pickup_datetime,dropoff_datetime and store_and_fwd_flag.\n",
        "\n",
        "Converting pickup and dropoff from object to datetime datatype"
      ]
    },
    {
      "cell_type": "code",
      "execution_count": 9,
      "metadata": {
        "colab": {
          "base_uri": "https://localhost:8080/"
        },
        "id": "4T3e0M4S2Uia",
        "outputId": "d0997092-e19a-4493-e3e9-fb548b6b76b4"
      },
      "outputs": [
        {
          "output_type": "stream",
          "name": "stdout",
          "text": [
            "<class 'pandas.core.frame.DataFrame'>\n",
            "RangeIndex: 1458644 entries, 0 to 1458643\n",
            "Data columns (total 11 columns):\n",
            " #   Column              Non-Null Count    Dtype         \n",
            "---  ------              --------------    -----         \n",
            " 0   id                  1458644 non-null  object        \n",
            " 1   vendor_id           1458644 non-null  int64         \n",
            " 2   pickup_datetime     1458644 non-null  datetime64[ns]\n",
            " 3   dropoff_datetime    1458644 non-null  datetime64[ns]\n",
            " 4   passenger_count     1458644 non-null  int64         \n",
            " 5   pickup_longitude    1458644 non-null  float64       \n",
            " 6   pickup_latitude     1458644 non-null  float64       \n",
            " 7   dropoff_longitude   1458644 non-null  float64       \n",
            " 8   dropoff_latitude    1458644 non-null  float64       \n",
            " 9   store_and_fwd_flag  1458644 non-null  object        \n",
            " 10  trip_duration       1458644 non-null  int64         \n",
            "dtypes: datetime64[ns](2), float64(4), int64(3), object(2)\n",
            "memory usage: 122.4+ MB\n"
          ]
        }
      ],
      "source": [
        "taxi_df['pickup_datetime'] = pd.to_datetime(taxi_df['pickup_datetime'])\n",
        "taxi_df['dropoff_datetime'] = pd.to_datetime(taxi_df['dropoff_datetime'])\n",
        "taxi_df.info()"
      ]
    },
    {
      "cell_type": "markdown",
      "metadata": {
        "id": "jI3ykibiE8cu"
      },
      "source": [
        "### From datetime variables we will be able to derive whether the pickup and drop was done in the morning, afternoon, evening and at night. For that we need to derive hour and classify them accordingly. "
      ]
    },
    {
      "cell_type": "code",
      "execution_count": 10,
      "metadata": {
        "colab": {
          "base_uri": "https://localhost:8080/",
          "height": 206
        },
        "id": "XjQYNFokjLrl",
        "outputId": "ade941ee-ad71-4fd1-b8de-c3bd0911e3b3"
      },
      "outputs": [
        {
          "output_type": "execute_result",
          "data": {
            "text/plain": [
              "          id  vendor_id     pickup_datetime    dropoff_datetime  \\\n",
              "0  id2875421          2 2016-03-14 17:24:55 2016-03-14 17:32:30   \n",
              "1  id2377394          1 2016-06-12 00:43:35 2016-06-12 00:54:38   \n",
              "2  id3858529          2 2016-01-19 11:35:24 2016-01-19 12:10:48   \n",
              "3  id3504673          2 2016-04-06 19:32:31 2016-04-06 19:39:40   \n",
              "4  id2181028          2 2016-03-26 13:30:55 2016-03-26 13:38:10   \n",
              "\n",
              "   passenger_count  pickup_longitude  pickup_latitude  dropoff_longitude  \\\n",
              "0                1        -73.982155        40.767937         -73.964630   \n",
              "1                1        -73.980415        40.738564         -73.999481   \n",
              "2                1        -73.979027        40.763939         -74.005333   \n",
              "3                1        -74.010040        40.719971         -74.012268   \n",
              "4                1        -73.973053        40.793209         -73.972923   \n",
              "\n",
              "   dropoff_latitude store_and_fwd_flag  trip_duration  picked_up_hour  \\\n",
              "0         40.765602                  N            455              17   \n",
              "1         40.731152                  N            663               0   \n",
              "2         40.710087                  N           2124              11   \n",
              "3         40.706718                  N            429              19   \n",
              "4         40.782520                  N            435              13   \n",
              "\n",
              "   dropped_hour  \n",
              "0            17  \n",
              "1             0  \n",
              "2            12  \n",
              "3            19  \n",
              "4            13  "
            ],
            "text/html": [
              "\n",
              "  <div id=\"df-46ba55d7-7c1d-4d0e-8c6e-52a30a96e177\">\n",
              "    <div class=\"colab-df-container\">\n",
              "      <div>\n",
              "<style scoped>\n",
              "    .dataframe tbody tr th:only-of-type {\n",
              "        vertical-align: middle;\n",
              "    }\n",
              "\n",
              "    .dataframe tbody tr th {\n",
              "        vertical-align: top;\n",
              "    }\n",
              "\n",
              "    .dataframe thead th {\n",
              "        text-align: right;\n",
              "    }\n",
              "</style>\n",
              "<table border=\"1\" class=\"dataframe\">\n",
              "  <thead>\n",
              "    <tr style=\"text-align: right;\">\n",
              "      <th></th>\n",
              "      <th>id</th>\n",
              "      <th>vendor_id</th>\n",
              "      <th>pickup_datetime</th>\n",
              "      <th>dropoff_datetime</th>\n",
              "      <th>passenger_count</th>\n",
              "      <th>pickup_longitude</th>\n",
              "      <th>pickup_latitude</th>\n",
              "      <th>dropoff_longitude</th>\n",
              "      <th>dropoff_latitude</th>\n",
              "      <th>store_and_fwd_flag</th>\n",
              "      <th>trip_duration</th>\n",
              "      <th>picked_up_hour</th>\n",
              "      <th>dropped_hour</th>\n",
              "    </tr>\n",
              "  </thead>\n",
              "  <tbody>\n",
              "    <tr>\n",
              "      <th>0</th>\n",
              "      <td>id2875421</td>\n",
              "      <td>2</td>\n",
              "      <td>2016-03-14 17:24:55</td>\n",
              "      <td>2016-03-14 17:32:30</td>\n",
              "      <td>1</td>\n",
              "      <td>-73.982155</td>\n",
              "      <td>40.767937</td>\n",
              "      <td>-73.964630</td>\n",
              "      <td>40.765602</td>\n",
              "      <td>N</td>\n",
              "      <td>455</td>\n",
              "      <td>17</td>\n",
              "      <td>17</td>\n",
              "    </tr>\n",
              "    <tr>\n",
              "      <th>1</th>\n",
              "      <td>id2377394</td>\n",
              "      <td>1</td>\n",
              "      <td>2016-06-12 00:43:35</td>\n",
              "      <td>2016-06-12 00:54:38</td>\n",
              "      <td>1</td>\n",
              "      <td>-73.980415</td>\n",
              "      <td>40.738564</td>\n",
              "      <td>-73.999481</td>\n",
              "      <td>40.731152</td>\n",
              "      <td>N</td>\n",
              "      <td>663</td>\n",
              "      <td>0</td>\n",
              "      <td>0</td>\n",
              "    </tr>\n",
              "    <tr>\n",
              "      <th>2</th>\n",
              "      <td>id3858529</td>\n",
              "      <td>2</td>\n",
              "      <td>2016-01-19 11:35:24</td>\n",
              "      <td>2016-01-19 12:10:48</td>\n",
              "      <td>1</td>\n",
              "      <td>-73.979027</td>\n",
              "      <td>40.763939</td>\n",
              "      <td>-74.005333</td>\n",
              "      <td>40.710087</td>\n",
              "      <td>N</td>\n",
              "      <td>2124</td>\n",
              "      <td>11</td>\n",
              "      <td>12</td>\n",
              "    </tr>\n",
              "    <tr>\n",
              "      <th>3</th>\n",
              "      <td>id3504673</td>\n",
              "      <td>2</td>\n",
              "      <td>2016-04-06 19:32:31</td>\n",
              "      <td>2016-04-06 19:39:40</td>\n",
              "      <td>1</td>\n",
              "      <td>-74.010040</td>\n",
              "      <td>40.719971</td>\n",
              "      <td>-74.012268</td>\n",
              "      <td>40.706718</td>\n",
              "      <td>N</td>\n",
              "      <td>429</td>\n",
              "      <td>19</td>\n",
              "      <td>19</td>\n",
              "    </tr>\n",
              "    <tr>\n",
              "      <th>4</th>\n",
              "      <td>id2181028</td>\n",
              "      <td>2</td>\n",
              "      <td>2016-03-26 13:30:55</td>\n",
              "      <td>2016-03-26 13:38:10</td>\n",
              "      <td>1</td>\n",
              "      <td>-73.973053</td>\n",
              "      <td>40.793209</td>\n",
              "      <td>-73.972923</td>\n",
              "      <td>40.782520</td>\n",
              "      <td>N</td>\n",
              "      <td>435</td>\n",
              "      <td>13</td>\n",
              "      <td>13</td>\n",
              "    </tr>\n",
              "  </tbody>\n",
              "</table>\n",
              "</div>\n",
              "      <button class=\"colab-df-convert\" onclick=\"convertToInteractive('df-46ba55d7-7c1d-4d0e-8c6e-52a30a96e177')\"\n",
              "              title=\"Convert this dataframe to an interactive table.\"\n",
              "              style=\"display:none;\">\n",
              "        \n",
              "  <svg xmlns=\"http://www.w3.org/2000/svg\" height=\"24px\"viewBox=\"0 0 24 24\"\n",
              "       width=\"24px\">\n",
              "    <path d=\"M0 0h24v24H0V0z\" fill=\"none\"/>\n",
              "    <path d=\"M18.56 5.44l.94 2.06.94-2.06 2.06-.94-2.06-.94-.94-2.06-.94 2.06-2.06.94zm-11 1L8.5 8.5l.94-2.06 2.06-.94-2.06-.94L8.5 2.5l-.94 2.06-2.06.94zm10 10l.94 2.06.94-2.06 2.06-.94-2.06-.94-.94-2.06-.94 2.06-2.06.94z\"/><path d=\"M17.41 7.96l-1.37-1.37c-.4-.4-.92-.59-1.43-.59-.52 0-1.04.2-1.43.59L10.3 9.45l-7.72 7.72c-.78.78-.78 2.05 0 2.83L4 21.41c.39.39.9.59 1.41.59.51 0 1.02-.2 1.41-.59l7.78-7.78 2.81-2.81c.8-.78.8-2.07 0-2.86zM5.41 20L4 18.59l7.72-7.72 1.47 1.35L5.41 20z\"/>\n",
              "  </svg>\n",
              "      </button>\n",
              "      \n",
              "  <style>\n",
              "    .colab-df-container {\n",
              "      display:flex;\n",
              "      flex-wrap:wrap;\n",
              "      gap: 12px;\n",
              "    }\n",
              "\n",
              "    .colab-df-convert {\n",
              "      background-color: #E8F0FE;\n",
              "      border: none;\n",
              "      border-radius: 50%;\n",
              "      cursor: pointer;\n",
              "      display: none;\n",
              "      fill: #1967D2;\n",
              "      height: 32px;\n",
              "      padding: 0 0 0 0;\n",
              "      width: 32px;\n",
              "    }\n",
              "\n",
              "    .colab-df-convert:hover {\n",
              "      background-color: #E2EBFA;\n",
              "      box-shadow: 0px 1px 2px rgba(60, 64, 67, 0.3), 0px 1px 3px 1px rgba(60, 64, 67, 0.15);\n",
              "      fill: #174EA6;\n",
              "    }\n",
              "\n",
              "    [theme=dark] .colab-df-convert {\n",
              "      background-color: #3B4455;\n",
              "      fill: #D2E3FC;\n",
              "    }\n",
              "\n",
              "    [theme=dark] .colab-df-convert:hover {\n",
              "      background-color: #434B5C;\n",
              "      box-shadow: 0px 1px 3px 1px rgba(0, 0, 0, 0.15);\n",
              "      filter: drop-shadow(0px 1px 2px rgba(0, 0, 0, 0.3));\n",
              "      fill: #FFFFFF;\n",
              "    }\n",
              "  </style>\n",
              "\n",
              "      <script>\n",
              "        const buttonEl =\n",
              "          document.querySelector('#df-46ba55d7-7c1d-4d0e-8c6e-52a30a96e177 button.colab-df-convert');\n",
              "        buttonEl.style.display =\n",
              "          google.colab.kernel.accessAllowed ? 'block' : 'none';\n",
              "\n",
              "        async function convertToInteractive(key) {\n",
              "          const element = document.querySelector('#df-46ba55d7-7c1d-4d0e-8c6e-52a30a96e177');\n",
              "          const dataTable =\n",
              "            await google.colab.kernel.invokeFunction('convertToInteractive',\n",
              "                                                     [key], {});\n",
              "          if (!dataTable) return;\n",
              "\n",
              "          const docLinkHtml = 'Like what you see? Visit the ' +\n",
              "            '<a target=\"_blank\" href=https://colab.research.google.com/notebooks/data_table.ipynb>data table notebook</a>'\n",
              "            + ' to learn more about interactive tables.';\n",
              "          element.innerHTML = '';\n",
              "          dataTable['output_type'] = 'display_data';\n",
              "          await google.colab.output.renderOutput(dataTable, element);\n",
              "          const docLink = document.createElement('div');\n",
              "          docLink.innerHTML = docLinkHtml;\n",
              "          element.appendChild(docLink);\n",
              "        }\n",
              "      </script>\n",
              "    </div>\n",
              "  </div>\n",
              "  "
            ]
          },
          "metadata": {},
          "execution_count": 10
        }
      ],
      "source": [
        "taxi_df['picked_up_hour']=taxi_df.pickup_datetime.dt.hour\n",
        "taxi_df['dropped_hour'] = taxi_df.dropoff_datetime.dt.hour\n",
        "taxi_df.head()"
      ]
    },
    {
      "cell_type": "markdown",
      "metadata": {
        "id": "XtbZwzNOnLXL"
      },
      "source": [
        "### As we can see the hours are in 24hr format. Creating a function to classify them."
      ]
    },
    {
      "cell_type": "code",
      "execution_count": 11,
      "metadata": {
        "id": "QiBP1rlPm7oT"
      },
      "outputs": [],
      "source": [
        "def times_of_the_day(hr):\n",
        "  if hr in range(6,12):\n",
        "    return 'Morning'\n",
        "  elif hr in range(12,16):\n",
        "    return 'Afternoon'\n",
        "  elif hr in range(16,20):\n",
        "    return 'Evening'\n",
        "  else:\n",
        "    return 'Night'"
      ]
    },
    {
      "cell_type": "code",
      "execution_count": 12,
      "metadata": {
        "colab": {
          "base_uri": "https://localhost:8080/",
          "height": 337
        },
        "id": "gPQfqM5Gp6EK",
        "outputId": "13b6535d-2d85-41b3-a944-bc52cc82fd36"
      },
      "outputs": [
        {
          "output_type": "execute_result",
          "data": {
            "text/plain": [
              "          id  vendor_id     pickup_datetime    dropoff_datetime  \\\n",
              "0  id2875421          2 2016-03-14 17:24:55 2016-03-14 17:32:30   \n",
              "1  id2377394          1 2016-06-12 00:43:35 2016-06-12 00:54:38   \n",
              "2  id3858529          2 2016-01-19 11:35:24 2016-01-19 12:10:48   \n",
              "3  id3504673          2 2016-04-06 19:32:31 2016-04-06 19:39:40   \n",
              "4  id2181028          2 2016-03-26 13:30:55 2016-03-26 13:38:10   \n",
              "\n",
              "   passenger_count  pickup_longitude  pickup_latitude  dropoff_longitude  \\\n",
              "0                1        -73.982155        40.767937         -73.964630   \n",
              "1                1        -73.980415        40.738564         -73.999481   \n",
              "2                1        -73.979027        40.763939         -74.005333   \n",
              "3                1        -74.010040        40.719971         -74.012268   \n",
              "4                1        -73.973053        40.793209         -73.972923   \n",
              "\n",
              "   dropoff_latitude store_and_fwd_flag  trip_duration  picked_up_hour  \\\n",
              "0         40.765602                  N            455              17   \n",
              "1         40.731152                  N            663               0   \n",
              "2         40.710087                  N           2124              11   \n",
              "3         40.706718                  N            429              19   \n",
              "4         40.782520                  N            435              13   \n",
              "\n",
              "   dropped_hour pickup_tod   drop_tod  \n",
              "0            17    Evening    Evening  \n",
              "1             0      Night      Night  \n",
              "2            12    Morning  Afternoon  \n",
              "3            19    Evening    Evening  \n",
              "4            13  Afternoon  Afternoon  "
            ],
            "text/html": [
              "\n",
              "  <div id=\"df-3f2b564c-f5c8-4d06-a116-1730751bc9be\">\n",
              "    <div class=\"colab-df-container\">\n",
              "      <div>\n",
              "<style scoped>\n",
              "    .dataframe tbody tr th:only-of-type {\n",
              "        vertical-align: middle;\n",
              "    }\n",
              "\n",
              "    .dataframe tbody tr th {\n",
              "        vertical-align: top;\n",
              "    }\n",
              "\n",
              "    .dataframe thead th {\n",
              "        text-align: right;\n",
              "    }\n",
              "</style>\n",
              "<table border=\"1\" class=\"dataframe\">\n",
              "  <thead>\n",
              "    <tr style=\"text-align: right;\">\n",
              "      <th></th>\n",
              "      <th>id</th>\n",
              "      <th>vendor_id</th>\n",
              "      <th>pickup_datetime</th>\n",
              "      <th>dropoff_datetime</th>\n",
              "      <th>passenger_count</th>\n",
              "      <th>pickup_longitude</th>\n",
              "      <th>pickup_latitude</th>\n",
              "      <th>dropoff_longitude</th>\n",
              "      <th>dropoff_latitude</th>\n",
              "      <th>store_and_fwd_flag</th>\n",
              "      <th>trip_duration</th>\n",
              "      <th>picked_up_hour</th>\n",
              "      <th>dropped_hour</th>\n",
              "      <th>pickup_tod</th>\n",
              "      <th>drop_tod</th>\n",
              "    </tr>\n",
              "  </thead>\n",
              "  <tbody>\n",
              "    <tr>\n",
              "      <th>0</th>\n",
              "      <td>id2875421</td>\n",
              "      <td>2</td>\n",
              "      <td>2016-03-14 17:24:55</td>\n",
              "      <td>2016-03-14 17:32:30</td>\n",
              "      <td>1</td>\n",
              "      <td>-73.982155</td>\n",
              "      <td>40.767937</td>\n",
              "      <td>-73.964630</td>\n",
              "      <td>40.765602</td>\n",
              "      <td>N</td>\n",
              "      <td>455</td>\n",
              "      <td>17</td>\n",
              "      <td>17</td>\n",
              "      <td>Evening</td>\n",
              "      <td>Evening</td>\n",
              "    </tr>\n",
              "    <tr>\n",
              "      <th>1</th>\n",
              "      <td>id2377394</td>\n",
              "      <td>1</td>\n",
              "      <td>2016-06-12 00:43:35</td>\n",
              "      <td>2016-06-12 00:54:38</td>\n",
              "      <td>1</td>\n",
              "      <td>-73.980415</td>\n",
              "      <td>40.738564</td>\n",
              "      <td>-73.999481</td>\n",
              "      <td>40.731152</td>\n",
              "      <td>N</td>\n",
              "      <td>663</td>\n",
              "      <td>0</td>\n",
              "      <td>0</td>\n",
              "      <td>Night</td>\n",
              "      <td>Night</td>\n",
              "    </tr>\n",
              "    <tr>\n",
              "      <th>2</th>\n",
              "      <td>id3858529</td>\n",
              "      <td>2</td>\n",
              "      <td>2016-01-19 11:35:24</td>\n",
              "      <td>2016-01-19 12:10:48</td>\n",
              "      <td>1</td>\n",
              "      <td>-73.979027</td>\n",
              "      <td>40.763939</td>\n",
              "      <td>-74.005333</td>\n",
              "      <td>40.710087</td>\n",
              "      <td>N</td>\n",
              "      <td>2124</td>\n",
              "      <td>11</td>\n",
              "      <td>12</td>\n",
              "      <td>Morning</td>\n",
              "      <td>Afternoon</td>\n",
              "    </tr>\n",
              "    <tr>\n",
              "      <th>3</th>\n",
              "      <td>id3504673</td>\n",
              "      <td>2</td>\n",
              "      <td>2016-04-06 19:32:31</td>\n",
              "      <td>2016-04-06 19:39:40</td>\n",
              "      <td>1</td>\n",
              "      <td>-74.010040</td>\n",
              "      <td>40.719971</td>\n",
              "      <td>-74.012268</td>\n",
              "      <td>40.706718</td>\n",
              "      <td>N</td>\n",
              "      <td>429</td>\n",
              "      <td>19</td>\n",
              "      <td>19</td>\n",
              "      <td>Evening</td>\n",
              "      <td>Evening</td>\n",
              "    </tr>\n",
              "    <tr>\n",
              "      <th>4</th>\n",
              "      <td>id2181028</td>\n",
              "      <td>2</td>\n",
              "      <td>2016-03-26 13:30:55</td>\n",
              "      <td>2016-03-26 13:38:10</td>\n",
              "      <td>1</td>\n",
              "      <td>-73.973053</td>\n",
              "      <td>40.793209</td>\n",
              "      <td>-73.972923</td>\n",
              "      <td>40.782520</td>\n",
              "      <td>N</td>\n",
              "      <td>435</td>\n",
              "      <td>13</td>\n",
              "      <td>13</td>\n",
              "      <td>Afternoon</td>\n",
              "      <td>Afternoon</td>\n",
              "    </tr>\n",
              "  </tbody>\n",
              "</table>\n",
              "</div>\n",
              "      <button class=\"colab-df-convert\" onclick=\"convertToInteractive('df-3f2b564c-f5c8-4d06-a116-1730751bc9be')\"\n",
              "              title=\"Convert this dataframe to an interactive table.\"\n",
              "              style=\"display:none;\">\n",
              "        \n",
              "  <svg xmlns=\"http://www.w3.org/2000/svg\" height=\"24px\"viewBox=\"0 0 24 24\"\n",
              "       width=\"24px\">\n",
              "    <path d=\"M0 0h24v24H0V0z\" fill=\"none\"/>\n",
              "    <path d=\"M18.56 5.44l.94 2.06.94-2.06 2.06-.94-2.06-.94-.94-2.06-.94 2.06-2.06.94zm-11 1L8.5 8.5l.94-2.06 2.06-.94-2.06-.94L8.5 2.5l-.94 2.06-2.06.94zm10 10l.94 2.06.94-2.06 2.06-.94-2.06-.94-.94-2.06-.94 2.06-2.06.94z\"/><path d=\"M17.41 7.96l-1.37-1.37c-.4-.4-.92-.59-1.43-.59-.52 0-1.04.2-1.43.59L10.3 9.45l-7.72 7.72c-.78.78-.78 2.05 0 2.83L4 21.41c.39.39.9.59 1.41.59.51 0 1.02-.2 1.41-.59l7.78-7.78 2.81-2.81c.8-.78.8-2.07 0-2.86zM5.41 20L4 18.59l7.72-7.72 1.47 1.35L5.41 20z\"/>\n",
              "  </svg>\n",
              "      </button>\n",
              "      \n",
              "  <style>\n",
              "    .colab-df-container {\n",
              "      display:flex;\n",
              "      flex-wrap:wrap;\n",
              "      gap: 12px;\n",
              "    }\n",
              "\n",
              "    .colab-df-convert {\n",
              "      background-color: #E8F0FE;\n",
              "      border: none;\n",
              "      border-radius: 50%;\n",
              "      cursor: pointer;\n",
              "      display: none;\n",
              "      fill: #1967D2;\n",
              "      height: 32px;\n",
              "      padding: 0 0 0 0;\n",
              "      width: 32px;\n",
              "    }\n",
              "\n",
              "    .colab-df-convert:hover {\n",
              "      background-color: #E2EBFA;\n",
              "      box-shadow: 0px 1px 2px rgba(60, 64, 67, 0.3), 0px 1px 3px 1px rgba(60, 64, 67, 0.15);\n",
              "      fill: #174EA6;\n",
              "    }\n",
              "\n",
              "    [theme=dark] .colab-df-convert {\n",
              "      background-color: #3B4455;\n",
              "      fill: #D2E3FC;\n",
              "    }\n",
              "\n",
              "    [theme=dark] .colab-df-convert:hover {\n",
              "      background-color: #434B5C;\n",
              "      box-shadow: 0px 1px 3px 1px rgba(0, 0, 0, 0.15);\n",
              "      filter: drop-shadow(0px 1px 2px rgba(0, 0, 0, 0.3));\n",
              "      fill: #FFFFFF;\n",
              "    }\n",
              "  </style>\n",
              "\n",
              "      <script>\n",
              "        const buttonEl =\n",
              "          document.querySelector('#df-3f2b564c-f5c8-4d06-a116-1730751bc9be button.colab-df-convert');\n",
              "        buttonEl.style.display =\n",
              "          google.colab.kernel.accessAllowed ? 'block' : 'none';\n",
              "\n",
              "        async function convertToInteractive(key) {\n",
              "          const element = document.querySelector('#df-3f2b564c-f5c8-4d06-a116-1730751bc9be');\n",
              "          const dataTable =\n",
              "            await google.colab.kernel.invokeFunction('convertToInteractive',\n",
              "                                                     [key], {});\n",
              "          if (!dataTable) return;\n",
              "\n",
              "          const docLinkHtml = 'Like what you see? Visit the ' +\n",
              "            '<a target=\"_blank\" href=https://colab.research.google.com/notebooks/data_table.ipynb>data table notebook</a>'\n",
              "            + ' to learn more about interactive tables.';\n",
              "          element.innerHTML = '';\n",
              "          dataTable['output_type'] = 'display_data';\n",
              "          await google.colab.output.renderOutput(dataTable, element);\n",
              "          const docLink = document.createElement('div');\n",
              "          docLink.innerHTML = docLinkHtml;\n",
              "          element.appendChild(docLink);\n",
              "        }\n",
              "      </script>\n",
              "    </div>\n",
              "  </div>\n",
              "  "
            ]
          },
          "metadata": {},
          "execution_count": 12
        }
      ],
      "source": [
        "taxi_df['pickup_tod'] = taxi_df['picked_up_hour'].apply(times_of_the_day)\n",
        "taxi_df['drop_tod'] = taxi_df['dropped_hour'].apply(times_of_the_day)\n",
        "taxi_df.head()"
      ]
    },
    {
      "cell_type": "markdown",
      "metadata": {
        "id": "9SPT-6QUtc_B"
      },
      "source": [
        "### We can get the name of the day and month as well as year."
      ]
    },
    {
      "cell_type": "code",
      "execution_count": 13,
      "metadata": {
        "colab": {
          "base_uri": "https://localhost:8080/",
          "height": 357
        },
        "id": "vUjmkq_AZgwJ",
        "outputId": "cf33e38f-50f3-4716-a14f-7f62835e2aa5"
      },
      "outputs": [
        {
          "output_type": "execute_result",
          "data": {
            "text/plain": [
              "          id  vendor_id     pickup_datetime    dropoff_datetime  \\\n",
              "0  id2875421          2 2016-03-14 17:24:55 2016-03-14 17:32:30   \n",
              "1  id2377394          1 2016-06-12 00:43:35 2016-06-12 00:54:38   \n",
              "2  id3858529          2 2016-01-19 11:35:24 2016-01-19 12:10:48   \n",
              "3  id3504673          2 2016-04-06 19:32:31 2016-04-06 19:39:40   \n",
              "4  id2181028          2 2016-03-26 13:30:55 2016-03-26 13:38:10   \n",
              "\n",
              "   passenger_count  pickup_longitude  pickup_latitude  dropoff_longitude  \\\n",
              "0                1        -73.982155        40.767937         -73.964630   \n",
              "1                1        -73.980415        40.738564         -73.999481   \n",
              "2                1        -73.979027        40.763939         -74.005333   \n",
              "3                1        -74.010040        40.719971         -74.012268   \n",
              "4                1        -73.973053        40.793209         -73.972923   \n",
              "\n",
              "   dropoff_latitude store_and_fwd_flag  trip_duration  picked_up_hour  \\\n",
              "0         40.765602                  N            455              17   \n",
              "1         40.731152                  N            663               0   \n",
              "2         40.710087                  N           2124              11   \n",
              "3         40.706718                  N            429              19   \n",
              "4         40.782520                  N            435              13   \n",
              "\n",
              "   dropped_hour pickup_tod   drop_tod picked_up_day dropped_day    month  year  \n",
              "0            17    Evening    Evening        Monday      Monday    March  2016  \n",
              "1             0      Night      Night        Sunday      Sunday     June  2016  \n",
              "2            12    Morning  Afternoon       Tuesday     Tuesday  January  2016  \n",
              "3            19    Evening    Evening     Wednesday   Wednesday    April  2016  \n",
              "4            13  Afternoon  Afternoon      Saturday    Saturday    March  2016  "
            ],
            "text/html": [
              "\n",
              "  <div id=\"df-913e2abb-ab19-4755-ab2f-b743a7a93e1e\">\n",
              "    <div class=\"colab-df-container\">\n",
              "      <div>\n",
              "<style scoped>\n",
              "    .dataframe tbody tr th:only-of-type {\n",
              "        vertical-align: middle;\n",
              "    }\n",
              "\n",
              "    .dataframe tbody tr th {\n",
              "        vertical-align: top;\n",
              "    }\n",
              "\n",
              "    .dataframe thead th {\n",
              "        text-align: right;\n",
              "    }\n",
              "</style>\n",
              "<table border=\"1\" class=\"dataframe\">\n",
              "  <thead>\n",
              "    <tr style=\"text-align: right;\">\n",
              "      <th></th>\n",
              "      <th>id</th>\n",
              "      <th>vendor_id</th>\n",
              "      <th>pickup_datetime</th>\n",
              "      <th>dropoff_datetime</th>\n",
              "      <th>passenger_count</th>\n",
              "      <th>pickup_longitude</th>\n",
              "      <th>pickup_latitude</th>\n",
              "      <th>dropoff_longitude</th>\n",
              "      <th>dropoff_latitude</th>\n",
              "      <th>store_and_fwd_flag</th>\n",
              "      <th>trip_duration</th>\n",
              "      <th>picked_up_hour</th>\n",
              "      <th>dropped_hour</th>\n",
              "      <th>pickup_tod</th>\n",
              "      <th>drop_tod</th>\n",
              "      <th>picked_up_day</th>\n",
              "      <th>dropped_day</th>\n",
              "      <th>month</th>\n",
              "      <th>year</th>\n",
              "    </tr>\n",
              "  </thead>\n",
              "  <tbody>\n",
              "    <tr>\n",
              "      <th>0</th>\n",
              "      <td>id2875421</td>\n",
              "      <td>2</td>\n",
              "      <td>2016-03-14 17:24:55</td>\n",
              "      <td>2016-03-14 17:32:30</td>\n",
              "      <td>1</td>\n",
              "      <td>-73.982155</td>\n",
              "      <td>40.767937</td>\n",
              "      <td>-73.964630</td>\n",
              "      <td>40.765602</td>\n",
              "      <td>N</td>\n",
              "      <td>455</td>\n",
              "      <td>17</td>\n",
              "      <td>17</td>\n",
              "      <td>Evening</td>\n",
              "      <td>Evening</td>\n",
              "      <td>Monday</td>\n",
              "      <td>Monday</td>\n",
              "      <td>March</td>\n",
              "      <td>2016</td>\n",
              "    </tr>\n",
              "    <tr>\n",
              "      <th>1</th>\n",
              "      <td>id2377394</td>\n",
              "      <td>1</td>\n",
              "      <td>2016-06-12 00:43:35</td>\n",
              "      <td>2016-06-12 00:54:38</td>\n",
              "      <td>1</td>\n",
              "      <td>-73.980415</td>\n",
              "      <td>40.738564</td>\n",
              "      <td>-73.999481</td>\n",
              "      <td>40.731152</td>\n",
              "      <td>N</td>\n",
              "      <td>663</td>\n",
              "      <td>0</td>\n",
              "      <td>0</td>\n",
              "      <td>Night</td>\n",
              "      <td>Night</td>\n",
              "      <td>Sunday</td>\n",
              "      <td>Sunday</td>\n",
              "      <td>June</td>\n",
              "      <td>2016</td>\n",
              "    </tr>\n",
              "    <tr>\n",
              "      <th>2</th>\n",
              "      <td>id3858529</td>\n",
              "      <td>2</td>\n",
              "      <td>2016-01-19 11:35:24</td>\n",
              "      <td>2016-01-19 12:10:48</td>\n",
              "      <td>1</td>\n",
              "      <td>-73.979027</td>\n",
              "      <td>40.763939</td>\n",
              "      <td>-74.005333</td>\n",
              "      <td>40.710087</td>\n",
              "      <td>N</td>\n",
              "      <td>2124</td>\n",
              "      <td>11</td>\n",
              "      <td>12</td>\n",
              "      <td>Morning</td>\n",
              "      <td>Afternoon</td>\n",
              "      <td>Tuesday</td>\n",
              "      <td>Tuesday</td>\n",
              "      <td>January</td>\n",
              "      <td>2016</td>\n",
              "    </tr>\n",
              "    <tr>\n",
              "      <th>3</th>\n",
              "      <td>id3504673</td>\n",
              "      <td>2</td>\n",
              "      <td>2016-04-06 19:32:31</td>\n",
              "      <td>2016-04-06 19:39:40</td>\n",
              "      <td>1</td>\n",
              "      <td>-74.010040</td>\n",
              "      <td>40.719971</td>\n",
              "      <td>-74.012268</td>\n",
              "      <td>40.706718</td>\n",
              "      <td>N</td>\n",
              "      <td>429</td>\n",
              "      <td>19</td>\n",
              "      <td>19</td>\n",
              "      <td>Evening</td>\n",
              "      <td>Evening</td>\n",
              "      <td>Wednesday</td>\n",
              "      <td>Wednesday</td>\n",
              "      <td>April</td>\n",
              "      <td>2016</td>\n",
              "    </tr>\n",
              "    <tr>\n",
              "      <th>4</th>\n",
              "      <td>id2181028</td>\n",
              "      <td>2</td>\n",
              "      <td>2016-03-26 13:30:55</td>\n",
              "      <td>2016-03-26 13:38:10</td>\n",
              "      <td>1</td>\n",
              "      <td>-73.973053</td>\n",
              "      <td>40.793209</td>\n",
              "      <td>-73.972923</td>\n",
              "      <td>40.782520</td>\n",
              "      <td>N</td>\n",
              "      <td>435</td>\n",
              "      <td>13</td>\n",
              "      <td>13</td>\n",
              "      <td>Afternoon</td>\n",
              "      <td>Afternoon</td>\n",
              "      <td>Saturday</td>\n",
              "      <td>Saturday</td>\n",
              "      <td>March</td>\n",
              "      <td>2016</td>\n",
              "    </tr>\n",
              "  </tbody>\n",
              "</table>\n",
              "</div>\n",
              "      <button class=\"colab-df-convert\" onclick=\"convertToInteractive('df-913e2abb-ab19-4755-ab2f-b743a7a93e1e')\"\n",
              "              title=\"Convert this dataframe to an interactive table.\"\n",
              "              style=\"display:none;\">\n",
              "        \n",
              "  <svg xmlns=\"http://www.w3.org/2000/svg\" height=\"24px\"viewBox=\"0 0 24 24\"\n",
              "       width=\"24px\">\n",
              "    <path d=\"M0 0h24v24H0V0z\" fill=\"none\"/>\n",
              "    <path d=\"M18.56 5.44l.94 2.06.94-2.06 2.06-.94-2.06-.94-.94-2.06-.94 2.06-2.06.94zm-11 1L8.5 8.5l.94-2.06 2.06-.94-2.06-.94L8.5 2.5l-.94 2.06-2.06.94zm10 10l.94 2.06.94-2.06 2.06-.94-2.06-.94-.94-2.06-.94 2.06-2.06.94z\"/><path d=\"M17.41 7.96l-1.37-1.37c-.4-.4-.92-.59-1.43-.59-.52 0-1.04.2-1.43.59L10.3 9.45l-7.72 7.72c-.78.78-.78 2.05 0 2.83L4 21.41c.39.39.9.59 1.41.59.51 0 1.02-.2 1.41-.59l7.78-7.78 2.81-2.81c.8-.78.8-2.07 0-2.86zM5.41 20L4 18.59l7.72-7.72 1.47 1.35L5.41 20z\"/>\n",
              "  </svg>\n",
              "      </button>\n",
              "      \n",
              "  <style>\n",
              "    .colab-df-container {\n",
              "      display:flex;\n",
              "      flex-wrap:wrap;\n",
              "      gap: 12px;\n",
              "    }\n",
              "\n",
              "    .colab-df-convert {\n",
              "      background-color: #E8F0FE;\n",
              "      border: none;\n",
              "      border-radius: 50%;\n",
              "      cursor: pointer;\n",
              "      display: none;\n",
              "      fill: #1967D2;\n",
              "      height: 32px;\n",
              "      padding: 0 0 0 0;\n",
              "      width: 32px;\n",
              "    }\n",
              "\n",
              "    .colab-df-convert:hover {\n",
              "      background-color: #E2EBFA;\n",
              "      box-shadow: 0px 1px 2px rgba(60, 64, 67, 0.3), 0px 1px 3px 1px rgba(60, 64, 67, 0.15);\n",
              "      fill: #174EA6;\n",
              "    }\n",
              "\n",
              "    [theme=dark] .colab-df-convert {\n",
              "      background-color: #3B4455;\n",
              "      fill: #D2E3FC;\n",
              "    }\n",
              "\n",
              "    [theme=dark] .colab-df-convert:hover {\n",
              "      background-color: #434B5C;\n",
              "      box-shadow: 0px 1px 3px 1px rgba(0, 0, 0, 0.15);\n",
              "      filter: drop-shadow(0px 1px 2px rgba(0, 0, 0, 0.3));\n",
              "      fill: #FFFFFF;\n",
              "    }\n",
              "  </style>\n",
              "\n",
              "      <script>\n",
              "        const buttonEl =\n",
              "          document.querySelector('#df-913e2abb-ab19-4755-ab2f-b743a7a93e1e button.colab-df-convert');\n",
              "        buttonEl.style.display =\n",
              "          google.colab.kernel.accessAllowed ? 'block' : 'none';\n",
              "\n",
              "        async function convertToInteractive(key) {\n",
              "          const element = document.querySelector('#df-913e2abb-ab19-4755-ab2f-b743a7a93e1e');\n",
              "          const dataTable =\n",
              "            await google.colab.kernel.invokeFunction('convertToInteractive',\n",
              "                                                     [key], {});\n",
              "          if (!dataTable) return;\n",
              "\n",
              "          const docLinkHtml = 'Like what you see? Visit the ' +\n",
              "            '<a target=\"_blank\" href=https://colab.research.google.com/notebooks/data_table.ipynb>data table notebook</a>'\n",
              "            + ' to learn more about interactive tables.';\n",
              "          element.innerHTML = '';\n",
              "          dataTable['output_type'] = 'display_data';\n",
              "          await google.colab.output.renderOutput(dataTable, element);\n",
              "          const docLink = document.createElement('div');\n",
              "          docLink.innerHTML = docLinkHtml;\n",
              "          element.appendChild(docLink);\n",
              "        }\n",
              "      </script>\n",
              "    </div>\n",
              "  </div>\n",
              "  "
            ]
          },
          "metadata": {},
          "execution_count": 13
        }
      ],
      "source": [
        "taxi_df['picked_up_day']=taxi_df.pickup_datetime.dt.day_name()\n",
        "taxi_df['dropped_day']=taxi_df.dropoff_datetime.dt.day_name()\n",
        "taxi_df['month']=taxi_df.pickup_datetime.dt.month_name()\n",
        "taxi_df['year']=taxi_df.pickup_datetime.dt.year\n",
        "taxi_df.head()"
      ]
    },
    {
      "cell_type": "markdown",
      "metadata": {
        "id": "QwpqtG9-Uo9q"
      },
      "source": [
        "By importing great_circle from geopy.distance we can calculate distance using co-ordinates"
      ]
    },
    {
      "cell_type": "code",
      "execution_count": 14,
      "metadata": {
        "id": "uq4iZROmT6t5"
      },
      "outputs": [],
      "source": [
        "from geopy.distance import great_circle\n",
        "def dist_calc(lat1,long1,lat2,long2):\n",
        "  pickup = (lat1,long1)\n",
        "  drop = (lat2,long2)\n",
        "  return great_circle(pickup,drop).km\n",
        "\n",
        "# Creating distance variable\n",
        "taxi_df['distance'] = taxi_df.apply(lambda x: dist_calc(x['pickup_latitude'],x['pickup_longitude'],x['dropoff_latitude'],x['dropoff_longitude'] ), axis=1)\n"
      ]
    },
    {
      "cell_type": "code",
      "execution_count": 15,
      "metadata": {
        "colab": {
          "base_uri": "https://localhost:8080/",
          "height": 357
        },
        "id": "gE-acA-jkN--",
        "outputId": "81e2999b-e175-4c29-dbc3-d8b334f93173"
      },
      "outputs": [
        {
          "output_type": "execute_result",
          "data": {
            "text/plain": [
              "          id  vendor_id     pickup_datetime    dropoff_datetime  \\\n",
              "0  id2875421          2 2016-03-14 17:24:55 2016-03-14 17:32:30   \n",
              "1  id2377394          1 2016-06-12 00:43:35 2016-06-12 00:54:38   \n",
              "2  id3858529          2 2016-01-19 11:35:24 2016-01-19 12:10:48   \n",
              "3  id3504673          2 2016-04-06 19:32:31 2016-04-06 19:39:40   \n",
              "4  id2181028          2 2016-03-26 13:30:55 2016-03-26 13:38:10   \n",
              "\n",
              "   passenger_count  pickup_longitude  pickup_latitude  dropoff_longitude  \\\n",
              "0                1        -73.982155        40.767937         -73.964630   \n",
              "1                1        -73.980415        40.738564         -73.999481   \n",
              "2                1        -73.979027        40.763939         -74.005333   \n",
              "3                1        -74.010040        40.719971         -74.012268   \n",
              "4                1        -73.973053        40.793209         -73.972923   \n",
              "\n",
              "   dropoff_latitude store_and_fwd_flag  trip_duration  picked_up_hour  \\\n",
              "0         40.765602                  N            455              17   \n",
              "1         40.731152                  N            663               0   \n",
              "2         40.710087                  N           2124              11   \n",
              "3         40.706718                  N            429              19   \n",
              "4         40.782520                  N            435              13   \n",
              "\n",
              "   dropped_hour pickup_tod   drop_tod picked_up_day dropped_day    month  \\\n",
              "0            17    Evening    Evening        Monday      Monday    March   \n",
              "1             0      Night      Night        Sunday      Sunday     June   \n",
              "2            12    Morning  Afternoon       Tuesday     Tuesday  January   \n",
              "3            19    Evening    Evening     Wednesday   Wednesday    April   \n",
              "4            13  Afternoon  Afternoon      Saturday    Saturday    March   \n",
              "\n",
              "   year  distance  \n",
              "0  2016  1.498523  \n",
              "1  2016  1.805510  \n",
              "2  2016  6.385108  \n",
              "3  2016  1.485501  \n",
              "4  2016  1.188590  "
            ],
            "text/html": [
              "\n",
              "  <div id=\"df-4f89f2cb-e05b-43d3-ab90-61c06940d2d7\">\n",
              "    <div class=\"colab-df-container\">\n",
              "      <div>\n",
              "<style scoped>\n",
              "    .dataframe tbody tr th:only-of-type {\n",
              "        vertical-align: middle;\n",
              "    }\n",
              "\n",
              "    .dataframe tbody tr th {\n",
              "        vertical-align: top;\n",
              "    }\n",
              "\n",
              "    .dataframe thead th {\n",
              "        text-align: right;\n",
              "    }\n",
              "</style>\n",
              "<table border=\"1\" class=\"dataframe\">\n",
              "  <thead>\n",
              "    <tr style=\"text-align: right;\">\n",
              "      <th></th>\n",
              "      <th>id</th>\n",
              "      <th>vendor_id</th>\n",
              "      <th>pickup_datetime</th>\n",
              "      <th>dropoff_datetime</th>\n",
              "      <th>passenger_count</th>\n",
              "      <th>pickup_longitude</th>\n",
              "      <th>pickup_latitude</th>\n",
              "      <th>dropoff_longitude</th>\n",
              "      <th>dropoff_latitude</th>\n",
              "      <th>store_and_fwd_flag</th>\n",
              "      <th>trip_duration</th>\n",
              "      <th>picked_up_hour</th>\n",
              "      <th>dropped_hour</th>\n",
              "      <th>pickup_tod</th>\n",
              "      <th>drop_tod</th>\n",
              "      <th>picked_up_day</th>\n",
              "      <th>dropped_day</th>\n",
              "      <th>month</th>\n",
              "      <th>year</th>\n",
              "      <th>distance</th>\n",
              "    </tr>\n",
              "  </thead>\n",
              "  <tbody>\n",
              "    <tr>\n",
              "      <th>0</th>\n",
              "      <td>id2875421</td>\n",
              "      <td>2</td>\n",
              "      <td>2016-03-14 17:24:55</td>\n",
              "      <td>2016-03-14 17:32:30</td>\n",
              "      <td>1</td>\n",
              "      <td>-73.982155</td>\n",
              "      <td>40.767937</td>\n",
              "      <td>-73.964630</td>\n",
              "      <td>40.765602</td>\n",
              "      <td>N</td>\n",
              "      <td>455</td>\n",
              "      <td>17</td>\n",
              "      <td>17</td>\n",
              "      <td>Evening</td>\n",
              "      <td>Evening</td>\n",
              "      <td>Monday</td>\n",
              "      <td>Monday</td>\n",
              "      <td>March</td>\n",
              "      <td>2016</td>\n",
              "      <td>1.498523</td>\n",
              "    </tr>\n",
              "    <tr>\n",
              "      <th>1</th>\n",
              "      <td>id2377394</td>\n",
              "      <td>1</td>\n",
              "      <td>2016-06-12 00:43:35</td>\n",
              "      <td>2016-06-12 00:54:38</td>\n",
              "      <td>1</td>\n",
              "      <td>-73.980415</td>\n",
              "      <td>40.738564</td>\n",
              "      <td>-73.999481</td>\n",
              "      <td>40.731152</td>\n",
              "      <td>N</td>\n",
              "      <td>663</td>\n",
              "      <td>0</td>\n",
              "      <td>0</td>\n",
              "      <td>Night</td>\n",
              "      <td>Night</td>\n",
              "      <td>Sunday</td>\n",
              "      <td>Sunday</td>\n",
              "      <td>June</td>\n",
              "      <td>2016</td>\n",
              "      <td>1.805510</td>\n",
              "    </tr>\n",
              "    <tr>\n",
              "      <th>2</th>\n",
              "      <td>id3858529</td>\n",
              "      <td>2</td>\n",
              "      <td>2016-01-19 11:35:24</td>\n",
              "      <td>2016-01-19 12:10:48</td>\n",
              "      <td>1</td>\n",
              "      <td>-73.979027</td>\n",
              "      <td>40.763939</td>\n",
              "      <td>-74.005333</td>\n",
              "      <td>40.710087</td>\n",
              "      <td>N</td>\n",
              "      <td>2124</td>\n",
              "      <td>11</td>\n",
              "      <td>12</td>\n",
              "      <td>Morning</td>\n",
              "      <td>Afternoon</td>\n",
              "      <td>Tuesday</td>\n",
              "      <td>Tuesday</td>\n",
              "      <td>January</td>\n",
              "      <td>2016</td>\n",
              "      <td>6.385108</td>\n",
              "    </tr>\n",
              "    <tr>\n",
              "      <th>3</th>\n",
              "      <td>id3504673</td>\n",
              "      <td>2</td>\n",
              "      <td>2016-04-06 19:32:31</td>\n",
              "      <td>2016-04-06 19:39:40</td>\n",
              "      <td>1</td>\n",
              "      <td>-74.010040</td>\n",
              "      <td>40.719971</td>\n",
              "      <td>-74.012268</td>\n",
              "      <td>40.706718</td>\n",
              "      <td>N</td>\n",
              "      <td>429</td>\n",
              "      <td>19</td>\n",
              "      <td>19</td>\n",
              "      <td>Evening</td>\n",
              "      <td>Evening</td>\n",
              "      <td>Wednesday</td>\n",
              "      <td>Wednesday</td>\n",
              "      <td>April</td>\n",
              "      <td>2016</td>\n",
              "      <td>1.485501</td>\n",
              "    </tr>\n",
              "    <tr>\n",
              "      <th>4</th>\n",
              "      <td>id2181028</td>\n",
              "      <td>2</td>\n",
              "      <td>2016-03-26 13:30:55</td>\n",
              "      <td>2016-03-26 13:38:10</td>\n",
              "      <td>1</td>\n",
              "      <td>-73.973053</td>\n",
              "      <td>40.793209</td>\n",
              "      <td>-73.972923</td>\n",
              "      <td>40.782520</td>\n",
              "      <td>N</td>\n",
              "      <td>435</td>\n",
              "      <td>13</td>\n",
              "      <td>13</td>\n",
              "      <td>Afternoon</td>\n",
              "      <td>Afternoon</td>\n",
              "      <td>Saturday</td>\n",
              "      <td>Saturday</td>\n",
              "      <td>March</td>\n",
              "      <td>2016</td>\n",
              "      <td>1.188590</td>\n",
              "    </tr>\n",
              "  </tbody>\n",
              "</table>\n",
              "</div>\n",
              "      <button class=\"colab-df-convert\" onclick=\"convertToInteractive('df-4f89f2cb-e05b-43d3-ab90-61c06940d2d7')\"\n",
              "              title=\"Convert this dataframe to an interactive table.\"\n",
              "              style=\"display:none;\">\n",
              "        \n",
              "  <svg xmlns=\"http://www.w3.org/2000/svg\" height=\"24px\"viewBox=\"0 0 24 24\"\n",
              "       width=\"24px\">\n",
              "    <path d=\"M0 0h24v24H0V0z\" fill=\"none\"/>\n",
              "    <path d=\"M18.56 5.44l.94 2.06.94-2.06 2.06-.94-2.06-.94-.94-2.06-.94 2.06-2.06.94zm-11 1L8.5 8.5l.94-2.06 2.06-.94-2.06-.94L8.5 2.5l-.94 2.06-2.06.94zm10 10l.94 2.06.94-2.06 2.06-.94-2.06-.94-.94-2.06-.94 2.06-2.06.94z\"/><path d=\"M17.41 7.96l-1.37-1.37c-.4-.4-.92-.59-1.43-.59-.52 0-1.04.2-1.43.59L10.3 9.45l-7.72 7.72c-.78.78-.78 2.05 0 2.83L4 21.41c.39.39.9.59 1.41.59.51 0 1.02-.2 1.41-.59l7.78-7.78 2.81-2.81c.8-.78.8-2.07 0-2.86zM5.41 20L4 18.59l7.72-7.72 1.47 1.35L5.41 20z\"/>\n",
              "  </svg>\n",
              "      </button>\n",
              "      \n",
              "  <style>\n",
              "    .colab-df-container {\n",
              "      display:flex;\n",
              "      flex-wrap:wrap;\n",
              "      gap: 12px;\n",
              "    }\n",
              "\n",
              "    .colab-df-convert {\n",
              "      background-color: #E8F0FE;\n",
              "      border: none;\n",
              "      border-radius: 50%;\n",
              "      cursor: pointer;\n",
              "      display: none;\n",
              "      fill: #1967D2;\n",
              "      height: 32px;\n",
              "      padding: 0 0 0 0;\n",
              "      width: 32px;\n",
              "    }\n",
              "\n",
              "    .colab-df-convert:hover {\n",
              "      background-color: #E2EBFA;\n",
              "      box-shadow: 0px 1px 2px rgba(60, 64, 67, 0.3), 0px 1px 3px 1px rgba(60, 64, 67, 0.15);\n",
              "      fill: #174EA6;\n",
              "    }\n",
              "\n",
              "    [theme=dark] .colab-df-convert {\n",
              "      background-color: #3B4455;\n",
              "      fill: #D2E3FC;\n",
              "    }\n",
              "\n",
              "    [theme=dark] .colab-df-convert:hover {\n",
              "      background-color: #434B5C;\n",
              "      box-shadow: 0px 1px 3px 1px rgba(0, 0, 0, 0.15);\n",
              "      filter: drop-shadow(0px 1px 2px rgba(0, 0, 0, 0.3));\n",
              "      fill: #FFFFFF;\n",
              "    }\n",
              "  </style>\n",
              "\n",
              "      <script>\n",
              "        const buttonEl =\n",
              "          document.querySelector('#df-4f89f2cb-e05b-43d3-ab90-61c06940d2d7 button.colab-df-convert');\n",
              "        buttonEl.style.display =\n",
              "          google.colab.kernel.accessAllowed ? 'block' : 'none';\n",
              "\n",
              "        async function convertToInteractive(key) {\n",
              "          const element = document.querySelector('#df-4f89f2cb-e05b-43d3-ab90-61c06940d2d7');\n",
              "          const dataTable =\n",
              "            await google.colab.kernel.invokeFunction('convertToInteractive',\n",
              "                                                     [key], {});\n",
              "          if (!dataTable) return;\n",
              "\n",
              "          const docLinkHtml = 'Like what you see? Visit the ' +\n",
              "            '<a target=\"_blank\" href=https://colab.research.google.com/notebooks/data_table.ipynb>data table notebook</a>'\n",
              "            + ' to learn more about interactive tables.';\n",
              "          element.innerHTML = '';\n",
              "          dataTable['output_type'] = 'display_data';\n",
              "          await google.colab.output.renderOutput(dataTable, element);\n",
              "          const docLink = document.createElement('div');\n",
              "          docLink.innerHTML = docLinkHtml;\n",
              "          element.appendChild(docLink);\n",
              "        }\n",
              "      </script>\n",
              "    </div>\n",
              "  </div>\n",
              "  "
            ]
          },
          "metadata": {},
          "execution_count": 15
        }
      ],
      "source": [
        "taxi_df.head()"
      ]
    },
    {
      "cell_type": "markdown",
      "metadata": {
        "id": "KKmouYLpxxCQ"
      },
      "source": [
        "Using the distance and trip duration we can calculate speed.\n",
        "Formula for speed is\n",
        "speed = distance/timetaken"
      ]
    },
    {
      "cell_type": "code",
      "execution_count": 16,
      "metadata": {
        "id": "8wP0AmrwqYvC"
      },
      "outputs": [],
      "source": [
        "taxi_df['speed'] = (taxi_df.distance/(taxi_df.trip_duration/3600))"
      ]
    },
    {
      "cell_type": "code",
      "execution_count": 17,
      "metadata": {
        "colab": {
          "base_uri": "https://localhost:8080/",
          "height": 386
        },
        "id": "cMd9VMG0ykyQ",
        "outputId": "1d3cd907-d9d2-485f-aba1-2541cb594a82"
      },
      "outputs": [
        {
          "output_type": "execute_result",
          "data": {
            "text/plain": [
              "          id  vendor_id     pickup_datetime    dropoff_datetime  \\\n",
              "0  id2875421          2 2016-03-14 17:24:55 2016-03-14 17:32:30   \n",
              "1  id2377394          1 2016-06-12 00:43:35 2016-06-12 00:54:38   \n",
              "2  id3858529          2 2016-01-19 11:35:24 2016-01-19 12:10:48   \n",
              "3  id3504673          2 2016-04-06 19:32:31 2016-04-06 19:39:40   \n",
              "4  id2181028          2 2016-03-26 13:30:55 2016-03-26 13:38:10   \n",
              "\n",
              "   passenger_count  pickup_longitude  pickup_latitude  dropoff_longitude  \\\n",
              "0                1        -73.982155        40.767937         -73.964630   \n",
              "1                1        -73.980415        40.738564         -73.999481   \n",
              "2                1        -73.979027        40.763939         -74.005333   \n",
              "3                1        -74.010040        40.719971         -74.012268   \n",
              "4                1        -73.973053        40.793209         -73.972923   \n",
              "\n",
              "   dropoff_latitude store_and_fwd_flag  ...  picked_up_hour  dropped_hour  \\\n",
              "0         40.765602                  N  ...              17            17   \n",
              "1         40.731152                  N  ...               0             0   \n",
              "2         40.710087                  N  ...              11            12   \n",
              "3         40.706718                  N  ...              19            19   \n",
              "4         40.782520                  N  ...              13            13   \n",
              "\n",
              "   pickup_tod   drop_tod picked_up_day dropped_day    month  year  distance  \\\n",
              "0     Evening    Evening        Monday      Monday    March  2016  1.498523   \n",
              "1       Night      Night        Sunday      Sunday     June  2016  1.805510   \n",
              "2     Morning  Afternoon       Tuesday     Tuesday  January  2016  6.385108   \n",
              "3     Evening    Evening     Wednesday   Wednesday    April  2016  1.485501   \n",
              "4   Afternoon  Afternoon      Saturday    Saturday    March  2016  1.188590   \n",
              "\n",
              "       speed  \n",
              "0  11.856445  \n",
              "1   9.803673  \n",
              "2  10.822216  \n",
              "3  12.465739  \n",
              "4   9.836608  \n",
              "\n",
              "[5 rows x 21 columns]"
            ],
            "text/html": [
              "\n",
              "  <div id=\"df-3d32c53f-b7e5-46f7-a0c5-cd6dbd03e0f3\">\n",
              "    <div class=\"colab-df-container\">\n",
              "      <div>\n",
              "<style scoped>\n",
              "    .dataframe tbody tr th:only-of-type {\n",
              "        vertical-align: middle;\n",
              "    }\n",
              "\n",
              "    .dataframe tbody tr th {\n",
              "        vertical-align: top;\n",
              "    }\n",
              "\n",
              "    .dataframe thead th {\n",
              "        text-align: right;\n",
              "    }\n",
              "</style>\n",
              "<table border=\"1\" class=\"dataframe\">\n",
              "  <thead>\n",
              "    <tr style=\"text-align: right;\">\n",
              "      <th></th>\n",
              "      <th>id</th>\n",
              "      <th>vendor_id</th>\n",
              "      <th>pickup_datetime</th>\n",
              "      <th>dropoff_datetime</th>\n",
              "      <th>passenger_count</th>\n",
              "      <th>pickup_longitude</th>\n",
              "      <th>pickup_latitude</th>\n",
              "      <th>dropoff_longitude</th>\n",
              "      <th>dropoff_latitude</th>\n",
              "      <th>store_and_fwd_flag</th>\n",
              "      <th>...</th>\n",
              "      <th>picked_up_hour</th>\n",
              "      <th>dropped_hour</th>\n",
              "      <th>pickup_tod</th>\n",
              "      <th>drop_tod</th>\n",
              "      <th>picked_up_day</th>\n",
              "      <th>dropped_day</th>\n",
              "      <th>month</th>\n",
              "      <th>year</th>\n",
              "      <th>distance</th>\n",
              "      <th>speed</th>\n",
              "    </tr>\n",
              "  </thead>\n",
              "  <tbody>\n",
              "    <tr>\n",
              "      <th>0</th>\n",
              "      <td>id2875421</td>\n",
              "      <td>2</td>\n",
              "      <td>2016-03-14 17:24:55</td>\n",
              "      <td>2016-03-14 17:32:30</td>\n",
              "      <td>1</td>\n",
              "      <td>-73.982155</td>\n",
              "      <td>40.767937</td>\n",
              "      <td>-73.964630</td>\n",
              "      <td>40.765602</td>\n",
              "      <td>N</td>\n",
              "      <td>...</td>\n",
              "      <td>17</td>\n",
              "      <td>17</td>\n",
              "      <td>Evening</td>\n",
              "      <td>Evening</td>\n",
              "      <td>Monday</td>\n",
              "      <td>Monday</td>\n",
              "      <td>March</td>\n",
              "      <td>2016</td>\n",
              "      <td>1.498523</td>\n",
              "      <td>11.856445</td>\n",
              "    </tr>\n",
              "    <tr>\n",
              "      <th>1</th>\n",
              "      <td>id2377394</td>\n",
              "      <td>1</td>\n",
              "      <td>2016-06-12 00:43:35</td>\n",
              "      <td>2016-06-12 00:54:38</td>\n",
              "      <td>1</td>\n",
              "      <td>-73.980415</td>\n",
              "      <td>40.738564</td>\n",
              "      <td>-73.999481</td>\n",
              "      <td>40.731152</td>\n",
              "      <td>N</td>\n",
              "      <td>...</td>\n",
              "      <td>0</td>\n",
              "      <td>0</td>\n",
              "      <td>Night</td>\n",
              "      <td>Night</td>\n",
              "      <td>Sunday</td>\n",
              "      <td>Sunday</td>\n",
              "      <td>June</td>\n",
              "      <td>2016</td>\n",
              "      <td>1.805510</td>\n",
              "      <td>9.803673</td>\n",
              "    </tr>\n",
              "    <tr>\n",
              "      <th>2</th>\n",
              "      <td>id3858529</td>\n",
              "      <td>2</td>\n",
              "      <td>2016-01-19 11:35:24</td>\n",
              "      <td>2016-01-19 12:10:48</td>\n",
              "      <td>1</td>\n",
              "      <td>-73.979027</td>\n",
              "      <td>40.763939</td>\n",
              "      <td>-74.005333</td>\n",
              "      <td>40.710087</td>\n",
              "      <td>N</td>\n",
              "      <td>...</td>\n",
              "      <td>11</td>\n",
              "      <td>12</td>\n",
              "      <td>Morning</td>\n",
              "      <td>Afternoon</td>\n",
              "      <td>Tuesday</td>\n",
              "      <td>Tuesday</td>\n",
              "      <td>January</td>\n",
              "      <td>2016</td>\n",
              "      <td>6.385108</td>\n",
              "      <td>10.822216</td>\n",
              "    </tr>\n",
              "    <tr>\n",
              "      <th>3</th>\n",
              "      <td>id3504673</td>\n",
              "      <td>2</td>\n",
              "      <td>2016-04-06 19:32:31</td>\n",
              "      <td>2016-04-06 19:39:40</td>\n",
              "      <td>1</td>\n",
              "      <td>-74.010040</td>\n",
              "      <td>40.719971</td>\n",
              "      <td>-74.012268</td>\n",
              "      <td>40.706718</td>\n",
              "      <td>N</td>\n",
              "      <td>...</td>\n",
              "      <td>19</td>\n",
              "      <td>19</td>\n",
              "      <td>Evening</td>\n",
              "      <td>Evening</td>\n",
              "      <td>Wednesday</td>\n",
              "      <td>Wednesday</td>\n",
              "      <td>April</td>\n",
              "      <td>2016</td>\n",
              "      <td>1.485501</td>\n",
              "      <td>12.465739</td>\n",
              "    </tr>\n",
              "    <tr>\n",
              "      <th>4</th>\n",
              "      <td>id2181028</td>\n",
              "      <td>2</td>\n",
              "      <td>2016-03-26 13:30:55</td>\n",
              "      <td>2016-03-26 13:38:10</td>\n",
              "      <td>1</td>\n",
              "      <td>-73.973053</td>\n",
              "      <td>40.793209</td>\n",
              "      <td>-73.972923</td>\n",
              "      <td>40.782520</td>\n",
              "      <td>N</td>\n",
              "      <td>...</td>\n",
              "      <td>13</td>\n",
              "      <td>13</td>\n",
              "      <td>Afternoon</td>\n",
              "      <td>Afternoon</td>\n",
              "      <td>Saturday</td>\n",
              "      <td>Saturday</td>\n",
              "      <td>March</td>\n",
              "      <td>2016</td>\n",
              "      <td>1.188590</td>\n",
              "      <td>9.836608</td>\n",
              "    </tr>\n",
              "  </tbody>\n",
              "</table>\n",
              "<p>5 rows × 21 columns</p>\n",
              "</div>\n",
              "      <button class=\"colab-df-convert\" onclick=\"convertToInteractive('df-3d32c53f-b7e5-46f7-a0c5-cd6dbd03e0f3')\"\n",
              "              title=\"Convert this dataframe to an interactive table.\"\n",
              "              style=\"display:none;\">\n",
              "        \n",
              "  <svg xmlns=\"http://www.w3.org/2000/svg\" height=\"24px\"viewBox=\"0 0 24 24\"\n",
              "       width=\"24px\">\n",
              "    <path d=\"M0 0h24v24H0V0z\" fill=\"none\"/>\n",
              "    <path d=\"M18.56 5.44l.94 2.06.94-2.06 2.06-.94-2.06-.94-.94-2.06-.94 2.06-2.06.94zm-11 1L8.5 8.5l.94-2.06 2.06-.94-2.06-.94L8.5 2.5l-.94 2.06-2.06.94zm10 10l.94 2.06.94-2.06 2.06-.94-2.06-.94-.94-2.06-.94 2.06-2.06.94z\"/><path d=\"M17.41 7.96l-1.37-1.37c-.4-.4-.92-.59-1.43-.59-.52 0-1.04.2-1.43.59L10.3 9.45l-7.72 7.72c-.78.78-.78 2.05 0 2.83L4 21.41c.39.39.9.59 1.41.59.51 0 1.02-.2 1.41-.59l7.78-7.78 2.81-2.81c.8-.78.8-2.07 0-2.86zM5.41 20L4 18.59l7.72-7.72 1.47 1.35L5.41 20z\"/>\n",
              "  </svg>\n",
              "      </button>\n",
              "      \n",
              "  <style>\n",
              "    .colab-df-container {\n",
              "      display:flex;\n",
              "      flex-wrap:wrap;\n",
              "      gap: 12px;\n",
              "    }\n",
              "\n",
              "    .colab-df-convert {\n",
              "      background-color: #E8F0FE;\n",
              "      border: none;\n",
              "      border-radius: 50%;\n",
              "      cursor: pointer;\n",
              "      display: none;\n",
              "      fill: #1967D2;\n",
              "      height: 32px;\n",
              "      padding: 0 0 0 0;\n",
              "      width: 32px;\n",
              "    }\n",
              "\n",
              "    .colab-df-convert:hover {\n",
              "      background-color: #E2EBFA;\n",
              "      box-shadow: 0px 1px 2px rgba(60, 64, 67, 0.3), 0px 1px 3px 1px rgba(60, 64, 67, 0.15);\n",
              "      fill: #174EA6;\n",
              "    }\n",
              "\n",
              "    [theme=dark] .colab-df-convert {\n",
              "      background-color: #3B4455;\n",
              "      fill: #D2E3FC;\n",
              "    }\n",
              "\n",
              "    [theme=dark] .colab-df-convert:hover {\n",
              "      background-color: #434B5C;\n",
              "      box-shadow: 0px 1px 3px 1px rgba(0, 0, 0, 0.15);\n",
              "      filter: drop-shadow(0px 1px 2px rgba(0, 0, 0, 0.3));\n",
              "      fill: #FFFFFF;\n",
              "    }\n",
              "  </style>\n",
              "\n",
              "      <script>\n",
              "        const buttonEl =\n",
              "          document.querySelector('#df-3d32c53f-b7e5-46f7-a0c5-cd6dbd03e0f3 button.colab-df-convert');\n",
              "        buttonEl.style.display =\n",
              "          google.colab.kernel.accessAllowed ? 'block' : 'none';\n",
              "\n",
              "        async function convertToInteractive(key) {\n",
              "          const element = document.querySelector('#df-3d32c53f-b7e5-46f7-a0c5-cd6dbd03e0f3');\n",
              "          const dataTable =\n",
              "            await google.colab.kernel.invokeFunction('convertToInteractive',\n",
              "                                                     [key], {});\n",
              "          if (!dataTable) return;\n",
              "\n",
              "          const docLinkHtml = 'Like what you see? Visit the ' +\n",
              "            '<a target=\"_blank\" href=https://colab.research.google.com/notebooks/data_table.ipynb>data table notebook</a>'\n",
              "            + ' to learn more about interactive tables.';\n",
              "          element.innerHTML = '';\n",
              "          dataTable['output_type'] = 'display_data';\n",
              "          await google.colab.output.renderOutput(dataTable, element);\n",
              "          const docLink = document.createElement('div');\n",
              "          docLink.innerHTML = docLinkHtml;\n",
              "          element.appendChild(docLink);\n",
              "        }\n",
              "      </script>\n",
              "    </div>\n",
              "  </div>\n",
              "  "
            ]
          },
          "metadata": {},
          "execution_count": 17
        }
      ],
      "source": [
        "taxi_df.head()"
      ]
    },
    {
      "cell_type": "markdown",
      "metadata": {
        "id": "BEcxDaj20q0v"
      },
      "source": [
        "### Univariate Analysis"
      ]
    },
    {
      "cell_type": "code",
      "execution_count": 18,
      "metadata": {
        "colab": {
          "base_uri": "https://localhost:8080/",
          "height": 454
        },
        "id": "yoB_V0vIzcdh",
        "outputId": "723e3418-8d54-4b0b-cf59-85b7f65c2854"
      },
      "outputs": [
        {
          "output_type": "stream",
          "name": "stderr",
          "text": [
            "/usr/local/lib/python3.7/dist-packages/seaborn/distributions.py:2619: FutureWarning: `distplot` is a deprecated function and will be removed in a future version. Please adapt your code to use either `displot` (a figure-level function with similar flexibility) or `histplot` (an axes-level function for histograms).\n",
            "  warnings.warn(msg, FutureWarning)\n"
          ]
        },
        {
          "output_type": "display_data",
          "data": {
            "text/plain": [
              "<Figure size 720x432 with 1 Axes>"
            ],
            "image/png": "[encoded data removed]"
          },
          "metadata": {
            "needs_background": "light"
          }
        }
      ],
      "source": [
        "# Dependent variable is trip duration\n",
        "plt.figure(figsize = (10,6))\n",
        "sns.distplot(taxi_df['trip_duration'], color='y')\n",
        "plt.xlabel('Trip Duration')\n",
        "plt.show()"
      ]
    },
    {
      "cell_type": "code",
      "execution_count": 19,
      "metadata": {
        "colab": {
          "base_uri": "https://localhost:8080/",
          "height": 443
        },
        "id": "bVJ5m07H1Hrw",
        "outputId": "51d31c4f-747d-45d1-b4e0-c97974da34b6"
      },
      "outputs": [
        {
          "output_type": "stream",
          "name": "stderr",
          "text": [
            "/usr/local/lib/python3.7/dist-packages/seaborn/distributions.py:2619: FutureWarning: `distplot` is a deprecated function and will be removed in a future version. Please adapt your code to use either `displot` (a figure-level function with similar flexibility) or `histplot` (an axes-level function for histograms).\n",
            "  warnings.warn(msg, FutureWarning)\n"
          ]
        },
        {
          "output_type": "display_data",
          "data": {
            "text/plain": [
              "<Figure size 720x432 with 1 Axes>"
            ],
            "image/png": "[encoded data removed]"
          },
          "metadata": {
            "needs_background": "light"
          }
        }
      ],
      "source": [
        "#Performing np.log10 transformation since the above graph is right skewed\n",
        "plt.figure(figsize = (10,6))\n",
        "sns.distplot(np.log10(taxi_df['trip_duration']), color='y')\n",
        "plt.xlabel('Trip Duration')\n",
        "plt.show()"
      ]
    },
    {
      "cell_type": "markdown",
      "metadata": {
        "id": "083QvsUg2OAg"
      },
      "source": [
        "Now the graph has normal distribution"
      ]
    },
    {
      "cell_type": "code",
      "execution_count": 20,
      "metadata": {
        "colab": {
          "base_uri": "https://localhost:8080/",
          "height": 357
        },
        "id": "sexnulCBZ-Gj",
        "outputId": "abdaa830-8d28-40ed-d490-32ee83c1223b"
      },
      "outputs": [
        {
          "output_type": "execute_result",
          "data": {
            "text/plain": [
              "          id  vendor_id     pickup_datetime    dropoff_datetime  \\\n",
              "2  id3858529          2 2016-01-19 11:35:24 2016-01-19 12:10:48   \n",
              "1  id2377394          1 2016-06-12 00:43:35 2016-06-12 00:54:38   \n",
              "0  id2875421          2 2016-03-14 17:24:55 2016-03-14 17:32:30   \n",
              "4  id2181028          2 2016-03-26 13:30:55 2016-03-26 13:38:10   \n",
              "3  id3504673          2 2016-04-06 19:32:31 2016-04-06 19:39:40   \n",
              "\n",
              "   passenger_count  pickup_longitude  pickup_latitude  dropoff_longitude  \\\n",
              "2                1        -73.979027        40.763939         -74.005333   \n",
              "1                1        -73.980415        40.738564         -73.999481   \n",
              "0                1        -73.982155        40.767937         -73.964630   \n",
              "4                1        -73.973053        40.793209         -73.972923   \n",
              "3                1        -74.010040        40.719971         -74.012268   \n",
              "\n",
              "   dropoff_latitude store_and_fwd_flag  trip_duration  picked_up_hour  \\\n",
              "2         40.710087                  N           2124              11   \n",
              "1         40.731152                  N            663               0   \n",
              "0         40.765602                  N            455              17   \n",
              "4         40.782520                  N            435              13   \n",
              "3         40.706718                  N            429              19   \n",
              "\n",
              "   dropped_hour pickup_tod   drop_tod picked_up_day dropped_day    month  \\\n",
              "2            12    Morning  Afternoon       Tuesday     Tuesday  January   \n",
              "1             0      Night      Night        Sunday      Sunday     June   \n",
              "0            17    Evening    Evening        Monday      Monday    March   \n",
              "4            13  Afternoon  Afternoon      Saturday    Saturday    March   \n",
              "3            19    Evening    Evening     Wednesday   Wednesday    April   \n",
              "\n",
              "   year  distance      speed  \n",
              "2  2016  6.385108  10.822216  \n",
              "1  2016  1.805510   9.803673  \n",
              "0  2016  1.498523  11.856445  \n",
              "4  2016  1.188590   9.836608  \n",
              "3  2016  1.485501  12.465739  "
            ],
            "text/html": [
              "\n",
              "  <div id=\"df-97368bc2-13a0-4db7-a3fb-353e4cef9380\">\n",
              "    <div class=\"colab-df-container\">\n",
              "      <div>\n",
              "<style scoped>\n",
              "    .dataframe tbody tr th:only-of-type {\n",
              "        vertical-align: middle;\n",
              "    }\n",
              "\n",
              "    .dataframe tbody tr th {\n",
              "        vertical-align: top;\n",
              "    }\n",
              "\n",
              "    .dataframe thead th {\n",
              "        text-align: right;\n",
              "    }\n",
              "</style>\n",
              "<table border=\"1\" class=\"dataframe\">\n",
              "  <thead>\n",
              "    <tr style=\"text-align: right;\">\n",
              "      <th></th>\n",
              "      <th>id</th>\n",
              "      <th>vendor_id</th>\n",
              "      <th>pickup_datetime</th>\n",
              "      <th>dropoff_datetime</th>\n",
              "      <th>passenger_count</th>\n",
              "      <th>pickup_longitude</th>\n",
              "      <th>pickup_latitude</th>\n",
              "      <th>dropoff_longitude</th>\n",
              "      <th>dropoff_latitude</th>\n",
              "      <th>store_and_fwd_flag</th>\n",
              "      <th>trip_duration</th>\n",
              "      <th>picked_up_hour</th>\n",
              "      <th>dropped_hour</th>\n",
              "      <th>pickup_tod</th>\n",
              "      <th>drop_tod</th>\n",
              "      <th>picked_up_day</th>\n",
              "      <th>dropped_day</th>\n",
              "      <th>month</th>\n",
              "      <th>year</th>\n",
              "      <th>distance</th>\n",
              "      <th>speed</th>\n",
              "    </tr>\n",
              "  </thead>\n",
              "  <tbody>\n",
              "    <tr>\n",
              "      <th>2</th>\n",
              "      <td>id3858529</td>\n",
              "      <td>2</td>\n",
              "      <td>2016-01-19 11:35:24</td>\n",
              "      <td>2016-01-19 12:10:48</td>\n",
              "      <td>1</td>\n",
              "      <td>-73.979027</td>\n",
              "      <td>40.763939</td>\n",
              "      <td>-74.005333</td>\n",
              "      <td>40.710087</td>\n",
              "      <td>N</td>\n",
              "      <td>2124</td>\n",
              "      <td>11</td>\n",
              "      <td>12</td>\n",
              "      <td>Morning</td>\n",
              "      <td>Afternoon</td>\n",
              "      <td>Tuesday</td>\n",
              "      <td>Tuesday</td>\n",
              "      <td>January</td>\n",
              "      <td>2016</td>\n",
              "      <td>6.385108</td>\n",
              "      <td>10.822216</td>\n",
              "    </tr>\n",
              "    <tr>\n",
              "      <th>1</th>\n",
              "      <td>id2377394</td>\n",
              "      <td>1</td>\n",
              "      <td>2016-06-12 00:43:35</td>\n",
              "      <td>2016-06-12 00:54:38</td>\n",
              "      <td>1</td>\n",
              "      <td>-73.980415</td>\n",
              "      <td>40.738564</td>\n",
              "      <td>-73.999481</td>\n",
              "      <td>40.731152</td>\n",
              "      <td>N</td>\n",
              "      <td>663</td>\n",
              "      <td>0</td>\n",
              "      <td>0</td>\n",
              "      <td>Night</td>\n",
              "      <td>Night</td>\n",
              "      <td>Sunday</td>\n",
              "      <td>Sunday</td>\n",
              "      <td>June</td>\n",
              "      <td>2016</td>\n",
              "      <td>1.805510</td>\n",
              "      <td>9.803673</td>\n",
              "    </tr>\n",
              "    <tr>\n",
              "      <th>0</th>\n",
              "      <td>id2875421</td>\n",
              "      <td>2</td>\n",
              "      <td>2016-03-14 17:24:55</td>\n",
              "      <td>2016-03-14 17:32:30</td>\n",
              "      <td>1</td>\n",
              "      <td>-73.982155</td>\n",
              "      <td>40.767937</td>\n",
              "      <td>-73.964630</td>\n",
              "      <td>40.765602</td>\n",
              "      <td>N</td>\n",
              "      <td>455</td>\n",
              "      <td>17</td>\n",
              "      <td>17</td>\n",
              "      <td>Evening</td>\n",
              "      <td>Evening</td>\n",
              "      <td>Monday</td>\n",
              "      <td>Monday</td>\n",
              "      <td>March</td>\n",
              "      <td>2016</td>\n",
              "      <td>1.498523</td>\n",
              "      <td>11.856445</td>\n",
              "    </tr>\n",
              "    <tr>\n",
              "      <th>4</th>\n",
              "      <td>id2181028</td>\n",
              "      <td>2</td>\n",
              "      <td>2016-03-26 13:30:55</td>\n",
              "      <td>2016-03-26 13:38:10</td>\n",
              "      <td>1</td>\n",
              "      <td>-73.973053</td>\n",
              "      <td>40.793209</td>\n",
              "      <td>-73.972923</td>\n",
              "      <td>40.782520</td>\n",
              "      <td>N</td>\n",
              "      <td>435</td>\n",
              "      <td>13</td>\n",
              "      <td>13</td>\n",
              "      <td>Afternoon</td>\n",
              "      <td>Afternoon</td>\n",
              "      <td>Saturday</td>\n",
              "      <td>Saturday</td>\n",
              "      <td>March</td>\n",
              "      <td>2016</td>\n",
              "      <td>1.188590</td>\n",
              "      <td>9.836608</td>\n",
              "    </tr>\n",
              "    <tr>\n",
              "      <th>3</th>\n",
              "      <td>id3504673</td>\n",
              "      <td>2</td>\n",
              "      <td>2016-04-06 19:32:31</td>\n",
              "      <td>2016-04-06 19:39:40</td>\n",
              "      <td>1</td>\n",
              "      <td>-74.010040</td>\n",
              "      <td>40.719971</td>\n",
              "      <td>-74.012268</td>\n",
              "      <td>40.706718</td>\n",
              "      <td>N</td>\n",
              "      <td>429</td>\n",
              "      <td>19</td>\n",
              "      <td>19</td>\n",
              "      <td>Evening</td>\n",
              "      <td>Evening</td>\n",
              "      <td>Wednesday</td>\n",
              "      <td>Wednesday</td>\n",
              "      <td>April</td>\n",
              "      <td>2016</td>\n",
              "      <td>1.485501</td>\n",
              "      <td>12.465739</td>\n",
              "    </tr>\n",
              "  </tbody>\n",
              "</table>\n",
              "</div>\n",
              "      <button class=\"colab-df-convert\" onclick=\"convertToInteractive('df-97368bc2-13a0-4db7-a3fb-353e4cef9380')\"\n",
              "              title=\"Convert this dataframe to an interactive table.\"\n",
              "              style=\"display:none;\">\n",
              "        \n",
              "  <svg xmlns=\"http://www.w3.org/2000/svg\" height=\"24px\"viewBox=\"0 0 24 24\"\n",
              "       width=\"24px\">\n",
              "    <path d=\"M0 0h24v24H0V0z\" fill=\"none\"/>\n",
              "    <path d=\"M18.56 5.44l.94 2.06.94-2.06 2.06-.94-2.06-.94-.94-2.06-.94 2.06-2.06.94zm-11 1L8.5 8.5l.94-2.06 2.06-.94-2.06-.94L8.5 2.5l-.94 2.06-2.06.94zm10 10l.94 2.06.94-2.06 2.06-.94-2.06-.94-.94-2.06-.94 2.06-2.06.94z\"/><path d=\"M17.41 7.96l-1.37-1.37c-.4-.4-.92-.59-1.43-.59-.52 0-1.04.2-1.43.59L10.3 9.45l-7.72 7.72c-.78.78-.78 2.05 0 2.83L4 21.41c.39.39.9.59 1.41.59.51 0 1.02-.2 1.41-.59l7.78-7.78 2.81-2.81c.8-.78.8-2.07 0-2.86zM5.41 20L4 18.59l7.72-7.72 1.47 1.35L5.41 20z\"/>\n",
              "  </svg>\n",
              "      </button>\n",
              "      \n",
              "  <style>\n",
              "    .colab-df-container {\n",
              "      display:flex;\n",
              "      flex-wrap:wrap;\n",
              "      gap: 12px;\n",
              "    }\n",
              "\n",
              "    .colab-df-convert {\n",
              "      background-color: #E8F0FE;\n",
              "      border: none;\n",
              "      border-radius: 50%;\n",
              "      cursor: pointer;\n",
              "      display: none;\n",
              "      fill: #1967D2;\n",
              "      height: 32px;\n",
              "      padding: 0 0 0 0;\n",
              "      width: 32px;\n",
              "    }\n",
              "\n",
              "    .colab-df-convert:hover {\n",
              "      background-color: #E2EBFA;\n",
              "      box-shadow: 0px 1px 2px rgba(60, 64, 67, 0.3), 0px 1px 3px 1px rgba(60, 64, 67, 0.15);\n",
              "      fill: #174EA6;\n",
              "    }\n",
              "\n",
              "    [theme=dark] .colab-df-convert {\n",
              "      background-color: #3B4455;\n",
              "      fill: #D2E3FC;\n",
              "    }\n",
              "\n",
              "    [theme=dark] .colab-df-convert:hover {\n",
              "      background-color: #434B5C;\n",
              "      box-shadow: 0px 1px 3px 1px rgba(0, 0, 0, 0.15);\n",
              "      filter: drop-shadow(0px 1px 2px rgba(0, 0, 0, 0.3));\n",
              "      fill: #FFFFFF;\n",
              "    }\n",
              "  </style>\n",
              "\n",
              "      <script>\n",
              "        const buttonEl =\n",
              "          document.querySelector('#df-97368bc2-13a0-4db7-a3fb-353e4cef9380 button.colab-df-convert');\n",
              "        buttonEl.style.display =\n",
              "          google.colab.kernel.accessAllowed ? 'block' : 'none';\n",
              "\n",
              "        async function convertToInteractive(key) {\n",
              "          const element = document.querySelector('#df-97368bc2-13a0-4db7-a3fb-353e4cef9380');\n",
              "          const dataTable =\n",
              "            await google.colab.kernel.invokeFunction('convertToInteractive',\n",
              "                                                     [key], {});\n",
              "          if (!dataTable) return;\n",
              "\n",
              "          const docLinkHtml = 'Like what you see? Visit the ' +\n",
              "            '<a target=\"_blank\" href=https://colab.research.google.com/notebooks/data_table.ipynb>data table notebook</a>'\n",
              "            + ' to learn more about interactive tables.';\n",
              "          element.innerHTML = '';\n",
              "          dataTable['output_type'] = 'display_data';\n",
              "          await google.colab.output.renderOutput(dataTable, element);\n",
              "          const docLink = document.createElement('div');\n",
              "          docLink.innerHTML = docLinkHtml;\n",
              "          element.appendChild(docLink);\n",
              "        }\n",
              "      </script>\n",
              "    </div>\n",
              "  </div>\n",
              "  "
            ]
          },
          "metadata": {},
          "execution_count": 20
        }
      ],
      "source": [
        "pd.set_option('display.max_rows', None)\n",
        "pd.set_option('display.max_columns', None)\n",
        "taxi_df.head().sort_values(by='trip_duration', ascending=False)"
      ]
    },
    {
      "cell_type": "code",
      "execution_count": 21,
      "metadata": {
        "colab": {
          "base_uri": "https://localhost:8080/",
          "height": 390
        },
        "id": "dPguNrg4fH9j",
        "outputId": "c94c7231-aa3b-4022-db85-6d176492cc1f"
      },
      "outputs": [
        {
          "output_type": "stream",
          "name": "stderr",
          "text": [
            "/usr/local/lib/python3.7/dist-packages/seaborn/_decorators.py:43: FutureWarning: Pass the following variable as a keyword arg: x. From version 0.12, the only valid positional argument will be `data`, and passing other arguments without an explicit keyword will result in an error or misinterpretation.\n",
            "  FutureWarning\n"
          ]
        },
        {
          "output_type": "display_data",
          "data": {
            "text/plain": [
              "<Figure size 1440x360 with 1 Axes>"
            ],
            "image/png": "[encoded data removed]"
          },
          "metadata": {
            "needs_background": "light"
          }
        }
      ],
      "source": [
        "plt.figure(figsize = (20,5))\n",
        "sns.boxplot(taxi_df.trip_duration)\n",
        "plt.show()"
      ]
    },
    {
      "cell_type": "code",
      "execution_count": 22,
      "metadata": {
        "colab": {
          "base_uri": "https://localhost:8080/",
          "height": 1000
        },
        "id": "EKVF1tG2Bfkb",
        "outputId": "44f1e28c-549d-44ed-a8ca-87fb2f7d1292"
      },
      "outputs": [
        {
          "output_type": "execute_result",
          "data": {
            "text/plain": [
              "      index  trip_duration\n",
              "0    978383        3526282\n",
              "1    924150        2227612\n",
              "2    680594        2049578\n",
              "3    355003        1939736\n",
              "4   1234291          86392\n",
              "5    295382          86391\n",
              "6     73816          86390\n",
              "7     59891          86387\n",
              "8   1360439          86385\n",
              "9    753765          86379\n",
              "10  1221666          86378\n",
              "11    91717          86378\n",
              "12  1138915          86377\n",
              "13    66346          86377\n",
              "14  1284067          86369\n",
              "15   779030          86369\n",
              "16   172662          86369\n",
              "17  1269316          86369\n",
              "18  1233528          86367\n",
              "19  1213613          86367\n",
              "20   483960          86366\n",
              "21  1282413          86365\n",
              "22   344777          86364\n",
              "23   290498          86364\n",
              "24  1399707          86363\n",
              "25   252615          86362\n",
              "26   755015          86362\n",
              "27  1258361          86362\n",
              "28   556468          86362\n",
              "29  1182032          86361\n",
              "30  1099093          86361\n",
              "31  1102514          86361\n",
              "32   318008          86360\n",
              "33    88508          86358\n",
              "34   883205          86358\n",
              "35   351537          86358\n",
              "36   612768          86357\n",
              "37  1437604          86357\n",
              "38     6513          86357\n",
              "39   645313          86356\n",
              "40   836498          86356\n",
              "41  1296280          86356\n",
              "42   169857          86356\n",
              "43  1107580          86355\n",
              "44   447905          86354\n",
              "45    98761          86354\n",
              "46   992593          86354\n",
              "47   660239          86354\n",
              "48  1298124          86353\n",
              "49   689735          86353\n",
              "50   913947          86353\n",
              "51   725322          86352\n",
              "52    43633          86352\n",
              "53   723071          86352\n",
              "54   168983          86352\n",
              "55     1865          86352\n",
              "56   158942          86351\n",
              "57   197478          86351\n",
              "58    88912          86351\n",
              "59   859344          86350\n",
              "60  1015414          86349\n",
              "61  1217018          86349\n",
              "62   571162          86348\n",
              "63  1185448          86348\n",
              "64  1054248          86347\n",
              "65   318744          86347\n",
              "66   551825          86346\n",
              "67  1349059          86346\n",
              "68    94085          86346\n",
              "69   185300          86346\n",
              "70  1311838          86346\n",
              "71   461863          86346\n",
              "72    21304          86345\n",
              "73   673505          86345\n",
              "74   331203          86345\n",
              "75   141466          86345\n",
              "76    38815          86344\n",
              "77   676224          86344\n",
              "78   117740          86344\n",
              "79   611784          86344\n",
              "80   629458          86344\n",
              "81    21846          86343\n",
              "82   807815          86343\n",
              "83   719718          86342\n",
              "84   675148          86342\n",
              "85   943465          86342\n",
              "86   437528          86341\n",
              "87   901674          86341\n",
              "88  1072076          86341\n",
              "89   757022          86340\n",
              "90  1207527          86340\n",
              "91   556352          86340\n",
              "92  1129500          86340\n",
              "93   709422          86340\n",
              "94   539740          86340\n",
              "95  1208107          86340\n",
              "96   310886          86340\n",
              "97  1431109          86339\n",
              "98   408368          86339\n",
              "99   424008          86339"
            ],
            "text/html": [
              "\n",
              "  <div id=\"df-2b09f8e6-72d0-4cba-b46b-359155d04009\">\n",
              "    <div class=\"colab-df-container\">\n",
              "      <div>\n",
              "<style scoped>\n",
              "    .dataframe tbody tr th:only-of-type {\n",
              "        vertical-align: middle;\n",
              "    }\n",
              "\n",
              "    .dataframe tbody tr th {\n",
              "        vertical-align: top;\n",
              "    }\n",
              "\n",
              "    .dataframe thead th {\n",
              "        text-align: right;\n",
              "    }\n",
              "</style>\n",
              "<table border=\"1\" class=\"dataframe\">\n",
              "  <thead>\n",
              "    <tr style=\"text-align: right;\">\n",
              "      <th></th>\n",
              "      <th>index</th>\n",
              "      <th>trip_duration</th>\n",
              "    </tr>\n",
              "  </thead>\n",
              "  <tbody>\n",
              "    <tr>\n",
              "      <th>0</th>\n",
              "      <td>978383</td>\n",
              "      <td>3526282</td>\n",
              "    </tr>\n",
              "    <tr>\n",
              "      <th>1</th>\n",
              "      <td>924150</td>\n",
              "      <td>2227612</td>\n",
              "    </tr>\n",
              "    <tr>\n",
              "      <th>2</th>\n",
              "      <td>680594</td>\n",
              "      <td>2049578</td>\n",
              "    </tr>\n",
              "    <tr>\n",
              "      <th>3</th>\n",
              "      <td>355003</td>\n",
              "      <td>1939736</td>\n",
              "    </tr>\n",
              "    <tr>\n",
              "      <th>4</th>\n",
              "      <td>1234291</td>\n",
              "      <td>86392</td>\n",
              "    </tr>\n",
              "    <tr>\n",
              "      <th>5</th>\n",
              "      <td>295382</td>\n",
              "      <td>86391</td>\n",
              "    </tr>\n",
              "    <tr>\n",
              "      <th>6</th>\n",
              "      <td>73816</td>\n",
              "      <td>86390</td>\n",
              "    </tr>\n",
              "    <tr>\n",
              "      <th>7</th>\n",
              "      <td>59891</td>\n",
              "      <td>86387</td>\n",
              "    </tr>\n",
              "    <tr>\n",
              "      <th>8</th>\n",
              "      <td>1360439</td>\n",
              "      <td>86385</td>\n",
              "    </tr>\n",
              "    <tr>\n",
              "      <th>9</th>\n",
              "      <td>753765</td>\n",
              "      <td>86379</td>\n",
              "    </tr>\n",
              "    <tr>\n",
              "      <th>10</th>\n",
              "      <td>1221666</td>\n",
              "      <td>86378</td>\n",
              "    </tr>\n",
              "    <tr>\n",
              "      <th>11</th>\n",
              "      <td>91717</td>\n",
              "      <td>86378</td>\n",
              "    </tr>\n",
              "    <tr>\n",
              "      <th>12</th>\n",
              "      <td>1138915</td>\n",
              "      <td>86377</td>\n",
              "    </tr>\n",
              "    <tr>\n",
              "      <th>13</th>\n",
              "      <td>66346</td>\n",
              "      <td>86377</td>\n",
              "    </tr>\n",
              "    <tr>\n",
              "      <th>14</th>\n",
              "      <td>1284067</td>\n",
              "      <td>86369</td>\n",
              "    </tr>\n",
              "    <tr>\n",
              "      <th>15</th>\n",
              "      <td>779030</td>\n",
              "      <td>86369</td>\n",
              "    </tr>\n",
              "    <tr>\n",
              "      <th>16</th>\n",
              "      <td>172662</td>\n",
              "      <td>86369</td>\n",
              "    </tr>\n",
              "    <tr>\n",
              "      <th>17</th>\n",
              "      <td>1269316</td>\n",
              "      <td>86369</td>\n",
              "    </tr>\n",
              "    <tr>\n",
              "      <th>18</th>\n",
              "      <td>1233528</td>\n",
              "      <td>86367</td>\n",
              "    </tr>\n",
              "    <tr>\n",
              "      <th>19</th>\n",
              "      <td>1213613</td>\n",
              "      <td>86367</td>\n",
              "    </tr>\n",
              "    <tr>\n",
              "      <th>20</th>\n",
              "      <td>483960</td>\n",
              "      <td>86366</td>\n",
              "    </tr>\n",
              "    <tr>\n",
              "      <th>21</th>\n",
              "      <td>1282413</td>\n",
              "      <td>86365</td>\n",
              "    </tr>\n",
              "    <tr>\n",
              "      <th>22</th>\n",
              "      <td>344777</td>\n",
              "      <td>86364</td>\n",
              "    </tr>\n",
              "    <tr>\n",
              "      <th>23</th>\n",
              "      <td>290498</td>\n",
              "      <td>86364</td>\n",
              "    </tr>\n",
              "    <tr>\n",
              "      <th>24</th>\n",
              "      <td>1399707</td>\n",
              "      <td>86363</td>\n",
              "    </tr>\n",
              "    <tr>\n",
              "      <th>25</th>\n",
              "      <td>252615</td>\n",
              "      <td>86362</td>\n",
              "    </tr>\n",
              "    <tr>\n",
              "      <th>26</th>\n",
              "      <td>755015</td>\n",
              "      <td>86362</td>\n",
              "    </tr>\n",
              "    <tr>\n",
              "      <th>27</th>\n",
              "      <td>1258361</td>\n",
              "      <td>86362</td>\n",
              "    </tr>\n",
              "    <tr>\n",
              "      <th>28</th>\n",
              "      <td>556468</td>\n",
              "      <td>86362</td>\n",
              "    </tr>\n",
              "    <tr>\n",
              "      <th>29</th>\n",
              "      <td>1182032</td>\n",
              "      <td>86361</td>\n",
              "    </tr>\n",
              "    <tr>\n",
              "      <th>30</th>\n",
              "      <td>1099093</td>\n",
              "      <td>86361</td>\n",
              "    </tr>\n",
              "    <tr>\n",
              "      <th>31</th>\n",
              "      <td>1102514</td>\n",
              "      <td>86361</td>\n",
              "    </tr>\n",
              "    <tr>\n",
              "      <th>32</th>\n",
              "      <td>318008</td>\n",
              "      <td>86360</td>\n",
              "    </tr>\n",
              "    <tr>\n",
              "      <th>33</th>\n",
              "      <td>88508</td>\n",
              "      <td>86358</td>\n",
              "    </tr>\n",
              "    <tr>\n",
              "      <th>34</th>\n",
              "      <td>883205</td>\n",
              "      <td>86358</td>\n",
              "    </tr>\n",
              "    <tr>\n",
              "      <th>35</th>\n",
              "      <td>351537</td>\n",
              "      <td>86358</td>\n",
              "    </tr>\n",
              "    <tr>\n",
              "      <th>36</th>\n",
              "      <td>612768</td>\n",
              "      <td>86357</td>\n",
              "    </tr>\n",
              "    <tr>\n",
              "      <th>37</th>\n",
              "      <td>1437604</td>\n",
              "      <td>86357</td>\n",
              "    </tr>\n",
              "    <tr>\n",
              "      <th>38</th>\n",
              "      <td>6513</td>\n",
              "      <td>86357</td>\n",
              "    </tr>\n",
              "    <tr>\n",
              "      <th>39</th>\n",
              "      <td>645313</td>\n",
              "      <td>86356</td>\n",
              "    </tr>\n",
              "    <tr>\n",
              "      <th>40</th>\n",
              "      <td>836498</td>\n",
              "      <td>86356</td>\n",
              "    </tr>\n",
              "    <tr>\n",
              "      <th>41</th>\n",
              "      <td>1296280</td>\n",
              "      <td>86356</td>\n",
              "    </tr>\n",
              "    <tr>\n",
              "      <th>42</th>\n",
              "      <td>169857</td>\n",
              "      <td>86356</td>\n",
              "    </tr>\n",
              "    <tr>\n",
              "      <th>43</th>\n",
              "      <td>1107580</td>\n",
              "      <td>86355</td>\n",
              "    </tr>\n",
              "    <tr>\n",
              "      <th>44</th>\n",
              "      <td>447905</td>\n",
              "      <td>86354</td>\n",
              "    </tr>\n",
              "    <tr>\n",
              "      <th>45</th>\n",
              "      <td>98761</td>\n",
              "      <td>86354</td>\n",
              "    </tr>\n",
              "    <tr>\n",
              "      <th>46</th>\n",
              "      <td>992593</td>\n",
              "      <td>86354</td>\n",
              "    </tr>\n",
              "    <tr>\n",
              "      <th>47</th>\n",
              "      <td>660239</td>\n",
              "      <td>86354</td>\n",
              "    </tr>\n",
              "    <tr>\n",
              "      <th>48</th>\n",
              "      <td>1298124</td>\n",
              "      <td>86353</td>\n",
              "    </tr>\n",
              "    <tr>\n",
              "      <th>49</th>\n",
              "      <td>689735</td>\n",
              "      <td>86353</td>\n",
              "    </tr>\n",
              "    <tr>\n",
              "      <th>50</th>\n",
              "      <td>913947</td>\n",
              "      <td>86353</td>\n",
              "    </tr>\n",
              "    <tr>\n",
              "      <th>51</th>\n",
              "      <td>725322</td>\n",
              "      <td>86352</td>\n",
              "    </tr>\n",
              "    <tr>\n",
              "      <th>52</th>\n",
              "      <td>43633</td>\n",
              "      <td>86352</td>\n",
              "    </tr>\n",
              "    <tr>\n",
              "      <th>53</th>\n",
              "      <td>723071</td>\n",
              "      <td>86352</td>\n",
              "    </tr>\n",
              "    <tr>\n",
              "      <th>54</th>\n",
              "      <td>168983</td>\n",
              "      <td>86352</td>\n",
              "    </tr>\n",
              "    <tr>\n",
              "      <th>55</th>\n",
              "      <td>1865</td>\n",
              "      <td>86352</td>\n",
              "    </tr>\n",
              "    <tr>\n",
              "      <th>56</th>\n",
              "      <td>158942</td>\n",
              "      <td>86351</td>\n",
              "    </tr>\n",
              "    <tr>\n",
              "      <th>57</th>\n",
              "      <td>197478</td>\n",
              "      <td>86351</td>\n",
              "    </tr>\n",
              "    <tr>\n",
              "      <th>58</th>\n",
              "      <td>88912</td>\n",
              "      <td>86351</td>\n",
              "    </tr>\n",
              "    <tr>\n",
              "      <th>59</th>\n",
              "      <td>859344</td>\n",
              "      <td>86350</td>\n",
              "    </tr>\n",
              "    <tr>\n",
              "      <th>60</th>\n",
              "      <td>1015414</td>\n",
              "      <td>86349</td>\n",
              "    </tr>\n",
              "    <tr>\n",
              "      <th>61</th>\n",
              "      <td>1217018</td>\n",
              "      <td>86349</td>\n",
              "    </tr>\n",
              "    <tr>\n",
              "      <th>62</th>\n",
              "      <td>571162</td>\n",
              "      <td>86348</td>\n",
              "    </tr>\n",
              "    <tr>\n",
              "      <th>63</th>\n",
              "      <td>1185448</td>\n",
              "      <td>86348</td>\n",
              "    </tr>\n",
              "    <tr>\n",
              "      <th>64</th>\n",
              "      <td>1054248</td>\n",
              "      <td>86347</td>\n",
              "    </tr>\n",
              "    <tr>\n",
              "      <th>65</th>\n",
              "      <td>318744</td>\n",
              "      <td>86347</td>\n",
              "    </tr>\n",
              "    <tr>\n",
              "      <th>66</th>\n",
              "      <td>551825</td>\n",
              "      <td>86346</td>\n",
              "    </tr>\n",
              "    <tr>\n",
              "      <th>67</th>\n",
              "      <td>1349059</td>\n",
              "      <td>86346</td>\n",
              "    </tr>\n",
              "    <tr>\n",
              "      <th>68</th>\n",
              "      <td>94085</td>\n",
              "      <td>86346</td>\n",
              "    </tr>\n",
              "    <tr>\n",
              "      <th>69</th>\n",
              "      <td>185300</td>\n",
              "      <td>86346</td>\n",
              "    </tr>\n",
              "    <tr>\n",
              "      <th>70</th>\n",
              "      <td>1311838</td>\n",
              "      <td>86346</td>\n",
              "    </tr>\n",
              "    <tr>\n",
              "      <th>71</th>\n",
              "      <td>461863</td>\n",
              "      <td>86346</td>\n",
              "    </tr>\n",
              "    <tr>\n",
              "      <th>72</th>\n",
              "      <td>21304</td>\n",
              "      <td>86345</td>\n",
              "    </tr>\n",
              "    <tr>\n",
              "      <th>73</th>\n",
              "      <td>673505</td>\n",
              "      <td>86345</td>\n",
              "    </tr>\n",
              "    <tr>\n",
              "      <th>74</th>\n",
              "      <td>331203</td>\n",
              "      <td>86345</td>\n",
              "    </tr>\n",
              "    <tr>\n",
              "      <th>75</th>\n",
              "      <td>141466</td>\n",
              "      <td>86345</td>\n",
              "    </tr>\n",
              "    <tr>\n",
              "      <th>76</th>\n",
              "      <td>38815</td>\n",
              "      <td>86344</td>\n",
              "    </tr>\n",
              "    <tr>\n",
              "      <th>77</th>\n",
              "      <td>676224</td>\n",
              "      <td>86344</td>\n",
              "    </tr>\n",
              "    <tr>\n",
              "      <th>78</th>\n",
              "      <td>117740</td>\n",
              "      <td>86344</td>\n",
              "    </tr>\n",
              "    <tr>\n",
              "      <th>79</th>\n",
              "      <td>611784</td>\n",
              "      <td>86344</td>\n",
              "    </tr>\n",
              "    <tr>\n",
              "      <th>80</th>\n",
              "      <td>629458</td>\n",
              "      <td>86344</td>\n",
              "    </tr>\n",
              "    <tr>\n",
              "      <th>81</th>\n",
              "      <td>21846</td>\n",
              "      <td>86343</td>\n",
              "    </tr>\n",
              "    <tr>\n",
              "      <th>82</th>\n",
              "      <td>807815</td>\n",
              "      <td>86343</td>\n",
              "    </tr>\n",
              "    <tr>\n",
              "      <th>83</th>\n",
              "      <td>719718</td>\n",
              "      <td>86342</td>\n",
              "    </tr>\n",
              "    <tr>\n",
              "      <th>84</th>\n",
              "      <td>675148</td>\n",
              "      <td>86342</td>\n",
              "    </tr>\n",
              "    <tr>\n",
              "      <th>85</th>\n",
              "      <td>943465</td>\n",
              "      <td>86342</td>\n",
              "    </tr>\n",
              "    <tr>\n",
              "      <th>86</th>\n",
              "      <td>437528</td>\n",
              "      <td>86341</td>\n",
              "    </tr>\n",
              "    <tr>\n",
              "      <th>87</th>\n",
              "      <td>901674</td>\n",
              "      <td>86341</td>\n",
              "    </tr>\n",
              "    <tr>\n",
              "      <th>88</th>\n",
              "      <td>1072076</td>\n",
              "      <td>86341</td>\n",
              "    </tr>\n",
              "    <tr>\n",
              "      <th>89</th>\n",
              "      <td>757022</td>\n",
              "      <td>86340</td>\n",
              "    </tr>\n",
              "    <tr>\n",
              "      <th>90</th>\n",
              "      <td>1207527</td>\n",
              "      <td>86340</td>\n",
              "    </tr>\n",
              "    <tr>\n",
              "      <th>91</th>\n",
              "      <td>556352</td>\n",
              "      <td>86340</td>\n",
              "    </tr>\n",
              "    <tr>\n",
              "      <th>92</th>\n",
              "      <td>1129500</td>\n",
              "      <td>86340</td>\n",
              "    </tr>\n",
              "    <tr>\n",
              "      <th>93</th>\n",
              "      <td>709422</td>\n",
              "      <td>86340</td>\n",
              "    </tr>\n",
              "    <tr>\n",
              "      <th>94</th>\n",
              "      <td>539740</td>\n",
              "      <td>86340</td>\n",
              "    </tr>\n",
              "    <tr>\n",
              "      <th>95</th>\n",
              "      <td>1208107</td>\n",
              "      <td>86340</td>\n",
              "    </tr>\n",
              "    <tr>\n",
              "      <th>96</th>\n",
              "      <td>310886</td>\n",
              "      <td>86340</td>\n",
              "    </tr>\n",
              "    <tr>\n",
              "      <th>97</th>\n",
              "      <td>1431109</td>\n",
              "      <td>86339</td>\n",
              "    </tr>\n",
              "    <tr>\n",
              "      <th>98</th>\n",
              "      <td>408368</td>\n",
              "      <td>86339</td>\n",
              "    </tr>\n",
              "    <tr>\n",
              "      <th>99</th>\n",
              "      <td>424008</td>\n",
              "      <td>86339</td>\n",
              "    </tr>\n",
              "  </tbody>\n",
              "</table>\n",
              "</div>\n",
              "      <button class=\"colab-df-convert\" onclick=\"convertToInteractive('df-2b09f8e6-72d0-4cba-b46b-359155d04009')\"\n",
              "              title=\"Convert this dataframe to an interactive table.\"\n",
              "              style=\"display:none;\">\n",
              "        \n",
              "  <svg xmlns=\"http://www.w3.org/2000/svg\" height=\"24px\"viewBox=\"0 0 24 24\"\n",
              "       width=\"24px\">\n",
              "    <path d=\"M0 0h24v24H0V0z\" fill=\"none\"/>\n",
              "    <path d=\"M18.56 5.44l.94 2.06.94-2.06 2.06-.94-2.06-.94-.94-2.06-.94 2.06-2.06.94zm-11 1L8.5 8.5l.94-2.06 2.06-.94-2.06-.94L8.5 2.5l-.94 2.06-2.06.94zm10 10l.94 2.06.94-2.06 2.06-.94-2.06-.94-.94-2.06-.94 2.06-2.06.94z\"/><path d=\"M17.41 7.96l-1.37-1.37c-.4-.4-.92-.59-1.43-.59-.52 0-1.04.2-1.43.59L10.3 9.45l-7.72 7.72c-.78.78-.78 2.05 0 2.83L4 21.41c.39.39.9.59 1.41.59.51 0 1.02-.2 1.41-.59l7.78-7.78 2.81-2.81c.8-.78.8-2.07 0-2.86zM5.41 20L4 18.59l7.72-7.72 1.47 1.35L5.41 20z\"/>\n",
              "  </svg>\n",
              "      </button>\n",
              "      \n",
              "  <style>\n",
              "    .colab-df-container {\n",
              "      display:flex;\n",
              "      flex-wrap:wrap;\n",
              "      gap: 12px;\n",
              "    }\n",
              "\n",
              "    .colab-df-convert {\n",
              "      background-color: #E8F0FE;\n",
              "      border: none;\n",
              "      border-radius: 50%;\n",
              "      cursor: pointer;\n",
              "      display: none;\n",
              "      fill: #1967D2;\n",
              "      height: 32px;\n",
              "      padding: 0 0 0 0;\n",
              "      width: 32px;\n",
              "    }\n",
              "\n",
              "    .colab-df-convert:hover {\n",
              "      background-color: #E2EBFA;\n",
              "      box-shadow: 0px 1px 2px rgba(60, 64, 67, 0.3), 0px 1px 3px 1px rgba(60, 64, 67, 0.15);\n",
              "      fill: #174EA6;\n",
              "    }\n",
              "\n",
              "    [theme=dark] .colab-df-convert {\n",
              "      background-color: #3B4455;\n",
              "      fill: #D2E3FC;\n",
              "    }\n",
              "\n",
              "    [theme=dark] .colab-df-convert:hover {\n",
              "      background-color: #434B5C;\n",
              "      box-shadow: 0px 1px 3px 1px rgba(0, 0, 0, 0.15);\n",
              "      filter: drop-shadow(0px 1px 2px rgba(0, 0, 0, 0.3));\n",
              "      fill: #FFFFFF;\n",
              "    }\n",
              "  </style>\n",
              "\n",
              "      <script>\n",
              "        const buttonEl =\n",
              "          document.querySelector('#df-2b09f8e6-72d0-4cba-b46b-359155d04009 button.colab-df-convert');\n",
              "        buttonEl.style.display =\n",
              "          google.colab.kernel.accessAllowed ? 'block' : 'none';\n",
              "\n",
              "        async function convertToInteractive(key) {\n",
              "          const element = document.querySelector('#df-2b09f8e6-72d0-4cba-b46b-359155d04009');\n",
              "          const dataTable =\n",
              "            await google.colab.kernel.invokeFunction('convertToInteractive',\n",
              "                                                     [key], {});\n",
              "          if (!dataTable) return;\n",
              "\n",
              "          const docLinkHtml = 'Like what you see? Visit the ' +\n",
              "            '<a target=\"_blank\" href=https://colab.research.google.com/notebooks/data_table.ipynb>data table notebook</a>'\n",
              "            + ' to learn more about interactive tables.';\n",
              "          element.innerHTML = '';\n",
              "          dataTable['output_type'] = 'display_data';\n",
              "          await google.colab.output.renderOutput(dataTable, element);\n",
              "          const docLink = document.createElement('div');\n",
              "          docLink.innerHTML = docLinkHtml;\n",
              "          element.appendChild(docLink);\n",
              "        }\n",
              "      </script>\n",
              "    </div>\n",
              "  </div>\n",
              "  "
            ]
          },
          "metadata": {},
          "execution_count": 22
        }
      ],
      "source": [
        "taxi_df['trip_duration'].sort_values(ascending=False).reset_index().head(100)"
      ]
    },
    {
      "cell_type": "markdown",
      "metadata": {
        "id": "j8_r-JpYZIRK"
      },
      "source": [
        "### Here there are trips with more than 24hrs duration which is 86400 seconds upto 40 days which are outliers. We need to remove them for data consistency"
      ]
    },
    {
      "cell_type": "code",
      "execution_count": 23,
      "metadata": {
        "colab": {
          "base_uri": "https://localhost:8080/"
        },
        "id": "Bi9bnuE1XjZ6",
        "outputId": "0c4afb44-aa4f-4ba5-fddc-f19ce8fce71c"
      },
      "outputs": [
        {
          "output_type": "execute_result",
          "data": {
            "text/plain": [
              "trip_duration\n",
              "(1, 3601]             1446313\n",
              "(3601, 7201]            10045\n",
              "(7201, 10801]             141\n",
              "(10801, 14401]             35\n",
              "(14401, 18001]              5\n",
              "(18001, 21601]             11\n",
              "(21601, 25201]             11\n",
              "(25201, 28801]             13\n",
              "(28801, 32401]             17\n",
              "(32401, 36001]              8\n",
              "(36001, 39601]             13\n",
              "(39601, 43201]              6\n",
              "(43201, 46801]              8\n",
              "(46801, 50401]              5\n",
              "(50401, 54001]              7\n",
              "(54001, 57601]              5\n",
              "(57601, 61201]             10\n",
              "(61201, 64801]             10\n",
              "(64801, 68401]             10\n",
              "(68401, 72001]              5\n",
              "(72001, 75601]             10\n",
              "(75601, 79201]             17\n",
              "(79201, 82801]             63\n",
              "(82801, 86401]           1839\n",
              "(86401, 90001]              0\n",
              "(90001, 93601]              0\n",
              "(93601, 97201]              0\n",
              "(97201, 100801]             0\n",
              "(100801, 104401]            0\n",
              "(104401, 108001]            0\n",
              "(108001, 111601]            0\n",
              "(111601, 115201]            0\n",
              "(115201, 118801]            0\n",
              "(118801, 122401]            0\n",
              "(122401, 126001]            0\n",
              "(126001, 129601]            0\n",
              "(129601, 133201]            0\n",
              "(133201, 136801]            0\n",
              "(136801, 140401]            0\n",
              "(140401, 144001]            0\n",
              "(144001, 147601]            0\n",
              "(147601, 151201]            0\n",
              "(151201, 154801]            0\n",
              "(154801, 158401]            0\n",
              "(158401, 162001]            0\n",
              "(162001, 165601]            0\n",
              "(165601, 169201]            0\n",
              "(169201, 172801]            0\n",
              "(172801, 176401]            0\n",
              "(176401, 180001]            0\n",
              "(180001, 183601]            0\n",
              "(183601, 187201]            0\n",
              "(187201, 190801]            0\n",
              "(190801, 194401]            0\n",
              "(194401, 198001]            0\n",
              "(198001, 201601]            0\n",
              "(201601, 205201]            0\n",
              "(205201, 208801]            0\n",
              "(208801, 212401]            0\n",
              "(212401, 216001]            0\n",
              "(216001, 219601]            0\n",
              "(219601, 223201]            0\n",
              "(223201, 226801]            0\n",
              "(226801, 230401]            0\n",
              "(230401, 234001]            0\n",
              "(234001, 237601]            0\n",
              "(237601, 241201]            0\n",
              "(241201, 244801]            0\n",
              "(244801, 248401]            0\n",
              "(248401, 252001]            0\n",
              "(252001, 255601]            0\n",
              "(255601, 259201]            0\n",
              "(259201, 262801]            0\n",
              "(262801, 266401]            0\n",
              "(266401, 270001]            0\n",
              "(270001, 273601]            0\n",
              "(273601, 277201]            0\n",
              "(277201, 280801]            0\n",
              "(280801, 284401]            0\n",
              "(284401, 288001]            0\n",
              "(288001, 291601]            0\n",
              "(291601, 295201]            0\n",
              "(295201, 298801]            0\n",
              "(298801, 302401]            0\n",
              "(302401, 306001]            0\n",
              "(306001, 309601]            0\n",
              "(309601, 313201]            0\n",
              "(313201, 316801]            0\n",
              "(316801, 320401]            0\n",
              "(320401, 324001]            0\n",
              "(324001, 327601]            0\n",
              "(327601, 331201]            0\n",
              "(331201, 334801]            0\n",
              "(334801, 338401]            0\n",
              "(338401, 342001]            0\n",
              "(342001, 345601]            0\n",
              "(345601, 349201]            0\n",
              "(349201, 352801]            0\n",
              "(352801, 356401]            0\n",
              "(356401, 360001]            0\n",
              "(360001, 363601]            0\n",
              "(363601, 367201]            0\n",
              "(367201, 370801]            0\n",
              "(370801, 374401]            0\n",
              "(374401, 378001]            0\n",
              "(378001, 381601]            0\n",
              "(381601, 385201]            0\n",
              "(385201, 388801]            0\n",
              "(388801, 392401]            0\n",
              "(392401, 396001]            0\n",
              "(396001, 399601]            0\n",
              "(399601, 403201]            0\n",
              "(403201, 406801]            0\n",
              "(406801, 410401]            0\n",
              "(410401, 414001]            0\n",
              "(414001, 417601]            0\n",
              "(417601, 421201]            0\n",
              "(421201, 424801]            0\n",
              "(424801, 428401]            0\n",
              "(428401, 432001]            0\n",
              "(432001, 435601]            0\n",
              "(435601, 439201]            0\n",
              "(439201, 442801]            0\n",
              "(442801, 446401]            0\n",
              "(446401, 450001]            0\n",
              "(450001, 453601]            0\n",
              "(453601, 457201]            0\n",
              "(457201, 460801]            0\n",
              "(460801, 464401]            0\n",
              "(464401, 468001]            0\n",
              "(468001, 471601]            0\n",
              "(471601, 475201]            0\n",
              "(475201, 478801]            0\n",
              "(478801, 482401]            0\n",
              "(482401, 486001]            0\n",
              "(486001, 489601]            0\n",
              "(489601, 493201]            0\n",
              "(493201, 496801]            0\n",
              "(496801, 500401]            0\n",
              "(500401, 504001]            0\n",
              "(504001, 507601]            0\n",
              "(507601, 511201]            0\n",
              "(511201, 514801]            0\n",
              "(514801, 518401]            0\n",
              "(518401, 522001]            0\n",
              "(522001, 525601]            0\n",
              "(525601, 529201]            0\n",
              "(529201, 532801]            0\n",
              "(532801, 536401]            0\n",
              "(536401, 540001]            0\n",
              "(540001, 543601]            0\n",
              "(543601, 547201]            0\n",
              "(547201, 550801]            0\n",
              "(550801, 554401]            0\n",
              "(554401, 558001]            0\n",
              "(558001, 561601]            0\n",
              "(561601, 565201]            0\n",
              "(565201, 568801]            0\n",
              "(568801, 572401]            0\n",
              "(572401, 576001]            0\n",
              "(576001, 579601]            0\n",
              "(579601, 583201]            0\n",
              "(583201, 586801]            0\n",
              "(586801, 590401]            0\n",
              "(590401, 594001]            0\n",
              "(594001, 597601]            0\n",
              "(597601, 601201]            0\n",
              "(601201, 604801]            0\n",
              "(604801, 608401]            0\n",
              "(608401, 612001]            0\n",
              "(612001, 615601]            0\n",
              "(615601, 619201]            0\n",
              "(619201, 622801]            0\n",
              "(622801, 626401]            0\n",
              "(626401, 630001]            0\n",
              "(630001, 633601]            0\n",
              "(633601, 637201]            0\n",
              "(637201, 640801]            0\n",
              "(640801, 644401]            0\n",
              "(644401, 648001]            0\n",
              "(648001, 651601]            0\n",
              "(651601, 655201]            0\n",
              "(655201, 658801]            0\n",
              "(658801, 662401]            0\n",
              "(662401, 666001]            0\n",
              "(666001, 669601]            0\n",
              "(669601, 673201]            0\n",
              "(673201, 676801]            0\n",
              "(676801, 680401]            0\n",
              "(680401, 684001]            0\n",
              "(684001, 687601]            0\n",
              "(687601, 691201]            0\n",
              "(691201, 694801]            0\n",
              "(694801, 698401]            0\n",
              "(698401, 702001]            0\n",
              "(702001, 705601]            0\n",
              "(705601, 709201]            0\n",
              "(709201, 712801]            0\n",
              "(712801, 716401]            0\n",
              "(716401, 720001]            0\n",
              "(720001, 723601]            0\n",
              "(723601, 727201]            0\n",
              "(727201, 730801]            0\n",
              "(730801, 734401]            0\n",
              "(734401, 738001]            0\n",
              "(738001, 741601]            0\n",
              "(741601, 745201]            0\n",
              "(745201, 748801]            0\n",
              "(748801, 752401]            0\n",
              "(752401, 756001]            0\n",
              "(756001, 759601]            0\n",
              "(759601, 763201]            0\n",
              "(763201, 766801]            0\n",
              "(766801, 770401]            0\n",
              "(770401, 774001]            0\n",
              "(774001, 777601]            0\n",
              "(777601, 781201]            0\n",
              "(781201, 784801]            0\n",
              "(784801, 788401]            0\n",
              "(788401, 792001]            0\n",
              "(792001, 795601]            0\n",
              "(795601, 799201]            0\n",
              "(799201, 802801]            0\n",
              "(802801, 806401]            0\n",
              "(806401, 810001]            0\n",
              "(810001, 813601]            0\n",
              "(813601, 817201]            0\n",
              "(817201, 820801]            0\n",
              "(820801, 824401]            0\n",
              "(824401, 828001]            0\n",
              "(828001, 831601]            0\n",
              "(831601, 835201]            0\n",
              "(835201, 838801]            0\n",
              "(838801, 842401]            0\n",
              "(842401, 846001]            0\n",
              "(846001, 849601]            0\n",
              "(849601, 853201]            0\n",
              "(853201, 856801]            0\n",
              "(856801, 860401]            0\n",
              "(860401, 864001]            0\n",
              "(864001, 867601]            0\n",
              "(867601, 871201]            0\n",
              "(871201, 874801]            0\n",
              "(874801, 878401]            0\n",
              "(878401, 882001]            0\n",
              "(882001, 885601]            0\n",
              "(885601, 889201]            0\n",
              "(889201, 892801]            0\n",
              "(892801, 896401]            0\n",
              "(896401, 900001]            0\n",
              "(900001, 903601]            0\n",
              "(903601, 907201]            0\n",
              "(907201, 910801]            0\n",
              "(910801, 914401]            0\n",
              "(914401, 918001]            0\n",
              "(918001, 921601]            0\n",
              "(921601, 925201]            0\n",
              "(925201, 928801]            0\n",
              "(928801, 932401]            0\n",
              "(932401, 936001]            0\n",
              "(936001, 939601]            0\n",
              "(939601, 943201]            0\n",
              "(943201, 946801]            0\n",
              "(946801, 950401]            0\n",
              "(950401, 954001]            0\n",
              "(954001, 957601]            0\n",
              "(957601, 961201]            0\n",
              "(961201, 964801]            0\n",
              "(964801, 968401]            0\n",
              "(968401, 972001]            0\n",
              "(972001, 975601]            0\n",
              "(975601, 979201]            0\n",
              "(979201, 982801]            0\n",
              "(982801, 986401]            0\n",
              "(986401, 990001]            0\n",
              "(990001, 993601]            0\n",
              "(993601, 997201]            0\n",
              "(997201, 1000801]           0\n",
              "(1000801, 1004401]          0\n",
              "(1004401, 1008001]          0\n",
              "(1008001, 1011601]          0\n",
              "(1011601, 1015201]          0\n",
              "(1015201, 1018801]          0\n",
              "(1018801, 1022401]          0\n",
              "(1022401, 1026001]          0\n",
              "(1026001, 1029601]          0\n",
              "(1029601, 1033201]          0\n",
              "(1033201, 1036801]          0\n",
              "(1036801, 1040401]          0\n",
              "(1040401, 1044001]          0\n",
              "(1044001, 1047601]          0\n",
              "(1047601, 1051201]          0\n",
              "(1051201, 1054801]          0\n",
              "(1054801, 1058401]          0\n",
              "(1058401, 1062001]          0\n",
              "(1062001, 1065601]          0\n",
              "(1065601, 1069201]          0\n",
              "(1069201, 1072801]          0\n",
              "(1072801, 1076401]          0\n",
              "(1076401, 1080001]          0\n",
              "(1080001, 1083601]          0\n",
              "(1083601, 1087201]          0\n",
              "(1087201, 1090801]          0\n",
              "(1090801, 1094401]          0\n",
              "(1094401, 1098001]          0\n",
              "(1098001, 1101601]          0\n",
              "(1101601, 1105201]          0\n",
              "(1105201, 1108801]          0\n",
              "(1108801, 1112401]          0\n",
              "(1112401, 1116001]          0\n",
              "(1116001, 1119601]          0\n",
              "(1119601, 1123201]          0\n",
              "(1123201, 1126801]          0\n",
              "(1126801, 1130401]          0\n",
              "(1130401, 1134001]          0\n",
              "(1134001, 1137601]          0\n",
              "(1137601, 1141201]          0\n",
              "(1141201, 1144801]          0\n",
              "(1144801, 1148401]          0\n",
              "(1148401, 1152001]          0\n",
              "(1152001, 1155601]          0\n",
              "(1155601, 1159201]          0\n",
              "(1159201, 1162801]          0\n",
              "(1162801, 1166401]          0\n",
              "(1166401, 1170001]          0\n",
              "(1170001, 1173601]          0\n",
              "(1173601, 1177201]          0\n",
              "(1177201, 1180801]          0\n",
              "(1180801, 1184401]          0\n",
              "(1184401, 1188001]          0\n",
              "(1188001, 1191601]          0\n",
              "(1191601, 1195201]          0\n",
              "(1195201, 1198801]          0\n",
              "(1198801, 1202401]          0\n",
              "(1202401, 1206001]          0\n",
              "(1206001, 1209601]          0\n",
              "(1209601, 1213201]          0\n",
              "(1213201, 1216801]          0\n",
              "(1216801, 1220401]          0\n",
              "(1220401, 1224001]          0\n",
              "(1224001, 1227601]          0\n",
              "(1227601, 1231201]          0\n",
              "(1231201, 1234801]          0\n",
              "(1234801, 1238401]          0\n",
              "(1238401, 1242001]          0\n",
              "(1242001, 1245601]          0\n",
              "(1245601, 1249201]          0\n",
              "(1249201, 1252801]          0\n",
              "(1252801, 1256401]          0\n",
              "(1256401, 1260001]          0\n",
              "(1260001, 1263601]          0\n",
              "(1263601, 1267201]          0\n",
              "(1267201, 1270801]          0\n",
              "(1270801, 1274401]          0\n",
              "(1274401, 1278001]          0\n",
              "(1278001, 1281601]          0\n",
              "(1281601, 1285201]          0\n",
              "(1285201, 1288801]          0\n",
              "(1288801, 1292401]          0\n",
              "(1292401, 1296001]          0\n",
              "(1296001, 1299601]          0\n",
              "(1299601, 1303201]          0\n",
              "(1303201, 1306801]          0\n",
              "(1306801, 1310401]          0\n",
              "(1310401, 1314001]          0\n",
              "(1314001, 1317601]          0\n",
              "(1317601, 1321201]          0\n",
              "(1321201, 1324801]          0\n",
              "(1324801, 1328401]          0\n",
              "(1328401, 1332001]          0\n",
              "(1332001, 1335601]          0\n",
              "(1335601, 1339201]          0\n",
              "(1339201, 1342801]          0\n",
              "(1342801, 1346401]          0\n",
              "(1346401, 1350001]          0\n",
              "(1350001, 1353601]          0\n",
              "(1353601, 1357201]          0\n",
              "(1357201, 1360801]          0\n",
              "(1360801, 1364401]          0\n",
              "(1364401, 1368001]          0\n",
              "(1368001, 1371601]          0\n",
              "(1371601, 1375201]          0\n",
              "(1375201, 1378801]          0\n",
              "(1378801, 1382401]          0\n",
              "(1382401, 1386001]          0\n",
              "(1386001, 1389601]          0\n",
              "(1389601, 1393201]          0\n",
              "(1393201, 1396801]          0\n",
              "(1396801, 1400401]          0\n",
              "(1400401, 1404001]          0\n",
              "(1404001, 1407601]          0\n",
              "(1407601, 1411201]          0\n",
              "(1411201, 1414801]          0\n",
              "(1414801, 1418401]          0\n",
              "(1418401, 1422001]          0\n",
              "(1422001, 1425601]          0\n",
              "(1425601, 1429201]          0\n",
              "(1429201, 1432801]          0\n",
              "(1432801, 1436401]          0\n",
              "(1436401, 1440001]          0\n",
              "(1440001, 1443601]          0\n",
              "(1443601, 1447201]          0\n",
              "(1447201, 1450801]          0\n",
              "(1450801, 1454401]          0\n",
              "(1454401, 1458001]          0\n",
              "(1458001, 1461601]          0\n",
              "(1461601, 1465201]          0\n",
              "(1465201, 1468801]          0\n",
              "(1468801, 1472401]          0\n",
              "(1472401, 1476001]          0\n",
              "(1476001, 1479601]          0\n",
              "(1479601, 1483201]          0\n",
              "(1483201, 1486801]          0\n",
              "(1486801, 1490401]          0\n",
              "(1490401, 1494001]          0\n",
              "(1494001, 1497601]          0\n",
              "(1497601, 1501201]          0\n",
              "(1501201, 1504801]          0\n",
              "(1504801, 1508401]          0\n",
              "(1508401, 1512001]          0\n",
              "(1512001, 1515601]          0\n",
              "(1515601, 1519201]          0\n",
              "(1519201, 1522801]          0\n",
              "(1522801, 1526401]          0\n",
              "(1526401, 1530001]          0\n",
              "(1530001, 1533601]          0\n",
              "(1533601, 1537201]          0\n",
              "(1537201, 1540801]          0\n",
              "(1540801, 1544401]          0\n",
              "(1544401, 1548001]          0\n",
              "(1548001, 1551601]          0\n",
              "(1551601, 1555201]          0\n",
              "(1555201, 1558801]          0\n",
              "(1558801, 1562401]          0\n",
              "(1562401, 1566001]          0\n",
              "(1566001, 1569601]          0\n",
              "(1569601, 1573201]          0\n",
              "(1573201, 1576801]          0\n",
              "(1576801, 1580401]          0\n",
              "(1580401, 1584001]          0\n",
              "(1584001, 1587601]          0\n",
              "(1587601, 1591201]          0\n",
              "(1591201, 1594801]          0\n",
              "(1594801, 1598401]          0\n",
              "(1598401, 1602001]          0\n",
              "(1602001, 1605601]          0\n",
              "(1605601, 1609201]          0\n",
              "(1609201, 1612801]          0\n",
              "(1612801, 1616401]          0\n",
              "(1616401, 1620001]          0\n",
              "(1620001, 1623601]          0\n",
              "(1623601, 1627201]          0\n",
              "(1627201, 1630801]          0\n",
              "(1630801, 1634401]          0\n",
              "(1634401, 1638001]          0\n",
              "(1638001, 1641601]          0\n",
              "(1641601, 1645201]          0\n",
              "(1645201, 1648801]          0\n",
              "(1648801, 1652401]          0\n",
              "(1652401, 1656001]          0\n",
              "(1656001, 1659601]          0\n",
              "(1659601, 1663201]          0\n",
              "(1663201, 1666801]          0\n",
              "(1666801, 1670401]          0\n",
              "(1670401, 1674001]          0\n",
              "(1674001, 1677601]          0\n",
              "(1677601, 1681201]          0\n",
              "(1681201, 1684801]          0\n",
              "(1684801, 1688401]          0\n",
              "(1688401, 1692001]          0\n",
              "(1692001, 1695601]          0\n",
              "(1695601, 1699201]          0\n",
              "(1699201, 1702801]          0\n",
              "(1702801, 1706401]          0\n",
              "(1706401, 1710001]          0\n",
              "(1710001, 1713601]          0\n",
              "(1713601, 1717201]          0\n",
              "(1717201, 1720801]          0\n",
              "(1720801, 1724401]          0\n",
              "(1724401, 1728001]          0\n",
              "(1728001, 1731601]          0\n",
              "(1731601, 1735201]          0\n",
              "(1735201, 1738801]          0\n",
              "(1738801, 1742401]          0\n",
              "(1742401, 1746001]          0\n",
              "(1746001, 1749601]          0\n",
              "(1749601, 1753201]          0\n",
              "(1753201, 1756801]          0\n",
              "(1756801, 1760401]          0\n",
              "(1760401, 1764001]          0\n",
              "(1764001, 1767601]          0\n",
              "(1767601, 1771201]          0\n",
              "(1771201, 1774801]          0\n",
              "(1774801, 1778401]          0\n",
              "(1778401, 1782001]          0\n",
              "(1782001, 1785601]          0\n",
              "(1785601, 1789201]          0\n",
              "(1789201, 1792801]          0\n",
              "(1792801, 1796401]          0\n",
              "(1796401, 1800001]          0\n",
              "(1800001, 1803601]          0\n",
              "(1803601, 1807201]          0\n",
              "(1807201, 1810801]          0\n",
              "(1810801, 1814401]          0\n",
              "(1814401, 1818001]          0\n",
              "(1818001, 1821601]          0\n",
              "(1821601, 1825201]          0\n",
              "(1825201, 1828801]          0\n",
              "(1828801, 1832401]          0\n",
              "(1832401, 1836001]          0\n",
              "(1836001, 1839601]          0\n",
              "(1839601, 1843201]          0\n",
              "(1843201, 1846801]          0\n",
              "(1846801, 1850401]          0\n",
              "(1850401, 1854001]          0\n",
              "(1854001, 1857601]          0\n",
              "(1857601, 1861201]          0\n",
              "(1861201, 1864801]          0\n",
              "(1864801, 1868401]          0\n",
              "(1868401, 1872001]          0\n",
              "(1872001, 1875601]          0\n",
              "(1875601, 1879201]          0\n",
              "(1879201, 1882801]          0\n",
              "(1882801, 1886401]          0\n",
              "(1886401, 1890001]          0\n",
              "(1890001, 1893601]          0\n",
              "(1893601, 1897201]          0\n",
              "(1897201, 1900801]          0\n",
              "(1900801, 1904401]          0\n",
              "(1904401, 1908001]          0\n",
              "(1908001, 1911601]          0\n",
              "(1911601, 1915201]          0\n",
              "(1915201, 1918801]          0\n",
              "(1918801, 1922401]          0\n",
              "(1922401, 1926001]          0\n",
              "(1926001, 1929601]          0\n",
              "(1929601, 1933201]          0\n",
              "(1933201, 1936801]          0\n",
              "(1936801, 1940401]          1\n",
              "(1940401, 1944001]          0\n",
              "(1944001, 1947601]          0\n",
              "(1947601, 1951201]          0\n",
              "(1951201, 1954801]          0\n",
              "(1954801, 1958401]          0\n",
              "(1958401, 1962001]          0\n",
              "(1962001, 1965601]          0\n",
              "(1965601, 1969201]          0\n",
              "(1969201, 1972801]          0\n",
              "(1972801, 1976401]          0\n",
              "(1976401, 1980001]          0\n",
              "(1980001, 1983601]          0\n",
              "(1983601, 1987201]          0\n",
              "(1987201, 1990801]          0\n",
              "(1990801, 1994401]          0\n",
              "(1994401, 1998001]          0\n",
              "(1998001, 2001601]          0\n",
              "(2001601, 2005201]          0\n",
              "(2005201, 2008801]          0\n",
              "(2008801, 2012401]          0\n",
              "(2012401, 2016001]          0\n",
              "(2016001, 2019601]          0\n",
              "(2019601, 2023201]          0\n",
              "(2023201, 2026801]          0\n",
              "(2026801, 2030401]          0\n",
              "(2030401, 2034001]          0\n",
              "(2034001, 2037601]          0\n",
              "(2037601, 2041201]          0\n",
              "(2041201, 2044801]          0\n",
              "(2044801, 2048401]          0\n",
              "(2048401, 2052001]          1\n",
              "(2052001, 2055601]          0\n",
              "(2055601, 2059201]          0\n",
              "(2059201, 2062801]          0\n",
              "(2062801, 2066401]          0\n",
              "(2066401, 2070001]          0\n",
              "(2070001, 2073601]          0\n",
              "(2073601, 2077201]          0\n",
              "(2077201, 2080801]          0\n",
              "(2080801, 2084401]          0\n",
              "(2084401, 2088001]          0\n",
              "(2088001, 2091601]          0\n",
              "(2091601, 2095201]          0\n",
              "(2095201, 2098801]          0\n",
              "(2098801, 2102401]          0\n",
              "(2102401, 2106001]          0\n",
              "(2106001, 2109601]          0\n",
              "(2109601, 2113201]          0\n",
              "(2113201, 2116801]          0\n",
              "(2116801, 2120401]          0\n",
              "(2120401, 2124001]          0\n",
              "(2124001, 2127601]          0\n",
              "(2127601, 2131201]          0\n",
              "(2131201, 2134801]          0\n",
              "(2134801, 2138401]          0\n",
              "(2138401, 2142001]          0\n",
              "(2142001, 2145601]          0\n",
              "(2145601, 2149201]          0\n",
              "(2149201, 2152801]          0\n",
              "(2152801, 2156401]          0\n",
              "(2156401, 2160001]          0\n",
              "(2160001, 2163601]          0\n",
              "(2163601, 2167201]          0\n",
              "(2167201, 2170801]          0\n",
              "(2170801, 2174401]          0\n",
              "(2174401, 2178001]          0\n",
              "(2178001, 2181601]          0\n",
              "(2181601, 2185201]          0\n",
              "(2185201, 2188801]          0\n",
              "(2188801, 2192401]          0\n",
              "(2192401, 2196001]          0\n",
              "(2196001, 2199601]          0\n",
              "(2199601, 2203201]          0\n",
              "(2203201, 2206801]          0\n",
              "(2206801, 2210401]          0\n",
              "(2210401, 2214001]          0\n",
              "(2214001, 2217601]          0\n",
              "(2217601, 2221201]          0\n",
              "(2221201, 2224801]          0\n",
              "(2224801, 2228401]          1\n",
              "(2228401, 2232001]          0\n",
              "(2232001, 2235601]          0\n",
              "(2235601, 2239201]          0\n",
              "(2239201, 2242801]          0\n",
              "(2242801, 2246401]          0\n",
              "(2246401, 2250001]          0\n",
              "(2250001, 2253601]          0\n",
              "(2253601, 2257201]          0\n",
              "(2257201, 2260801]          0\n",
              "(2260801, 2264401]          0\n",
              "(2264401, 2268001]          0\n",
              "(2268001, 2271601]          0\n",
              "(2271601, 2275201]          0\n",
              "(2275201, 2278801]          0\n",
              "(2278801, 2282401]          0\n",
              "(2282401, 2286001]          0\n",
              "(2286001, 2289601]          0\n",
              "(2289601, 2293201]          0\n",
              "(2293201, 2296801]          0\n",
              "(2296801, 2300401]          0\n",
              "(2300401, 2304001]          0\n",
              "(2304001, 2307601]          0\n",
              "(2307601, 2311201]          0\n",
              "(2311201, 2314801]          0\n",
              "(2314801, 2318401]          0\n",
              "(2318401, 2322001]          0\n",
              "(2322001, 2325601]          0\n",
              "(2325601, 2329201]          0\n",
              "(2329201, 2332801]          0\n",
              "(2332801, 2336401]          0\n",
              "(2336401, 2340001]          0\n",
              "(2340001, 2343601]          0\n",
              "(2343601, 2347201]          0\n",
              "(2347201, 2350801]          0\n",
              "(2350801, 2354401]          0\n",
              "(2354401, 2358001]          0\n",
              "(2358001, 2361601]          0\n",
              "(2361601, 2365201]          0\n",
              "(2365201, 2368801]          0\n",
              "(2368801, 2372401]          0\n",
              "(2372401, 2376001]          0\n",
              "(2376001, 2379601]          0\n",
              "(2379601, 2383201]          0\n",
              "(2383201, 2386801]          0\n",
              "(2386801, 2390401]          0\n",
              "(2390401, 2394001]          0\n",
              "(2394001, 2397601]          0\n",
              "(2397601, 2401201]          0\n",
              "(2401201, 2404801]          0\n",
              "(2404801, 2408401]          0\n",
              "(2408401, 2412001]          0\n",
              "(2412001, 2415601]          0\n",
              "(2415601, 2419201]          0\n",
              "(2419201, 2422801]          0\n",
              "(2422801, 2426401]          0\n",
              "(2426401, 2430001]          0\n",
              "(2430001, 2433601]          0\n",
              "(2433601, 2437201]          0\n",
              "(2437201, 2440801]          0\n",
              "(2440801, 2444401]          0\n",
              "(2444401, 2448001]          0\n",
              "(2448001, 2451601]          0\n",
              "(2451601, 2455201]          0\n",
              "(2455201, 2458801]          0\n",
              "(2458801, 2462401]          0\n",
              "(2462401, 2466001]          0\n",
              "(2466001, 2469601]          0\n",
              "(2469601, 2473201]          0\n",
              "(2473201, 2476801]          0\n",
              "(2476801, 2480401]          0\n",
              "(2480401, 2484001]          0\n",
              "(2484001, 2487601]          0\n",
              "(2487601, 2491201]          0\n",
              "(2491201, 2494801]          0\n",
              "(2494801, 2498401]          0\n",
              "(2498401, 2502001]          0\n",
              "(2502001, 2505601]          0\n",
              "(2505601, 2509201]          0\n",
              "(2509201, 2512801]          0\n",
              "(2512801, 2516401]          0\n",
              "(2516401, 2520001]          0\n",
              "(2520001, 2523601]          0\n",
              "(2523601, 2527201]          0\n",
              "(2527201, 2530801]          0\n",
              "(2530801, 2534401]          0\n",
              "(2534401, 2538001]          0\n",
              "(2538001, 2541601]          0\n",
              "(2541601, 2545201]          0\n",
              "(2545201, 2548801]          0\n",
              "(2548801, 2552401]          0\n",
              "(2552401, 2556001]          0\n",
              "(2556001, 2559601]          0\n",
              "(2559601, 2563201]          0\n",
              "(2563201, 2566801]          0\n",
              "(2566801, 2570401]          0\n",
              "(2570401, 2574001]          0\n",
              "(2574001, 2577601]          0\n",
              "(2577601, 2581201]          0\n",
              "(2581201, 2584801]          0\n",
              "(2584801, 2588401]          0\n",
              "(2588401, 2592001]          0\n",
              "(2592001, 2595601]          0\n",
              "(2595601, 2599201]          0\n",
              "(2599201, 2602801]          0\n",
              "(2602801, 2606401]          0\n",
              "(2606401, 2610001]          0\n",
              "(2610001, 2613601]          0\n",
              "(2613601, 2617201]          0\n",
              "(2617201, 2620801]          0\n",
              "(2620801, 2624401]          0\n",
              "(2624401, 2628001]          0\n",
              "(2628001, 2631601]          0\n",
              "(2631601, 2635201]          0\n",
              "(2635201, 2638801]          0\n",
              "(2638801, 2642401]          0\n",
              "(2642401, 2646001]          0\n",
              "(2646001, 2649601]          0\n",
              "(2649601, 2653201]          0\n",
              "(2653201, 2656801]          0\n",
              "(2656801, 2660401]          0\n",
              "(2660401, 2664001]          0\n",
              "(2664001, 2667601]          0\n",
              "(2667601, 2671201]          0\n",
              "(2671201, 2674801]          0\n",
              "(2674801, 2678401]          0\n",
              "(2678401, 2682001]          0\n",
              "(2682001, 2685601]          0\n",
              "(2685601, 2689201]          0\n",
              "(2689201, 2692801]          0\n",
              "(2692801, 2696401]          0\n",
              "(2696401, 2700001]          0\n",
              "(2700001, 2703601]          0\n",
              "(2703601, 2707201]          0\n",
              "(2707201, 2710801]          0\n",
              "(2710801, 2714401]          0\n",
              "(2714401, 2718001]          0\n",
              "(2718001, 2721601]          0\n",
              "(2721601, 2725201]          0\n",
              "(2725201, 2728801]          0\n",
              "(2728801, 2732401]          0\n",
              "(2732401, 2736001]          0\n",
              "(2736001, 2739601]          0\n",
              "(2739601, 2743201]          0\n",
              "(2743201, 2746801]          0\n",
              "(2746801, 2750401]          0\n",
              "(2750401, 2754001]          0\n",
              "(2754001, 2757601]          0\n",
              "(2757601, 2761201]          0\n",
              "(2761201, 2764801]          0\n",
              "(2764801, 2768401]          0\n",
              "(2768401, 2772001]          0\n",
              "(2772001, 2775601]          0\n",
              "(2775601, 2779201]          0\n",
              "(2779201, 2782801]          0\n",
              "(2782801, 2786401]          0\n",
              "(2786401, 2790001]          0\n",
              "(2790001, 2793601]          0\n",
              "(2793601, 2797201]          0\n",
              "(2797201, 2800801]          0\n",
              "(2800801, 2804401]          0\n",
              "(2804401, 2808001]          0\n",
              "(2808001, 2811601]          0\n",
              "(2811601, 2815201]          0\n",
              "(2815201, 2818801]          0\n",
              "(2818801, 2822401]          0\n",
              "(2822401, 2826001]          0\n",
              "(2826001, 2829601]          0\n",
              "(2829601, 2833201]          0\n",
              "(2833201, 2836801]          0\n",
              "(2836801, 2840401]          0\n",
              "(2840401, 2844001]          0\n",
              "(2844001, 2847601]          0\n",
              "(2847601, 2851201]          0\n",
              "(2851201, 2854801]          0\n",
              "(2854801, 2858401]          0\n",
              "(2858401, 2862001]          0\n",
              "(2862001, 2865601]          0\n",
              "(2865601, 2869201]          0\n",
              "(2869201, 2872801]          0\n",
              "(2872801, 2876401]          0\n",
              "(2876401, 2880001]          0\n",
              "(2880001, 2883601]          0\n",
              "(2883601, 2887201]          0\n",
              "(2887201, 2890801]          0\n",
              "(2890801, 2894401]          0\n",
              "(2894401, 2898001]          0\n",
              "(2898001, 2901601]          0\n",
              "(2901601, 2905201]          0\n",
              "(2905201, 2908801]          0\n",
              "(2908801, 2912401]          0\n",
              "(2912401, 2916001]          0\n",
              "(2916001, 2919601]          0\n",
              "(2919601, 2923201]          0\n",
              "(2923201, 2926801]          0\n",
              "(2926801, 2930401]          0\n",
              "(2930401, 2934001]          0\n",
              "(2934001, 2937601]          0\n",
              "(2937601, 2941201]          0\n",
              "(2941201, 2944801]          0\n",
              "(2944801, 2948401]          0\n",
              "(2948401, 2952001]          0\n",
              "(2952001, 2955601]          0\n",
              "(2955601, 2959201]          0\n",
              "(2959201, 2962801]          0\n",
              "(2962801, 2966401]          0\n",
              "(2966401, 2970001]          0\n",
              "(2970001, 2973601]          0\n",
              "(2973601, 2977201]          0\n",
              "(2977201, 2980801]          0\n",
              "(2980801, 2984401]          0\n",
              "(2984401, 2988001]          0\n",
              "(2988001, 2991601]          0\n",
              "(2991601, 2995201]          0\n",
              "(2995201, 2998801]          0\n",
              "(2998801, 3002401]          0\n",
              "(3002401, 3006001]          0\n",
              "(3006001, 3009601]          0\n",
              "(3009601, 3013201]          0\n",
              "(3013201, 3016801]          0\n",
              "(3016801, 3020401]          0\n",
              "(3020401, 3024001]          0\n",
              "(3024001, 3027601]          0\n",
              "(3027601, 3031201]          0\n",
              "(3031201, 3034801]          0\n",
              "(3034801, 3038401]          0\n",
              "(3038401, 3042001]          0\n",
              "(3042001, 3045601]          0\n",
              "(3045601, 3049201]          0\n",
              "(3049201, 3052801]          0\n",
              "(3052801, 3056401]          0\n",
              "(3056401, 3060001]          0\n",
              "(3060001, 3063601]          0\n",
              "(3063601, 3067201]          0\n",
              "(3067201, 3070801]          0\n",
              "(3070801, 3074401]          0\n",
              "(3074401, 3078001]          0\n",
              "(3078001, 3081601]          0\n",
              "(3081601, 3085201]          0\n",
              "(3085201, 3088801]          0\n",
              "(3088801, 3092401]          0\n",
              "(3092401, 3096001]          0\n",
              "(3096001, 3099601]          0\n",
              "(3099601, 3103201]          0\n",
              "(3103201, 3106801]          0\n",
              "(3106801, 3110401]          0\n",
              "(3110401, 3114001]          0\n",
              "(3114001, 3117601]          0\n",
              "(3117601, 3121201]          0\n",
              "(3121201, 3124801]          0\n",
              "(3124801, 3128401]          0\n",
              "(3128401, 3132001]          0\n",
              "(3132001, 3135601]          0\n",
              "(3135601, 3139201]          0\n",
              "(3139201, 3142801]          0\n",
              "(3142801, 3146401]          0\n",
              "(3146401, 3150001]          0\n",
              "(3150001, 3153601]          0\n",
              "(3153601, 3157201]          0\n",
              "(3157201, 3160801]          0\n",
              "(3160801, 3164401]          0\n",
              "(3164401, 3168001]          0\n",
              "(3168001, 3171601]          0\n",
              "(3171601, 3175201]          0\n",
              "(3175201, 3178801]          0\n",
              "(3178801, 3182401]          0\n",
              "(3182401, 3186001]          0\n",
              "(3186001, 3189601]          0\n",
              "(3189601, 3193201]          0\n",
              "(3193201, 3196801]          0\n",
              "(3196801, 3200401]          0\n",
              "(3200401, 3204001]          0\n",
              "(3204001, 3207601]          0\n",
              "(3207601, 3211201]          0\n",
              "(3211201, 3214801]          0\n",
              "(3214801, 3218401]          0\n",
              "(3218401, 3222001]          0\n",
              "(3222001, 3225601]          0\n",
              "(3225601, 3229201]          0\n",
              "(3229201, 3232801]          0\n",
              "(3232801, 3236401]          0\n",
              "(3236401, 3240001]          0\n",
              "(3240001, 3243601]          0\n",
              "(3243601, 3247201]          0\n",
              "(3247201, 3250801]          0\n",
              "(3250801, 3254401]          0\n",
              "(3254401, 3258001]          0\n",
              "(3258001, 3261601]          0\n",
              "(3261601, 3265201]          0\n",
              "(3265201, 3268801]          0\n",
              "(3268801, 3272401]          0\n",
              "(3272401, 3276001]          0\n",
              "(3276001, 3279601]          0\n",
              "(3279601, 3283201]          0\n",
              "(3283201, 3286801]          0\n",
              "(3286801, 3290401]          0\n",
              "(3290401, 3294001]          0\n",
              "(3294001, 3297601]          0\n",
              "(3297601, 3301201]          0\n",
              "(3301201, 3304801]          0\n",
              "(3304801, 3308401]          0\n",
              "(3308401, 3312001]          0\n",
              "(3312001, 3315601]          0\n",
              "(3315601, 3319201]          0\n",
              "(3319201, 3322801]          0\n",
              "(3322801, 3326401]          0\n",
              "(3326401, 3330001]          0\n",
              "(3330001, 3333601]          0\n",
              "(3333601, 3337201]          0\n",
              "(3337201, 3340801]          0\n",
              "(3340801, 3344401]          0\n",
              "(3344401, 3348001]          0\n",
              "(3348001, 3351601]          0\n",
              "(3351601, 3355201]          0\n",
              "(3355201, 3358801]          0\n",
              "(3358801, 3362401]          0\n",
              "(3362401, 3366001]          0\n",
              "(3366001, 3369601]          0\n",
              "(3369601, 3373201]          0\n",
              "(3373201, 3376801]          0\n",
              "(3376801, 3380401]          0\n",
              "(3380401, 3384001]          0\n",
              "(3384001, 3387601]          0\n",
              "(3387601, 3391201]          0\n",
              "(3391201, 3394801]          0\n",
              "(3394801, 3398401]          0\n",
              "(3398401, 3402001]          0\n",
              "(3402001, 3405601]          0\n",
              "(3405601, 3409201]          0\n",
              "(3409201, 3412801]          0\n",
              "(3412801, 3416401]          0\n",
              "(3416401, 3420001]          0\n",
              "(3420001, 3423601]          0\n",
              "(3423601, 3427201]          0\n",
              "(3427201, 3430801]          0\n",
              "(3430801, 3434401]          0\n",
              "(3434401, 3438001]          0\n",
              "(3438001, 3441601]          0\n",
              "(3441601, 3445201]          0\n",
              "(3445201, 3448801]          0\n",
              "(3448801, 3452401]          0\n",
              "(3452401, 3456001]          0\n",
              "(3456001, 3459601]          0\n",
              "(3459601, 3463201]          0\n",
              "(3463201, 3466801]          0\n",
              "(3466801, 3470401]          0\n",
              "(3470401, 3474001]          0\n",
              "(3474001, 3477601]          0\n",
              "(3477601, 3481201]          0\n",
              "(3481201, 3484801]          0\n",
              "(3484801, 3488401]          0\n",
              "(3488401, 3492001]          0\n",
              "(3492001, 3495601]          0\n",
              "(3495601, 3499201]          0\n",
              "(3499201, 3502801]          0\n",
              "(3502801, 3506401]          0\n",
              "(3506401, 3510001]          0\n",
              "(3510001, 3513601]          0\n",
              "(3513601, 3517201]          0\n",
              "(3517201, 3520801]          0\n",
              "(3520801, 3524401]          0\n",
              "Name: trip_duration, dtype: int64"
            ]
          },
          "metadata": {},
          "execution_count": 23
        }
      ],
      "source": [
        "taxi_df.trip_duration.groupby(pd.cut(taxi_df.trip_duration, np.arange(1,max(taxi_df.trip_duration),3600))).count()"
      ]
    },
    {
      "cell_type": "markdown",
      "metadata": {
        "id": "9NePTSnN7SAR"
      },
      "source": [
        "### Checking for trips taken within 0-30 mins."
      ]
    },
    {
      "cell_type": "code",
      "execution_count": 24,
      "metadata": {
        "colab": {
          "base_uri": "https://localhost:8080/",
          "height": 279
        },
        "id": "BaMQppy244YC",
        "outputId": "bdf5df88-4118-4020-b95d-1063794db418"
      },
      "outputs": [
        {
          "output_type": "display_data",
          "data": {
            "text/plain": [
              "<Figure size 432x288 with 1 Axes>"
            ],
            "image/png": "[encoded data removed]"
          },
          "metadata": {
            "needs_background": "light"
          }
        }
      ],
      "source": [
        "taxi_df.trip_duration.groupby(pd.cut(taxi_df.trip_duration, np.arange(1,7200,600))).count().plot(kind='barh')\n",
        "plt.xlabel('Trip Counts')\n",
        "plt.ylabel('Trip Duration (seconds)')\n",
        "plt.show()"
      ]
    },
    {
      "cell_type": "markdown",
      "metadata": {
        "id": "Tp_jQNMt7d1w"
      },
      "source": [
        "### From the above observation we can see that most of the trip duration is completed almost within half an hour i.e, 26 mins(1600 seconds). Also there are very few trips that have duration more than 2000 seconds and some are as low as 1 second(0 km distance). We can remove trips between 0 and 60 secs for data consistency"
      ]
    },
    {
      "cell_type": "code",
      "execution_count": 25,
      "metadata": {
        "id": "jYHU_w9bI5iX"
      },
      "outputs": [],
      "source": [
        "# Now to remove outliers i.e, trips with duration more than 86402 seconds and less than 60 seconds\n",
        "taxi_df = taxi_df[taxi_df.trip_duration <= 86402]\n",
        "taxi_df = taxi_df[taxi_df.trip_duration >= 60]"
      ]
    },
    {
      "cell_type": "code",
      "execution_count": 26,
      "metadata": {
        "colab": {
          "base_uri": "https://localhost:8080/"
        },
        "id": "bMDRhpv-JIA_",
        "outputId": "00ff669e-4d30-4808-a385-bdecaae87c31"
      },
      "outputs": [
        {
          "output_type": "execute_result",
          "data": {
            "text/plain": [
              "(1450045, 21)"
            ]
          },
          "metadata": {},
          "execution_count": 26
        }
      ],
      "source": [
        "taxi_df.shape"
      ]
    },
    {
      "cell_type": "markdown",
      "metadata": {
        "id": "usYZsWy_ECrl"
      },
      "source": [
        "### Countplot for Vendor id"
      ]
    },
    {
      "cell_type": "code",
      "execution_count": 27,
      "metadata": {
        "colab": {
          "base_uri": "https://localhost:8080/",
          "height": 297
        },
        "id": "IaQOzXqnEB9l",
        "outputId": "dbcdba91-fce5-4bf1-919d-e739c937c143"
      },
      "outputs": [
        {
          "output_type": "execute_result",
          "data": {
            "text/plain": [
              "<matplotlib.axes._subplots.AxesSubplot at 0x7f75ef3b8bd0>"
            ]
          },
          "metadata": {},
          "execution_count": 27
        },
        {
          "output_type": "display_data",
          "data": {
            "text/plain": [
              "<Figure size 432x288 with 1 Axes>"
            ],
            "image/png": "[encoded data removed]"
          },
          "metadata": {
            "needs_background": "light"
          }
        }
      ],
      "source": [
        "sns.countplot(x='vendor_id',data=taxi_df)"
      ]
    },
    {
      "cell_type": "markdown",
      "metadata": {
        "id": "kGOyIZq3FQoP"
      },
      "source": [
        "### There are a total 2 vendors and vendor 2 is slightly higher than vendor 1."
      ]
    },
    {
      "cell_type": "markdown",
      "metadata": {
        "id": "mvrvFitbGrq-"
      },
      "source": [
        "# Counting under passenger variable"
      ]
    },
    {
      "cell_type": "code",
      "execution_count": 28,
      "metadata": {
        "colab": {
          "base_uri": "https://localhost:8080/"
        },
        "id": "b5urPjKAGq1t",
        "outputId": "db0e4210-af99-4ff8-98a6-d9b999310cc8"
      },
      "outputs": [
        {
          "output_type": "execute_result",
          "data": {
            "text/plain": [
              "1    1026683\n",
              "2     209422\n",
              "5      77799\n",
              "3      59670\n",
              "6      48167\n",
              "4      28284\n",
              "0         18\n",
              "9          1\n",
              "8          1\n",
              "Name: passenger_count, dtype: int64"
            ]
          },
          "metadata": {},
          "execution_count": 28
        }
      ],
      "source": [
        "taxi_df.passenger_count.value_counts()"
      ]
    },
    {
      "cell_type": "code",
      "execution_count": 29,
      "metadata": {
        "colab": {
          "base_uri": "https://localhost:8080/",
          "height": 308
        },
        "id": "E0q1DD-DKpve",
        "outputId": "b31f3d2f-dddd-4fba-a86f-d2c471957504"
      },
      "outputs": [
        {
          "output_type": "execute_result",
          "data": {
            "text/plain": [
              "<matplotlib.axes._subplots.AxesSubplot at 0x7f76142efa10>"
            ]
          },
          "metadata": {},
          "execution_count": 29
        },
        {
          "output_type": "display_data",
          "data": {
            "text/plain": [
              "<Figure size 432x288 with 1 Axes>"
            ],
            "image/png": "[encoded data removed]"
          },
          "metadata": {
            "needs_background": "light"
          }
        }
      ],
      "source": [
        "sns.countplot(x='passenger_count',data=taxi_df)"
      ]
    },
    {
      "cell_type": "markdown",
      "metadata": {
        "id": "WAa5T_yDG-Su"
      },
      "source": [
        "# As we can see there are 18 trips with 0 passengers. We need to remove it as it may be due to cancellation.\n",
        "# As for passengers above 6, there is a cab called maxicab which carry upto 12 passengers, but since there are only 2 trips of above 6 passengers it doesn't make any difference. Therefore removing 0 and above 6 passenger seats."
      ]
    },
    {
      "cell_type": "code",
      "execution_count": 30,
      "metadata": {
        "id": "9Ygs-HUvHq5d"
      },
      "outputs": [],
      "source": [
        "taxi_df=taxi_df[taxi_df['passenger_count']!=0]\n",
        "taxi_df=taxi_df[taxi_df['passenger_count']<=6]"
      ]
    },
    {
      "cell_type": "code",
      "execution_count": 31,
      "metadata": {
        "colab": {
          "base_uri": "https://localhost:8080/"
        },
        "id": "lgGpHaH9I1TI",
        "outputId": "2ff413a6-2fac-4432-a9ab-d117045735f3"
      },
      "outputs": [
        {
          "output_type": "execute_result",
          "data": {
            "text/plain": [
              "1    1026683\n",
              "2     209422\n",
              "5      77799\n",
              "3      59670\n",
              "6      48167\n",
              "4      28284\n",
              "Name: passenger_count, dtype: int64"
            ]
          },
          "metadata": {},
          "execution_count": 31
        }
      ],
      "source": [
        "taxi_df.passenger_count.value_counts()"
      ]
    },
    {
      "cell_type": "markdown",
      "metadata": {
        "id": "3py5SrjnK7v0"
      },
      "source": [
        "# Store and Forward Flag"
      ]
    },
    {
      "cell_type": "code",
      "execution_count": 32,
      "metadata": {
        "colab": {
          "base_uri": "https://localhost:8080/"
        },
        "id": "Jx1O8EECK7D1",
        "outputId": "647ac6fe-513d-401a-ee67-b50b1140635a"
      },
      "outputs": [
        {
          "output_type": "execute_result",
          "data": {
            "text/plain": [
              "N    1442117\n",
              "Y       7908\n",
              "Name: store_and_fwd_flag, dtype: int64"
            ]
          },
          "metadata": {},
          "execution_count": 32
        }
      ],
      "source": [
        "taxi_df['store_and_fwd_flag'].value_counts()"
      ]
    },
    {
      "cell_type": "markdown",
      "metadata": {
        "id": "QuJbbgToLuM9"
      },
      "source": [
        "# From Store and Forward Flag almost all the trip records were not connected to server."
      ]
    },
    {
      "cell_type": "markdown",
      "metadata": {
        "id": "i2GRh6HXOOCl"
      },
      "source": [
        "# Distance count"
      ]
    },
    {
      "cell_type": "code",
      "execution_count": 33,
      "metadata": {
        "colab": {
          "base_uri": "https://localhost:8080/"
        },
        "id": "_n59Ec2tOMVV",
        "outputId": "1d33b222-326f-458c-d1ff-a9c40c7b824d"
      },
      "outputs": [
        {
          "output_type": "execute_result",
          "data": {
            "text/plain": [
              "0.000000    4220\n",
              "0.000424       9\n",
              "0.000848       5\n",
              "0.000424       5\n",
              "0.002121       3\n",
              "Name: distance, dtype: int64"
            ]
          },
          "metadata": {},
          "execution_count": 33
        }
      ],
      "source": [
        "taxi_df['distance'].value_counts().head()"
      ]
    },
    {
      "cell_type": "markdown",
      "metadata": {
        "id": "FQ-tKYk2Oj1d"
      },
      "source": [
        "### There are around 4218 trips with 0 distance, possibly due to cancellation or there is no GPS for that location."
      ]
    },
    {
      "cell_type": "markdown",
      "metadata": {
        "id": "KmxySGP4JimU"
      },
      "source": [
        "### Trips per times of the day"
      ]
    },
    {
      "cell_type": "code",
      "execution_count": 34,
      "metadata": {
        "colab": {
          "base_uri": "https://localhost:8080/",
          "height": 404
        },
        "id": "wAI7DH5KJOgG",
        "outputId": "99d1a376-9ca7-4f8a-b5e5-77e0945a1a76"
      },
      "outputs": [
        {
          "output_type": "display_data",
          "data": {
            "text/plain": [
              "<Figure size 720x432 with 1 Axes>"
            ],
            "image/png": "[encoded data removed]"
          },
          "metadata": {
            "needs_background": "light"
          }
        }
      ],
      "source": [
        "plt.figure(figsize = (10,6))\n",
        "sns.countplot(x=\"pickup_tod\", data=taxi_df)\n",
        "plt.title('Times of the Day')\n",
        "plt.xlabel('Parts of the Day')\n",
        "plt.ylabel('Count')\n",
        "plt.show()"
      ]
    },
    {
      "cell_type": "markdown",
      "metadata": {
        "id": "OpoWEzYIQtH2"
      },
      "source": [
        "### As we can see night is the busiest and afternoon is least busy."
      ]
    },
    {
      "cell_type": "markdown",
      "metadata": {
        "id": "b11Fme6JQ-RX"
      },
      "source": [
        "# Trips per Day"
      ]
    },
    {
      "cell_type": "code",
      "execution_count": 35,
      "metadata": {
        "colab": {
          "base_uri": "https://localhost:8080/",
          "height": 404
        },
        "id": "I9i3ZsI8Q9sf",
        "outputId": "663a73c5-0c88-4c63-9ec9-5cbddbdeca83"
      },
      "outputs": [
        {
          "output_type": "display_data",
          "data": {
            "text/plain": [
              "<Figure size 720x432 with 1 Axes>"
            ],
            "image/png": "[encoded data removed]"
          },
          "metadata": {
            "needs_background": "light"
          }
        }
      ],
      "source": [
        "plt.figure(figsize = (10,6))\n",
        "sns.countplot(x=\"picked_up_day\", data=taxi_df)\n",
        "plt.title('Days of the week')\n",
        "plt.xlabel('Days')\n",
        "plt.ylabel('Count')\n",
        "plt.show()"
      ]
    },
    {
      "cell_type": "markdown",
      "metadata": {
        "id": "JDWLzPrHRYHO"
      },
      "source": [
        "### Weekends are the busiest and Monday is the least busiest."
      ]
    },
    {
      "cell_type": "markdown",
      "metadata": {
        "id": "D4P6J0wuR6MX"
      },
      "source": [
        "# Trips per Hour"
      ]
    },
    {
      "cell_type": "code",
      "execution_count": 36,
      "metadata": {
        "colab": {
          "base_uri": "https://localhost:8080/",
          "height": 404
        },
        "id": "P3NzhFVQKBYO",
        "outputId": "8d86a37c-1499-4134-ae70-843da7616423"
      },
      "outputs": [
        {
          "output_type": "display_data",
          "data": {
            "text/plain": [
              "<Figure size 720x432 with 1 Axes>"
            ],
            "image/png": "[encoded data removed]"
          },
          "metadata": {
            "needs_background": "light"
          }
        }
      ],
      "source": [
        "plt.figure(figsize = (10,6))\n",
        "sns.countplot(x=\"picked_up_hour\", data=taxi_df)\n",
        "plt.title('Hours of the day')\n",
        "plt.xlabel('Hours')\n",
        "plt.ylabel('Count')\n",
        "plt.show()"
      ]
    },
    {
      "cell_type": "markdown",
      "metadata": {
        "id": "zpa07pwiSVkV"
      },
      "source": [
        "### Peak hours are from 6PM to 7PM. Probably they are returning from work."
      ]
    },
    {
      "cell_type": "markdown",
      "metadata": {
        "id": "73HhYP10S7ku"
      },
      "source": [
        "# Trips per month"
      ]
    },
    {
      "cell_type": "code",
      "execution_count": 37,
      "metadata": {
        "colab": {
          "base_uri": "https://localhost:8080/",
          "height": 404
        },
        "id": "YIb9d89FSRA8",
        "outputId": "9338583e-04c7-4599-ae78-055694d22f52"
      },
      "outputs": [
        {
          "output_type": "display_data",
          "data": {
            "text/plain": [
              "<Figure size 720x432 with 1 Axes>"
            ],
            "image/png": "[encoded data removed]"
          },
          "metadata": {
            "needs_background": "light"
          }
        }
      ],
      "source": [
        "plt.figure(figsize = (10,6))\n",
        "sns.countplot(x=\"month\", data=taxi_df)\n",
        "plt.title('Months of the year')\n",
        "plt.xlabel('Months')\n",
        "plt.ylabel('Count')\n",
        "plt.show()"
      ]
    },
    {
      "cell_type": "code",
      "execution_count": 38,
      "metadata": {
        "colab": {
          "base_uri": "https://localhost:8080/"
        },
        "id": "ZWkvG7mQTL5s",
        "outputId": "cfc6372d-f9fb-4002-a501-f4ede57ca811"
      },
      "outputs": [
        {
          "output_type": "execute_result",
          "data": {
            "text/plain": [
              "2016    1450025\n",
              "Name: year, dtype: int64"
            ]
          },
          "metadata": {},
          "execution_count": 38
        }
      ],
      "source": [
        "taxi_df['year'].value_counts()"
      ]
    },
    {
      "cell_type": "markdown",
      "metadata": {
        "id": "muBjpYW8Tj31"
      },
      "source": [
        "### This looks like half-a-year worth of data. March seems to be significant but still there is not much difference"
      ]
    },
    {
      "cell_type": "markdown",
      "metadata": {
        "id": "_5jYG3frXwBd"
      },
      "source": [
        "# Speed"
      ]
    },
    {
      "cell_type": "markdown",
      "source": [
        "In NYC the maximum speed limit 40 km/hr in urban areas and 104 km/hr on highways."
      ],
      "metadata": {
        "id": "q--u3aEB28Rq"
      }
    },
    {
      "cell_type": "code",
      "source": [
        "plt.figure(figsize = (20,5))\n",
        "sns.boxplot(taxi_df.speed)\n",
        "plt.show()"
      ],
      "metadata": {
        "colab": {
          "base_uri": "https://localhost:8080/",
          "height": 389
        },
        "id": "8LBaQ8X83eJo",
        "outputId": "461e8297-0596-4e24-d360-4a96007955c3"
      },
      "execution_count": 43,
      "outputs": [
        {
          "output_type": "stream",
          "name": "stderr",
          "text": [
            "/usr/local/lib/python3.7/dist-packages/seaborn/_decorators.py:43: FutureWarning: Pass the following variable as a keyword arg: x. From version 0.12, the only valid positional argument will be `data`, and passing other arguments without an explicit keyword will result in an error or misinterpretation.\n",
            "  FutureWarning\n"
          ]
        },
        {
          "output_type": "display_data",
          "data": {
            "text/plain": [
              "<Figure size 1440x360 with 1 Axes>"
            ],
            "image/png": "[encoded data removed]"
          },
          "metadata": {
            "needs_background": "light"
          }
        }
      ]
    },
    {
      "cell_type": "markdown",
      "source": [
        "### Removing trips with speeds of over 200 km/hr for data consistency."
      ],
      "metadata": {
        "id": "J1XFPOyQ4JuJ"
      }
    },
    {
      "cell_type": "code",
      "source": [
        "taxi_df = taxi_df[taxi_df['speed'] <= 104]\n",
        "plt.figure(figsize = (20,5))\n",
        "sns.boxplot(taxi_df.speed)\n",
        "plt.show()"
      ],
      "metadata": {
        "colab": {
          "base_uri": "https://localhost:8080/",
          "height": 389
        },
        "id": "QSGZXRJ-4GsJ",
        "outputId": "608b30da-ae52-484a-c60f-3293e58fde41"
      },
      "execution_count": 45,
      "outputs": [
        {
          "output_type": "stream",
          "name": "stderr",
          "text": [
            "/usr/local/lib/python3.7/dist-packages/seaborn/_decorators.py:43: FutureWarning: Pass the following variable as a keyword arg: x. From version 0.12, the only valid positional argument will be `data`, and passing other arguments without an explicit keyword will result in an error or misinterpretation.\n",
            "  FutureWarning\n"
          ]
        },
        {
          "output_type": "display_data",
          "data": {
            "text/plain": [
              "<Figure size 1440x360 with 1 Axes>"
            ],
            "image/png": "[encoded data removed]"
          },
          "metadata": {
            "needs_background": "light"
          }
        }
      ]
    },
    {
      "cell_type": "markdown",
      "source": [
        "### Most of the trips are done under 0-20 km/hr and above 30 km/hr are all outliers but still they are under the 104 km/hr which is the maximum speed limit. "
      ],
      "metadata": {
        "id": "8XGAzxcv4oxR"
      }
    },
    {
      "cell_type": "code",
      "source": [
        "taxi_df.speed.groupby(pd.cut(taxi_df.speed, np.arange(0,104,10))).count().plot(kind = 'barh')\n",
        "plt.xlabel('Trip count')\n",
        "plt.ylabel('Speed (Km/H)')\n",
        "plt.show()"
      ],
      "metadata": {
        "colab": {
          "base_uri": "https://localhost:8080/",
          "height": 279
        },
        "id": "aID40FGE5noJ",
        "outputId": "886356fb-f30f-4f8c-befe-489614544216"
      },
      "execution_count": 46,
      "outputs": [
        {
          "output_type": "display_data",
          "data": {
            "text/plain": [
              "<Figure size 432x288 with 1 Axes>"
            ],
            "image/png": "[encoded data removed]"
          },
          "metadata": {
            "needs_background": "light"
          }
        }
      ]
    },
    {
      "cell_type": "markdown",
      "source": [
        "### In the above graph most of the trips are with 10-20 km/hr range as mentioned earlier."
      ],
      "metadata": {
        "id": "BpQx6EhmCf50"
      }
    },
    {
      "cell_type": "markdown",
      "metadata": {
        "id": "ruIVKmeqT8VF"
      },
      "source": [
        "# Bivariate Analysis"
      ]
    },
    {
      "cell_type": "code",
      "execution_count": 48,
      "metadata": {
        "id": "coRpUdc0Thg9"
      },
      "outputs": [],
      "source": [
        "num_features = ['vendor_id','passenger_count','picked_up_hour','distance','speed']\n",
        "cat_features = ['pickup_tod','picked_up_day','month']\n",
        "dependent = 'trip_duration'"
      ]
    },
    {
      "cell_type": "code",
      "execution_count": 49,
      "metadata": {
        "colab": {
          "base_uri": "https://localhost:8080/",
          "height": 1000
        },
        "id": "z1Th_QQuWHh4",
        "outputId": "5cfb4a3b-405e-4217-f14b-102e2f38a8e8"
      },
      "outputs": [
        {
          "output_type": "display_data",
          "data": {
            "text/plain": [
              "<Figure size 648x432 with 1 Axes>"
            ],
            "image/png": "[encoded data removed]"
          },
          "metadata": {
            "needs_background": "light"
          }
        },
        {
          "output_type": "display_data",
          "data": {
            "text/plain": [
              "<Figure size 648x432 with 1 Axes>"
            ],
            "image/png": "[encoded data removed]"
          },
          "metadata": {
            "needs_background": "light"
          }
        },
        {
          "output_type": "display_data",
          "data": {
            "text/plain": [
              "<Figure size 648x432 with 1 Axes>"
            ],
            "image/png": "[encoded data removed]"
          },
          "metadata": {
            "needs_background": "light"
          }
        },
        {
          "output_type": "display_data",
          "data": {
            "text/plain": [
              "<Figure size 648x432 with 1 Axes>"
            ],
            "image/png": "[encoded data removed]"
          },
          "metadata": {
            "needs_background": "light"
          }
        },
        {
          "output_type": "display_data",
          "data": {
            "text/plain": [
              "<Figure size 648x432 with 1 Axes>"
            ],
            "image/png": "[encoded data removed]"
          },
          "metadata": {
            "needs_background": "light"
          }
        }
      ],
      "source": [
        "for col in num_features:\n",
        "    fig = plt.figure(figsize=(9, 6))\n",
        "    ax = fig.gca()\n",
        "    feature = taxi_df[col]\n",
        "    label = taxi_df[dependent]\n",
        "    correlation = feature.corr(label)\n",
        "    plt.scatter(x=feature, y=label)\n",
        "    plt.xlabel(col)\n",
        "    plt.ylabel('Trip Duration')\n",
        "    ax.set_title('Trip Duration vs ' + col + '- correlation: ' + str(correlation))\n",
        "    z = np.polyfit(taxi_df[col], taxi_df[dependent], 1)\n",
        "    y_hat = np.poly1d(z)(taxi_df[col])\n",
        "\n",
        "    plt.plot(taxi_df[col], y_hat, \"r--\", lw=1)\n",
        "\n",
        "plt.show()"
      ]
    },
    {
      "cell_type": "markdown",
      "source": [
        "\n",
        "\n",
        "1.   Trip duration vs Vendor ID, here Vendor 2 has trips upto 24 hrs.\n",
        "2.   Trip duration vs passengers, here single passengers have trip duration upto 24 hrs.\n",
        "3.   Trip duration vs picked_up_hour, \n",
        "4.   Trip duration vs distance, here most of the trips are under \n",
        "\n",
        "\n",
        "\n",
        "\n",
        "\n"
      ],
      "metadata": {
        "id": "LguooVm-Go89"
      }
    },
    {
      "cell_type": "code",
      "source": [
        " ## Correlation\n",
        "plt.figure(figsize=(15,8))\n",
        "correlation = taxi_df.corr()\n",
        "sns.heatmap(abs(correlation), annot=True, cmap='coolwarm')"
      ],
      "metadata": {
        "colab": {
          "base_uri": "https://localhost:8080/",
          "height": 582
        },
        "id": "0YPLlPOSDryV",
        "outputId": "8debe1cc-76bd-48b8-b19e-c565ce13eca4"
      },
      "execution_count": 50,
      "outputs": [
        {
          "output_type": "execute_result",
          "data": {
            "text/plain": [
              "<matplotlib.axes._subplots.AxesSubplot at 0x7f75ee6d9c50>"
            ]
          },
          "metadata": {},
          "execution_count": 50
        },
        {
          "output_type": "display_data",
          "data": {
            "text/plain": [
              "<Figure size 1080x576 with 2 Axes>"
            ],
            "image/png": "[encoded data removed]"
          },
          "metadata": {
            "needs_background": "light"
          }
        }
      ]
    },
    {
      "cell_type": "markdown",
      "source": [
        "### Trip Duration per hour"
      ],
      "metadata": {
        "id": "uefIcWsqN_15"
      }
    },
    {
      "cell_type": "code",
      "source": [
        "# Line plot for picked_up_hour, trip duration\n",
        "plt.figure(figsize = (10,6))\n",
        "sns.lineplot(x='picked_up_hour',y='trip_duration',data=taxi_df)\n",
        "plt.xlabel('Time of Pickup (24hr format)')\n",
        "plt.ylabel('Trip Duration (seconds)')\n",
        "plt.show()"
      ],
      "metadata": {
        "colab": {
          "base_uri": "https://localhost:8080/",
          "height": 388
        },
        "id": "TBU4coFaFBm9",
        "outputId": "d7b63f0f-4d00-4e31-bcb5-22de2217a92c"
      },
      "execution_count": 51,
      "outputs": [
        {
          "output_type": "display_data",
          "data": {
            "text/plain": [
              "<Figure size 720x432 with 1 Axes>"
            ],
            "image/png": "[encoded data removed]"
          },
          "metadata": {
            "needs_background": "light"
          }
        }
      ]
    },
    {
      "cell_type": "markdown",
      "source": [
        "The duration is maximum at 3PM and lowest at 6AM."
      ],
      "metadata": {
        "id": "Q-5MtnSUOjeR"
      }
    },
    {
      "cell_type": "markdown",
      "source": [
        "## Trip duration per weekday"
      ],
      "metadata": {
        "id": "fSsggz1TOzGP"
      }
    },
    {
      "cell_type": "code",
      "source": [
        "# Line plot for picked_up_day, trip duration\n",
        "plt.figure(figsize = (10,6))\n",
        "sns.lineplot(x='picked_up_day',y='trip_duration',data=taxi_df)\n",
        "plt.ylabel('Trip Duration (seconds)')\n",
        "plt.xlabel('Days of the week')\n",
        "plt.show()"
      ],
      "metadata": {
        "colab": {
          "base_uri": "https://localhost:8080/",
          "height": 388
        },
        "id": "ju-P4qdnOK_v",
        "outputId": "a0d0db97-ba39-4865-adfa-d8e0f0a5ea72"
      },
      "execution_count": 55,
      "outputs": [
        {
          "output_type": "display_data",
          "data": {
            "text/plain": [
              "<Figure size 720x432 with 1 Axes>"
            ],
            "image/png": "[encoded data removed]"
          },
          "metadata": {
            "needs_background": "light"
          }
        }
      ]
    },
    {
      "cell_type": "markdown",
      "source": [
        "On thursdays the duration in maximum and on mondays the duration is minimum."
      ],
      "metadata": {
        "id": "MO53UAuORl9h"
      }
    },
    {
      "cell_type": "markdown",
      "source": [
        "## Trip duration per month"
      ],
      "metadata": {
        "id": "hN1QxoTdRD7g"
      }
    },
    {
      "cell_type": "code",
      "source": [
        "# Line plot for month and trip duration\n",
        "plt.figure(figsize = (10,6))\n",
        "sns.lineplot(x='month',y='trip_duration', data=taxi_df)\n",
        "plt.ylabel('Trip Duration (seconds)')\n",
        "plt.xlabel('Month of Trip ')\n",
        "\n",
        "plt.show()"
      ],
      "metadata": {
        "colab": {
          "base_uri": "https://localhost:8080/",
          "height": 388
        },
        "id": "lxLoJZKIQ2Cp",
        "outputId": "764c7bba-278d-4d74-91ba-8385738754ff"
      },
      "execution_count": 56,
      "outputs": [
        {
          "output_type": "display_data",
          "data": {
            "text/plain": [
              "<Figure size 720x432 with 1 Axes>"
            ],
            "image/png": "[encoded data removed]"
          },
          "metadata": {
            "needs_background": "light"
          }
        }
      ]
    },
    {
      "cell_type": "markdown",
      "source": [
        "## Trip Duration per Store and Forward Flag"
      ],
      "metadata": {
        "id": "Fk_8tWxHRGdw"
      }
    },
    {
      "cell_type": "code",
      "source": [
        "# Line plot for analyzing Trip Duration per Store and Forward Flag\n",
        "plt.figure(figsize = (10,6))\n",
        "sns.catplot(y='trip_duration',x='store_and_fwd_flag',data=taxi_df,kind='strip')\n",
        "plt.xlabel('Store and Forward Flag')\n",
        "plt.ylabel('Trip Duration (seconds)')\n",
        "plt.show()"
      ],
      "metadata": {
        "colab": {
          "base_uri": "https://localhost:8080/",
          "height": 385
        },
        "id": "jijk8J_cRLNI",
        "outputId": "bfb739f5-2276-4c11-8648-6790f8c38f52"
      },
      "execution_count": 57,
      "outputs": [
        {
          "output_type": "display_data",
          "data": {
            "text/plain": [
              "<Figure size 720x432 with 0 Axes>"
            ]
          },
          "metadata": {}
        },
        {
          "output_type": "display_data",
          "data": {
            "text/plain": [
              "<Figure size 360x360 with 1 Axes>"
            ],
            "image/png": "[encoded data removed]"
          },
          "metadata": {
            "needs_background": "light"
          }
        }
      ]
    },
    {
      "cell_type": "markdown",
      "source": [
        "## Trip Duration per Vendor"
      ],
      "metadata": {
        "id": "T53KrKoGRQjZ"
      }
    },
    {
      "cell_type": "code",
      "source": [
        "# Analyzing trip duration per vendor\n",
        "plt.figure(figsize = (10,6))\n",
        "sns.barplot(y='trip_duration',x='vendor_id',data=taxi_df,estimator=np.mean)\n",
        "plt.xlabel('Vendor ID')\n",
        "plt.ylabel('Trip Duration (seconds)')\n",
        "plt.show()"
      ],
      "metadata": {
        "colab": {
          "base_uri": "https://localhost:8080/",
          "height": 388
        },
        "id": "DNrZkVxjRSLB",
        "outputId": "b69f1ea4-4123-41d3-8b2d-cd6b19df0404"
      },
      "execution_count": 58,
      "outputs": [
        {
          "output_type": "display_data",
          "data": {
            "text/plain": [
              "<Figure size 720x432 with 1 Axes>"
            ],
            "image/png": "[encoded data removed]"
          },
          "metadata": {
            "needs_background": "light"
          }
        }
      ]
    },
    {
      "cell_type": "markdown",
      "source": [
        ""
      ],
      "metadata": {
        "id": "TCd1nIjfRZwQ"
      }
    }
  ],
  "metadata": {
    "colab": {
      "collapsed_sections": [],
      "name": "NYC Taxi Trip Time Prediction - Capstone Project.ipynb",
      "provenance": [],
      "include_colab_link": true
    },
    "kernelspec": {
      "display_name": "Python 3",
      "language": "python",
      "name": "python3"
    },
    "language_info": {
      "codemirror_mode": {
        "name": "ipython",
        "version": 3
      },
      "file_extension": ".py",
      "mimetype": "text/x-python",
      "name": "python",
      "nbconvert_exporter": "python",
      "pygments_lexer": "ipython3",
      "version": "3.6.6"
    }
  },
  "nbformat": 4,
  "nbformat_minor": 0
}